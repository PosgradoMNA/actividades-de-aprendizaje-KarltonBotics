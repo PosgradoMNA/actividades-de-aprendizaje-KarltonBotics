{
 "cells": [
  {
   "cell_type": "code",
   "execution_count": 1,
   "id": "d5fe8004",
   "metadata": {},
   "outputs": [
    {
     "data": {
      "text/plain": [
       "10"
      ]
     },
     "execution_count": 1,
     "metadata": {},
     "output_type": "execute_result"
    }
   ],
   "source": [
    "#Crear un diccionario y encontrar un valor\n",
    "Diccionario={'indice1':10, 'indice2':'Perro'}\n",
    "Diccionario['indice1']"
   ]
  },
  {
   "cell_type": "code",
   "execution_count": 2,
   "id": "0015c3d2",
   "metadata": {},
   "outputs": [
    {
     "data": {
      "text/plain": [
       "dict_keys(['indice1', 'indice2'])"
      ]
     },
     "execution_count": 2,
     "metadata": {},
     "output_type": "execute_result"
    }
   ],
   "source": [
    "#Encontrar los indices o llaves del diccionario\n",
    "Diccionario.keys()"
   ]
  },
  {
   "cell_type": "code",
   "execution_count": null,
   "id": "a0176c8e",
   "metadata": {},
   "outputs": [],
   "source": []
  }
 ],
 "metadata": {
  "kernelspec": {
   "display_name": "Python 3 (ipykernel)",
   "language": "python",
   "name": "python3"
  },
  "language_info": {
   "codemirror_mode": {
    "name": "ipython",
    "version": 3
   },
   "file_extension": ".py",
   "mimetype": "text/x-python",
   "name": "python",
   "nbconvert_exporter": "python",
   "pygments_lexer": "ipython3",
   "version": "3.10.7"
  }
 },
 "nbformat": 4,
 "nbformat_minor": 5
}
