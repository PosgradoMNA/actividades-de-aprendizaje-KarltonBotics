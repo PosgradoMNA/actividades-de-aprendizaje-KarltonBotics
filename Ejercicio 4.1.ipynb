{
 "cells": [
  {
   "cell_type": "code",
   "execution_count": null,
   "id": "5dcb6d36",
   "metadata": {},
   "outputs": [],
   "source": [
    "## Obtenemos datos de prueba\n",
    "\n",
    "import urllib.request\n",
    "url = 'https://cf-courses-data.s3.us.cloud-object-storage.appdomain.cloud/IBMDeveloperSkillsNetwork-PY0101EN-SkillsNetwork/labs/Module%204/data/example1.txt'\n",
    "filename = 'Example1.txt'\n",
    "urllib.request.urlretrieve(url, filename)\n",
    "\n",
    "## Download Example file\n",
    "!wget -O /resources/data/Example1.txt https://cf-courses-data.s3.us.cloud-object-storage.appdomain.cloud/IBMDeveloperSkillsNetwork-PY0101EN-SkillsNetwork/labs/Module%204/data/example1.tx"
   ]
  },
  {
   "cell_type": "code",
   "execution_count": null,
   "id": "b019797e",
   "metadata": {},
   "outputs": [],
   "source": [
    "from pyodide.http import pyfetch\n",
    "import pandas as pd\n",
    "\n",
    "filename = \"https://cf-courses-data.s3.us.cloud-object-storage.appdomain.cloud/IBMDeveloperSkillsNetwork-PY0101EN-SkillsNetwork/labs/Module%204/data/example1.txt\"\n",
    "\n",
    "async def download(url, filename):\n",
    "    response = await pyfetch(url)\n",
    "    if response.status == 200:\n",
    "        with open(filename, \"wb\") as f:\n",
    "            f.write(await response.bytes())\n",
    "\n",
    "\n",
    "await download(filename, \"Example1.txt\")"
   ]
  },
  {
   "cell_type": "code",
   "execution_count": null,
   "id": "4432b387",
   "metadata": {},
   "outputs": [],
   "source": [
    "# Read the Example1.txt\n",
    "example1 = \"Example1.txt\"\n",
    "file1 = open(example1, \"r\")"
   ]
  },
  {
   "cell_type": "code",
   "execution_count": null,
   "id": "d4581d53",
   "metadata": {},
   "outputs": [],
   "source": [
    "# Print the path of file\n",
    "file1.name"
   ]
  },
  {
   "cell_type": "code",
   "execution_count": null,
   "id": "d42addf8",
   "metadata": {},
   "outputs": [],
   "source": [
    "# Print the mode of file, either 'r' or 'w'\n",
    "file1.mode"
   ]
  },
  {
   "cell_type": "code",
   "execution_count": null,
   "id": "82c2e615",
   "metadata": {},
   "outputs": [],
   "source": [
    "# Read the file\n",
    "FileContent = file1.read()\n",
    "FileContent\n",
    "#/n, quiere decir que ahi hay un salgo de linea o que inicia un nuevo renglon"
   ]
  },
  {
   "cell_type": "code",
   "execution_count": null,
   "id": "6e481b40",
   "metadata": {},
   "outputs": [],
   "source": [
    "# Type of file content\n",
    "type(FileContent)"
   ]
  },
  {
   "cell_type": "code",
   "execution_count": null,
   "id": "d6556208",
   "metadata": {},
   "outputs": [],
   "source": [
    "# Close file after finish\n",
    "file1.close()"
   ]
  },
  {
   "cell_type": "code",
   "execution_count": null,
   "id": "a489cfd7",
   "metadata": {},
   "outputs": [],
   "source": [
    "# Open file using with\n",
    "#Este codigo imprime todo porque funciona como un ciclo, imprme renglon por renglon\n",
    "with open(example1, \"r\") as file1:\n",
    "    FileContent = file1.read()\n",
    "    print(FileContent)"
   ]
  },
  {
   "cell_type": "code",
   "execution_count": null,
   "id": "d731c7d3",
   "metadata": {},
   "outputs": [],
   "source": [
    "# Verify if the file is closed\n",
    "file1.closed"
   ]
  },
  {
   "cell_type": "code",
   "execution_count": null,
   "id": "36d09baa",
   "metadata": {},
   "outputs": [],
   "source": [
    "# See the content of file\n",
    "#Tambien el comando contento, despliega todo el texto\n",
    "print(FileContent)"
   ]
  },
  {
   "cell_type": "code",
   "execution_count": null,
   "id": "dfd12c81",
   "metadata": {},
   "outputs": [],
   "source": [
    "# Read first four characters\n",
    "with open(example1, \"r\") as file1:\n",
    "    print(file1.read(4))"
   ]
  },
  {
   "cell_type": "code",
   "execution_count": null,
   "id": "b747f04c",
   "metadata": {},
   "outputs": [],
   "source": [
    "# Read certain amount of characters\n",
    "with open(example1, \"r\") as file1:\n",
    "    print(file1.read(4))\n",
    "    print(file1.read(4))\n",
    "    print(file1.read(7))\n",
    "    print(file1.read(15))"
   ]
  },
  {
   "cell_type": "code",
   "execution_count": null,
   "id": "4bbf7632",
   "metadata": {},
   "outputs": [],
   "source": [
    "# Read certain amount of characters\n",
    "with open(example1, \"r\") as file1:\n",
    "    print(file1.read(16))\n",
    "    print(file1.read(5))\n",
    "    print(file1.read(9))"
   ]
  },
  {
   "cell_type": "code",
   "execution_count": null,
   "id": "4b44efdc",
   "metadata": {},
   "outputs": [],
   "source": [
    "# Read one line\n",
    "with open(example1, \"r\") as file1:\n",
    "    print(\"first line: \" + file1.readline())"
   ]
  },
  {
   "cell_type": "code",
   "execution_count": null,
   "id": "17e6ea11",
   "metadata": {},
   "outputs": [],
   "source": [
    "with open(example1, \"r\") as file1:\n",
    "    print(file1.readline(20)) # does not read past the end of line\n",
    "    print(file1.read(20)) # Returns the next 20 chars"
   ]
  },
  {
   "cell_type": "code",
   "execution_count": null,
   "id": "0d08206a",
   "metadata": {},
   "outputs": [],
   "source": [
    "# Iterate through the lines\n",
    "\n",
    "with open(example1,\"r\") as file1:\n",
    "        i = 0;\n",
    "        for line in file1:\n",
    "            print(\"Iteration\", str(i), \": \", line)\n",
    "            i = i + 1"
   ]
  },
  {
   "cell_type": "code",
   "execution_count": null,
   "id": "e1d5d471",
   "metadata": {},
   "outputs": [],
   "source": [
    "# Read all lines and save as a list\n",
    "\n",
    "with open(example1, \"r\") as file1:\n",
    "    FileasList = file1.readlines()"
   ]
  },
  {
   "cell_type": "code",
   "execution_count": null,
   "id": "66dce9a5",
   "metadata": {},
   "outputs": [],
   "source": [
    "# Print the first line\n",
    "\n",
    "FileasList[0]\n",
    "# Print the third line\n",
    "\n",
    "FileasList[2]"
   ]
  },
  {
   "cell_type": "code",
   "execution_count": 2,
   "id": "93cd8f75",
   "metadata": {},
   "outputs": [
    {
     "name": "stdout",
     "output_type": "stream",
     "text": [
      "Texto ejemplo 1\n",
      "Texto ejemplo 2\n",
      "Texto ejemplo 3\n",
      "Texto ejemplo 4\n",
      "\n"
     ]
    }
   ],
   "source": [
    "#Importo ahora mi texto personal\n",
    "Miruta = \"C:\\\\Users\\\\traba\\\\Downloads\\\\MiTexto1.txt\"\n",
    "Miarchivo=open(Miruta, \"r\")\n",
    "print(Miarchivo.read())"
   ]
  },
  {
   "cell_type": "code",
   "execution_count": 3,
   "id": "596d3318",
   "metadata": {},
   "outputs": [
    {
     "name": "stdout",
     "output_type": "stream",
     "text": [
      "Texto ejemplo 1\n",
      "\n"
     ]
    }
   ],
   "source": [
    "#imprimo el primer renglon\n",
    "with open(Miruta, \"r\") as Miarchivo:\n",
    "    print(Miarchivo.readline())"
   ]
  },
  {
   "cell_type": "code",
   "execution_count": 4,
   "id": "a1eed236",
   "metadata": {},
   "outputs": [
    {
     "name": "stdout",
     "output_type": "stream",
     "text": [
      "Texto ejemplo 1\n",
      "\n"
     ]
    }
   ],
   "source": [
    "#imprimo las primers 5 letas\n",
    "with open(Miruta, \"r\") as Miarchivo:\n",
    "    print(Miarchivo.readline())"
   ]
  },
  {
   "cell_type": "code",
   "execution_count": 6,
   "id": "15df82cb",
   "metadata": {},
   "outputs": [
    {
     "name": "stdout",
     "output_type": "stream",
     "text": [
      "Texto ejemplo 2\n",
      "\n"
     ]
    }
   ],
   "source": [
    "#imprimo el renglon que desee\n",
    "with open(Miruta, \"r\") as Miarchivo:\n",
    "    Renglones=Miarchivo.readlines()\n",
    "    print(Renglones[1])"
   ]
  },
  {
   "cell_type": "code",
   "execution_count": 7,
   "id": "9870d6a0",
   "metadata": {},
   "outputs": [
    {
     "name": "stdout",
     "output_type": "stream",
     "text": [
      "Texto \n"
     ]
    }
   ],
   "source": [
    "#imprimo las primers 5 letas\n",
    "with open(Miruta, \"r\") as Miarchivo:\n",
    "    print(Miarchivo.read(6))"
   ]
  },
  {
   "cell_type": "code",
   "execution_count": 9,
   "id": "320a5c33",
   "metadata": {},
   "outputs": [
    {
     "name": "stdout",
     "output_type": "stream",
     "text": [
      "Renglon 0 dice Texto ejemplo 1\n",
      "\n",
      "Renglon 1 dice Texto ejemplo 2\n",
      "\n",
      "Renglon 2 dice Texto ejemplo 3\n",
      "\n",
      "Renglon 3 dice Texto ejemplo 4\n",
      "\n"
     ]
    }
   ],
   "source": [
    "#Imprimmos todos los renglones con loop\n",
    "with open(Miruta,\"r\") as Miarchivo:\n",
    "        i = 0;\n",
    "        for linea in Miarchivo:\n",
    "            print(\"Renglon\", str(i), \"dice\", linea)\n",
    "            i = i + 1"
   ]
  },
  {
   "cell_type": "code",
   "execution_count": null,
   "id": "0a7bc345",
   "metadata": {},
   "outputs": [],
   "source": []
  }
 ],
 "metadata": {
  "kernelspec": {
   "display_name": "Python 3 (ipykernel)",
   "language": "python",
   "name": "python3"
  },
  "language_info": {
   "codemirror_mode": {
    "name": "ipython",
    "version": 3
   },
   "file_extension": ".py",
   "mimetype": "text/x-python",
   "name": "python",
   "nbconvert_exporter": "python",
   "pygments_lexer": "ipython3",
   "version": "3.10.7"
  }
 },
 "nbformat": 4,
 "nbformat_minor": 5
}
