{
  "nbformat": 4,
  "nbformat_minor": 0,
  "metadata": {
    "colab": {
      "provenance": [],
      "collapsed_sections": []
    },
    "kernelspec": {
      "name": "python3",
      "display_name": "Python 3"
    },
    "language_info": {
      "name": "python"
    }
  },
  "cells": [
    {
      "cell_type": "markdown",
      "source": [
        "Este notebook se basa en información de target\n",
        "![imagen.png](https://www.america-retail.com/static//2020/12/target01.jpg)\n",
        "\n",
        "\n",
        "Ahora imagina que somos parte del equipo de data science de la empresa Target, una de las tiendas con mayor presencia en Estados Unidos. El departamento de logistica acude a nosotros para saber donde le conviene poner sus almacenes, para que se optimice el gasto de gasolina, los tiempos de entrega de los productos y se disminuyan costos. Para ello, nos pasan los datos de latitud y longitud de cada una de las tiendas.\n",
        "\n",
        "https://www.kaggle.com/datasets/saejinmahlauheinert/target-store-locations?select=target-locations.csv\n",
        "\n",
        "Si quieres saber un poco más de graficas geográficas consulta el siguiente notebook\n",
        "https://colab.research.google.com/github/QuantEcon/quantecon-notebooks-datascience/blob/master/applications/maps.ipynb#scrollTo=uo2oPtSCeAOz"
      ],
      "metadata": {
        "id": "6mUW5QNwhz5T"
      }
    },
    {
      "cell_type": "markdown",
      "source": [
        "![Logo Tec.webp](data:image/webp;base64,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)\n",
        "\n",
        "- María de la Paz Rico Fernández- \n",
        "- Ciencia y analítica de datos \n",
        "- Carlos Enriquez Gorgonio\n",
        "- A01793102"
      ],
      "metadata": {
        "id": "mNQ-esM22rXN"
      }
    },
    {
      "cell_type": "code",
      "source": [
        "! pip install qeds fiona geopandas xgboost gensim folium pyLDAvis descartes"
      ],
      "metadata": {
        "colab": {
          "base_uri": "https://localhost:8080/"
        },
        "id": "YwkfEqinwESD",
        "outputId": "e57c551a-7446-438b-9bb5-6f82d6a7c027"
      },
      "execution_count": 15,
      "outputs": [
        {
          "output_type": "stream",
          "name": "stdout",
          "text": [
            "Looking in indexes: https://pypi.org/simple, https://us-python.pkg.dev/colab-wheels/public/simple/\n",
            "Requirement already satisfied: qeds in /usr/local/lib/python3.7/dist-packages (0.7.0)\n",
            "Requirement already satisfied: fiona in /usr/local/lib/python3.7/dist-packages (1.8.22)\n",
            "Requirement already satisfied: geopandas in /usr/local/lib/python3.7/dist-packages (0.10.2)\n",
            "Requirement already satisfied: xgboost in /usr/local/lib/python3.7/dist-packages (0.90)\n",
            "Requirement already satisfied: gensim in /usr/local/lib/python3.7/dist-packages (3.6.0)\n",
            "Requirement already satisfied: folium in /usr/local/lib/python3.7/dist-packages (0.12.1.post1)\n",
            "Requirement already satisfied: pyLDAvis in /usr/local/lib/python3.7/dist-packages (3.3.1)\n",
            "Requirement already satisfied: descartes in /usr/local/lib/python3.7/dist-packages (1.1.0)\n",
            "Requirement already satisfied: pyarrow in /usr/local/lib/python3.7/dist-packages (from qeds) (6.0.1)\n",
            "Requirement already satisfied: numpy in /usr/local/lib/python3.7/dist-packages (from qeds) (1.21.6)\n",
            "Requirement already satisfied: pandas-datareader in /usr/local/lib/python3.7/dist-packages (from qeds) (0.9.0)\n",
            "Requirement already satisfied: matplotlib in /usr/local/lib/python3.7/dist-packages (from qeds) (3.2.2)\n",
            "Requirement already satisfied: plotly in /usr/local/lib/python3.7/dist-packages (from qeds) (5.5.0)\n",
            "Requirement already satisfied: seaborn in /usr/local/lib/python3.7/dist-packages (from qeds) (0.11.2)\n",
            "Requirement already satisfied: quantecon in /usr/local/lib/python3.7/dist-packages (from qeds) (0.5.3)\n",
            "Requirement already satisfied: scikit-learn in /usr/local/lib/python3.7/dist-packages (from qeds) (1.0.2)\n",
            "Requirement already satisfied: statsmodels in /usr/local/lib/python3.7/dist-packages (from qeds) (0.12.2)\n",
            "Requirement already satisfied: quandl in /usr/local/lib/python3.7/dist-packages (from qeds) (3.7.0)\n",
            "Requirement already satisfied: requests in /usr/local/lib/python3.7/dist-packages (from qeds) (2.23.0)\n",
            "Requirement already satisfied: pandas in /usr/local/lib/python3.7/dist-packages (from qeds) (1.3.5)\n",
            "Requirement already satisfied: scipy in /usr/local/lib/python3.7/dist-packages (from qeds) (1.7.3)\n",
            "Requirement already satisfied: openpyxl in /usr/local/lib/python3.7/dist-packages (from qeds) (3.0.10)\n",
            "Requirement already satisfied: certifi in /usr/local/lib/python3.7/dist-packages (from fiona) (2022.9.24)\n",
            "Requirement already satisfied: six>=1.7 in /usr/local/lib/python3.7/dist-packages (from fiona) (1.15.0)\n",
            "Requirement already satisfied: cligj>=0.5 in /usr/local/lib/python3.7/dist-packages (from fiona) (0.7.2)\n",
            "Requirement already satisfied: setuptools in /usr/local/lib/python3.7/dist-packages (from fiona) (57.4.0)\n",
            "Requirement already satisfied: attrs>=17 in /usr/local/lib/python3.7/dist-packages (from fiona) (22.1.0)\n",
            "Requirement already satisfied: click-plugins>=1.0 in /usr/local/lib/python3.7/dist-packages (from fiona) (1.1.1)\n",
            "Requirement already satisfied: click>=4.0 in /usr/local/lib/python3.7/dist-packages (from fiona) (7.1.2)\n",
            "Requirement already satisfied: munch in /usr/local/lib/python3.7/dist-packages (from fiona) (2.5.0)\n",
            "Requirement already satisfied: pyproj>=2.2.0 in /usr/local/lib/python3.7/dist-packages (from geopandas) (3.2.1)\n",
            "Requirement already satisfied: shapely>=1.6 in /usr/local/lib/python3.7/dist-packages (from geopandas) (1.8.5.post1)\n",
            "Requirement already satisfied: pytz>=2017.3 in /usr/local/lib/python3.7/dist-packages (from pandas->qeds) (2022.6)\n",
            "Requirement already satisfied: python-dateutil>=2.7.3 in /usr/local/lib/python3.7/dist-packages (from pandas->qeds) (2.8.2)\n",
            "Requirement already satisfied: smart-open>=1.2.1 in /usr/local/lib/python3.7/dist-packages (from gensim) (5.2.1)\n",
            "Requirement already satisfied: jinja2>=2.9 in /usr/local/lib/python3.7/dist-packages (from folium) (2.11.3)\n",
            "Requirement already satisfied: branca>=0.3.0 in /usr/local/lib/python3.7/dist-packages (from folium) (0.5.0)\n",
            "Requirement already satisfied: MarkupSafe>=0.23 in /usr/local/lib/python3.7/dist-packages (from jinja2>=2.9->folium) (2.0.1)\n",
            "Requirement already satisfied: sklearn in /usr/local/lib/python3.7/dist-packages (from pyLDAvis) (0.0.post1)\n",
            "Requirement already satisfied: funcy in /usr/local/lib/python3.7/dist-packages (from pyLDAvis) (1.17)\n",
            "Requirement already satisfied: future in /usr/local/lib/python3.7/dist-packages (from pyLDAvis) (0.16.0)\n",
            "Requirement already satisfied: joblib in /usr/local/lib/python3.7/dist-packages (from pyLDAvis) (1.2.0)\n",
            "Requirement already satisfied: numexpr in /usr/local/lib/python3.7/dist-packages (from pyLDAvis) (2.8.4)\n",
            "Requirement already satisfied: cycler>=0.10 in /usr/local/lib/python3.7/dist-packages (from matplotlib->qeds) (0.11.0)\n",
            "Requirement already satisfied: pyparsing!=2.0.4,!=2.1.2,!=2.1.6,>=2.0.1 in /usr/local/lib/python3.7/dist-packages (from matplotlib->qeds) (3.0.9)\n",
            "Requirement already satisfied: kiwisolver>=1.0.1 in /usr/local/lib/python3.7/dist-packages (from matplotlib->qeds) (1.4.4)\n",
            "Requirement already satisfied: typing-extensions in /usr/local/lib/python3.7/dist-packages (from kiwisolver>=1.0.1->matplotlib->qeds) (4.1.1)\n",
            "Requirement already satisfied: et-xmlfile in /usr/local/lib/python3.7/dist-packages (from openpyxl->qeds) (1.1.0)\n",
            "Requirement already satisfied: lxml in /usr/local/lib/python3.7/dist-packages (from pandas-datareader->qeds) (4.9.1)\n",
            "Requirement already satisfied: urllib3!=1.25.0,!=1.25.1,<1.26,>=1.21.1 in /usr/local/lib/python3.7/dist-packages (from requests->qeds) (1.24.3)\n",
            "Requirement already satisfied: idna<3,>=2.5 in /usr/local/lib/python3.7/dist-packages (from requests->qeds) (2.10)\n",
            "Requirement already satisfied: chardet<4,>=3.0.2 in /usr/local/lib/python3.7/dist-packages (from requests->qeds) (3.0.4)\n",
            "Requirement already satisfied: tenacity>=6.2.0 in /usr/local/lib/python3.7/dist-packages (from plotly->qeds) (8.1.0)\n",
            "Requirement already satisfied: more-itertools in /usr/local/lib/python3.7/dist-packages (from quandl->qeds) (9.0.0)\n",
            "Requirement already satisfied: inflection>=0.3.1 in /usr/local/lib/python3.7/dist-packages (from quandl->qeds) (0.5.1)\n",
            "Requirement already satisfied: numba in /usr/local/lib/python3.7/dist-packages (from quantecon->qeds) (0.56.4)\n",
            "Requirement already satisfied: sympy in /usr/local/lib/python3.7/dist-packages (from quantecon->qeds) (1.7.1)\n",
            "Requirement already satisfied: llvmlite<0.40,>=0.39.0dev0 in /usr/local/lib/python3.7/dist-packages (from numba->quantecon->qeds) (0.39.1)\n",
            "Requirement already satisfied: importlib-metadata in /usr/local/lib/python3.7/dist-packages (from numba->quantecon->qeds) (4.13.0)\n",
            "Requirement already satisfied: zipp>=0.5 in /usr/local/lib/python3.7/dist-packages (from importlib-metadata->numba->quantecon->qeds) (3.10.0)\n",
            "Requirement already satisfied: threadpoolctl>=2.0.0 in /usr/local/lib/python3.7/dist-packages (from scikit-learn->qeds) (3.1.0)\n",
            "Requirement already satisfied: patsy>=0.5 in /usr/local/lib/python3.7/dist-packages (from statsmodels->qeds) (0.5.3)\n",
            "Requirement already satisfied: mpmath>=0.19 in /usr/local/lib/python3.7/dist-packages (from sympy->quantecon->qeds) (1.2.1)\n"
          ]
        }
      ]
    },
    {
      "cell_type": "code",
      "source": [
        "import pandas as pd\n",
        "import numpy as np\n",
        "from tqdm import tqdm\n",
        "%matplotlib inline\n",
        "import numpy as np\n",
        "import matplotlib.pyplot as plt\n",
        "import geopandas"
      ],
      "metadata": {
        "id": "WBpdGjbquQii"
      },
      "execution_count": 16,
      "outputs": []
    },
    {
      "cell_type": "markdown",
      "source": [
        "Importa la base de datos"
      ],
      "metadata": {
        "id": "KNTIoZlGvPum"
      }
    },
    {
      "cell_type": "code",
      "source": [
        "#Car¿gamos el DataSet  y lo llamamos df\n",
        "url=\"https://raw.githubusercontent.com/marypazrf/bdd/main/target-locations.csv\"\n",
        "df=pd.read_csv(url)"
      ],
      "metadata": {
        "id": "PAJWHRVN781V"
      },
      "execution_count": 17,
      "outputs": []
    },
    {
      "cell_type": "markdown",
      "source": [
        "Exploremos los datos."
      ],
      "metadata": {
        "id": "sH4hvPAYvUGY"
      }
    },
    {
      "cell_type": "code",
      "source": [
        "#Vemos que el DataSet tiene 6 columnas\n",
        "df.head()\n"
      ],
      "metadata": {
        "colab": {
          "base_uri": "https://localhost:8080/",
          "height": 206
        },
        "id": "DuzNp7KseyBg",
        "outputId": "7dda643f-9e06-42d9-d3d3-4abaeabe0820"
      },
      "execution_count": 18,
      "outputs": [
        {
          "output_type": "execute_result",
          "data": {
            "text/plain": [
              "        name   latitude  longitude  \\\n",
              "0  Alabaster  33.224225 -86.804174   \n",
              "1   Bessemer  33.334550 -86.989778   \n",
              "2     Daphne  30.602875 -87.895932   \n",
              "3    Decatur  34.560148 -86.971559   \n",
              "4     Dothan  31.266061 -85.446422   \n",
              "\n",
              "                                             address         phone  \\\n",
              "0        250 S Colonial Dr, Alabaster, AL 35007-4657  205-564-2608   \n",
              "1       4889 Promenade Pkwy, Bessemer, AL 35022-7305  205-565-3760   \n",
              "2          1698 US Highway 98, Daphne, AL 36526-4252  251-621-3540   \n",
              "3  1235 Point Mallard Pkwy SE, Decatur, AL 35601-...  256-898-3036   \n",
              "4         4601 Montgomery Hwy, Dothan, AL 36303-1522  334-340-1112   \n",
              "\n",
              "                                    website  \n",
              "0  https://www.target.com/sl/alabaster/2276  \n",
              "1   https://www.target.com/sl/bessemer/2375  \n",
              "2     https://www.target.com/sl/daphne/1274  \n",
              "3    https://www.target.com/sl/decatur/2084  \n",
              "4     https://www.target.com/sl/dothan/1468  "
            ],
            "text/html": [
              "\n",
              "  <div id=\"df-2db6c22b-131e-4bfa-ad31-3f1bf92b2a28\">\n",
              "    <div class=\"colab-df-container\">\n",
              "      <div>\n",
              "<style scoped>\n",
              "    .dataframe tbody tr th:only-of-type {\n",
              "        vertical-align: middle;\n",
              "    }\n",
              "\n",
              "    .dataframe tbody tr th {\n",
              "        vertical-align: top;\n",
              "    }\n",
              "\n",
              "    .dataframe thead th {\n",
              "        text-align: right;\n",
              "    }\n",
              "</style>\n",
              "<table border=\"1\" class=\"dataframe\">\n",
              "  <thead>\n",
              "    <tr style=\"text-align: right;\">\n",
              "      <th></th>\n",
              "      <th>name</th>\n",
              "      <th>latitude</th>\n",
              "      <th>longitude</th>\n",
              "      <th>address</th>\n",
              "      <th>phone</th>\n",
              "      <th>website</th>\n",
              "    </tr>\n",
              "  </thead>\n",
              "  <tbody>\n",
              "    <tr>\n",
              "      <th>0</th>\n",
              "      <td>Alabaster</td>\n",
              "      <td>33.224225</td>\n",
              "      <td>-86.804174</td>\n",
              "      <td>250 S Colonial Dr, Alabaster, AL 35007-4657</td>\n",
              "      <td>205-564-2608</td>\n",
              "      <td>https://www.target.com/sl/alabaster/2276</td>\n",
              "    </tr>\n",
              "    <tr>\n",
              "      <th>1</th>\n",
              "      <td>Bessemer</td>\n",
              "      <td>33.334550</td>\n",
              "      <td>-86.989778</td>\n",
              "      <td>4889 Promenade Pkwy, Bessemer, AL 35022-7305</td>\n",
              "      <td>205-565-3760</td>\n",
              "      <td>https://www.target.com/sl/bessemer/2375</td>\n",
              "    </tr>\n",
              "    <tr>\n",
              "      <th>2</th>\n",
              "      <td>Daphne</td>\n",
              "      <td>30.602875</td>\n",
              "      <td>-87.895932</td>\n",
              "      <td>1698 US Highway 98, Daphne, AL 36526-4252</td>\n",
              "      <td>251-621-3540</td>\n",
              "      <td>https://www.target.com/sl/daphne/1274</td>\n",
              "    </tr>\n",
              "    <tr>\n",
              "      <th>3</th>\n",
              "      <td>Decatur</td>\n",
              "      <td>34.560148</td>\n",
              "      <td>-86.971559</td>\n",
              "      <td>1235 Point Mallard Pkwy SE, Decatur, AL 35601-...</td>\n",
              "      <td>256-898-3036</td>\n",
              "      <td>https://www.target.com/sl/decatur/2084</td>\n",
              "    </tr>\n",
              "    <tr>\n",
              "      <th>4</th>\n",
              "      <td>Dothan</td>\n",
              "      <td>31.266061</td>\n",
              "      <td>-85.446422</td>\n",
              "      <td>4601 Montgomery Hwy, Dothan, AL 36303-1522</td>\n",
              "      <td>334-340-1112</td>\n",
              "      <td>https://www.target.com/sl/dothan/1468</td>\n",
              "    </tr>\n",
              "  </tbody>\n",
              "</table>\n",
              "</div>\n",
              "      <button class=\"colab-df-convert\" onclick=\"convertToInteractive('df-2db6c22b-131e-4bfa-ad31-3f1bf92b2a28')\"\n",
              "              title=\"Convert this dataframe to an interactive table.\"\n",
              "              style=\"display:none;\">\n",
              "        \n",
              "  <svg xmlns=\"http://www.w3.org/2000/svg\" height=\"24px\"viewBox=\"0 0 24 24\"\n",
              "       width=\"24px\">\n",
              "    <path d=\"M0 0h24v24H0V0z\" fill=\"none\"/>\n",
              "    <path d=\"M18.56 5.44l.94 2.06.94-2.06 2.06-.94-2.06-.94-.94-2.06-.94 2.06-2.06.94zm-11 1L8.5 8.5l.94-2.06 2.06-.94-2.06-.94L8.5 2.5l-.94 2.06-2.06.94zm10 10l.94 2.06.94-2.06 2.06-.94-2.06-.94-.94-2.06-.94 2.06-2.06.94z\"/><path d=\"M17.41 7.96l-1.37-1.37c-.4-.4-.92-.59-1.43-.59-.52 0-1.04.2-1.43.59L10.3 9.45l-7.72 7.72c-.78.78-.78 2.05 0 2.83L4 21.41c.39.39.9.59 1.41.59.51 0 1.02-.2 1.41-.59l7.78-7.78 2.81-2.81c.8-.78.8-2.07 0-2.86zM5.41 20L4 18.59l7.72-7.72 1.47 1.35L5.41 20z\"/>\n",
              "  </svg>\n",
              "      </button>\n",
              "      \n",
              "  <style>\n",
              "    .colab-df-container {\n",
              "      display:flex;\n",
              "      flex-wrap:wrap;\n",
              "      gap: 12px;\n",
              "    }\n",
              "\n",
              "    .colab-df-convert {\n",
              "      background-color: #E8F0FE;\n",
              "      border: none;\n",
              "      border-radius: 50%;\n",
              "      cursor: pointer;\n",
              "      display: none;\n",
              "      fill: #1967D2;\n",
              "      height: 32px;\n",
              "      padding: 0 0 0 0;\n",
              "      width: 32px;\n",
              "    }\n",
              "\n",
              "    .colab-df-convert:hover {\n",
              "      background-color: #E2EBFA;\n",
              "      box-shadow: 0px 1px 2px rgba(60, 64, 67, 0.3), 0px 1px 3px 1px rgba(60, 64, 67, 0.15);\n",
              "      fill: #174EA6;\n",
              "    }\n",
              "\n",
              "    [theme=dark] .colab-df-convert {\n",
              "      background-color: #3B4455;\n",
              "      fill: #D2E3FC;\n",
              "    }\n",
              "\n",
              "    [theme=dark] .colab-df-convert:hover {\n",
              "      background-color: #434B5C;\n",
              "      box-shadow: 0px 1px 3px 1px rgba(0, 0, 0, 0.15);\n",
              "      filter: drop-shadow(0px 1px 2px rgba(0, 0, 0, 0.3));\n",
              "      fill: #FFFFFF;\n",
              "    }\n",
              "  </style>\n",
              "\n",
              "      <script>\n",
              "        const buttonEl =\n",
              "          document.querySelector('#df-2db6c22b-131e-4bfa-ad31-3f1bf92b2a28 button.colab-df-convert');\n",
              "        buttonEl.style.display =\n",
              "          google.colab.kernel.accessAllowed ? 'block' : 'none';\n",
              "\n",
              "        async function convertToInteractive(key) {\n",
              "          const element = document.querySelector('#df-2db6c22b-131e-4bfa-ad31-3f1bf92b2a28');\n",
              "          const dataTable =\n",
              "            await google.colab.kernel.invokeFunction('convertToInteractive',\n",
              "                                                     [key], {});\n",
              "          if (!dataTable) return;\n",
              "\n",
              "          const docLinkHtml = 'Like what you see? Visit the ' +\n",
              "            '<a target=\"_blank\" href=https://colab.research.google.com/notebooks/data_table.ipynb>data table notebook</a>'\n",
              "            + ' to learn more about interactive tables.';\n",
              "          element.innerHTML = '';\n",
              "          dataTable['output_type'] = 'display_data';\n",
              "          await google.colab.output.renderOutput(dataTable, element);\n",
              "          const docLink = document.createElement('div');\n",
              "          docLink.innerHTML = docLinkHtml;\n",
              "          element.appendChild(docLink);\n",
              "        }\n",
              "      </script>\n",
              "    </div>\n",
              "  </div>\n",
              "  "
            ]
          },
          "metadata": {},
          "execution_count": 18
        }
      ]
    },
    {
      "cell_type": "code",
      "source": [
        "#Observamos que el DataSet no tiene datos faltantes\n",
        "df.info()"
      ],
      "metadata": {
        "colab": {
          "base_uri": "https://localhost:8080/"
        },
        "id": "MxbhdLkavl7Q",
        "outputId": "3fec20fc-f5bd-4a86-bf95-3e4f55910e02"
      },
      "execution_count": 19,
      "outputs": [
        {
          "output_type": "stream",
          "name": "stdout",
          "text": [
            "<class 'pandas.core.frame.DataFrame'>\n",
            "RangeIndex: 1839 entries, 0 to 1838\n",
            "Data columns (total 6 columns):\n",
            " #   Column     Non-Null Count  Dtype  \n",
            "---  ------     --------------  -----  \n",
            " 0   name       1839 non-null   object \n",
            " 1   latitude   1839 non-null   float64\n",
            " 2   longitude  1839 non-null   float64\n",
            " 3   address    1839 non-null   object \n",
            " 4   phone      1839 non-null   object \n",
            " 5   website    1839 non-null   object \n",
            "dtypes: float64(2), object(4)\n",
            "memory usage: 86.3+ KB\n"
          ]
        }
      ]
    },
    {
      "cell_type": "markdown",
      "source": [
        "**Definición de Latitud y Longitud**\n",
        "\n",
        "**Latitud** Es la distancia en grados, minutos y segundos que hay con respecto al paralelo principal, que es el ecuador (0º). La latitud puede ser norte y sur.\n",
        "\n",
        "**Longitud**: Es la distancia en grados, minutos y segundos que hay con respecto al meridiano principal, que es el meridiano de Greenwich (0º).La longitud puede ser este y oeste."
      ],
      "metadata": {
        "id": "cpfqKT4qxAZz"
      }
    },
    {
      "cell_type": "code",
      "source": [
        "#Creamos un nuevo DataSet que solo contendra 3 columnas, seleccionada como las caracteristicas que usaremos\n",
        "latlong=df[[\"latitude\",\"longitude\"]]"
      ],
      "metadata": {
        "id": "oPzX3DGju0As"
      },
      "execution_count": 20,
      "outputs": []
    },
    {
      "cell_type": "markdown",
      "source": [
        "¡Visualizemos los datos!, para empezar a notar algún patron. \n",
        "\n",
        "A simple vista pudieramos pensar que tenemos algunos datos atípicos u outliers, pero .... no es así, simplemente esta grafica no nos está dando toda la información."
      ],
      "metadata": {
        "id": "gMk6UVE2e67y"
      }
    },
    {
      "cell_type": "code",
      "source": [
        "#extrae los datos interesantes\n",
        "latlong.plot.scatter( \"longitude\",\"latitude\")"
      ],
      "metadata": {
        "colab": {
          "base_uri": "https://localhost:8080/",
          "height": 306
        },
        "id": "-QZRqKiDfj2J",
        "outputId": "beaf7c39-1ac6-48f3-df22-3070f36f046b"
      },
      "execution_count": 21,
      "outputs": [
        {
          "output_type": "execute_result",
          "data": {
            "text/plain": [
              "<matplotlib.axes._subplots.AxesSubplot at 0x7f54249cb890>"
            ]
          },
          "metadata": {},
          "execution_count": 21
        },
        {
          "output_type": "display_data",
          "data": {
            "text/plain": [
              "<Figure size 432x288 with 1 Axes>"
            ],
            "image/png": "[encoded data removed]"
          },
          "metadata": {
            "needs_background": "light"
          }
        }
      ]
    },
    {
      "cell_type": "code",
      "source": [
        "latlong.describe()"
      ],
      "metadata": {
        "colab": {
          "base_uri": "https://localhost:8080/",
          "height": 300
        },
        "id": "O6b3QguyyjM_",
        "outputId": "c8b19c87-99d4-45e0-efdb-1ff8fef86d52"
      },
      "execution_count": 22,
      "outputs": [
        {
          "output_type": "execute_result",
          "data": {
            "text/plain": [
              "          latitude    longitude\n",
              "count  1839.000000  1839.000000\n",
              "mean     37.791238   -91.986881\n",
              "std       5.272299    16.108046\n",
              "min      19.647855  -159.376962\n",
              "25%      33.882605   -98.268828\n",
              "50%      38.955432   -87.746346\n",
              "75%      41.658341   -80.084833\n",
              "max      61.577919   -68.742331"
            ],
            "text/html": [
              "\n",
              "  <div id=\"df-bbbd208f-b66d-4570-a89d-334fafc3f807\">\n",
              "    <div class=\"colab-df-container\">\n",
              "      <div>\n",
              "<style scoped>\n",
              "    .dataframe tbody tr th:only-of-type {\n",
              "        vertical-align: middle;\n",
              "    }\n",
              "\n",
              "    .dataframe tbody tr th {\n",
              "        vertical-align: top;\n",
              "    }\n",
              "\n",
              "    .dataframe thead th {\n",
              "        text-align: right;\n",
              "    }\n",
              "</style>\n",
              "<table border=\"1\" class=\"dataframe\">\n",
              "  <thead>\n",
              "    <tr style=\"text-align: right;\">\n",
              "      <th></th>\n",
              "      <th>latitude</th>\n",
              "      <th>longitude</th>\n",
              "    </tr>\n",
              "  </thead>\n",
              "  <tbody>\n",
              "    <tr>\n",
              "      <th>count</th>\n",
              "      <td>1839.000000</td>\n",
              "      <td>1839.000000</td>\n",
              "    </tr>\n",
              "    <tr>\n",
              "      <th>mean</th>\n",
              "      <td>37.791238</td>\n",
              "      <td>-91.986881</td>\n",
              "    </tr>\n",
              "    <tr>\n",
              "      <th>std</th>\n",
              "      <td>5.272299</td>\n",
              "      <td>16.108046</td>\n",
              "    </tr>\n",
              "    <tr>\n",
              "      <th>min</th>\n",
              "      <td>19.647855</td>\n",
              "      <td>-159.376962</td>\n",
              "    </tr>\n",
              "    <tr>\n",
              "      <th>25%</th>\n",
              "      <td>33.882605</td>\n",
              "      <td>-98.268828</td>\n",
              "    </tr>\n",
              "    <tr>\n",
              "      <th>50%</th>\n",
              "      <td>38.955432</td>\n",
              "      <td>-87.746346</td>\n",
              "    </tr>\n",
              "    <tr>\n",
              "      <th>75%</th>\n",
              "      <td>41.658341</td>\n",
              "      <td>-80.084833</td>\n",
              "    </tr>\n",
              "    <tr>\n",
              "      <th>max</th>\n",
              "      <td>61.577919</td>\n",
              "      <td>-68.742331</td>\n",
              "    </tr>\n",
              "  </tbody>\n",
              "</table>\n",
              "</div>\n",
              "      <button class=\"colab-df-convert\" onclick=\"convertToInteractive('df-bbbd208f-b66d-4570-a89d-334fafc3f807')\"\n",
              "              title=\"Convert this dataframe to an interactive table.\"\n",
              "              style=\"display:none;\">\n",
              "        \n",
              "  <svg xmlns=\"http://www.w3.org/2000/svg\" height=\"24px\"viewBox=\"0 0 24 24\"\n",
              "       width=\"24px\">\n",
              "    <path d=\"M0 0h24v24H0V0z\" fill=\"none\"/>\n",
              "    <path d=\"M18.56 5.44l.94 2.06.94-2.06 2.06-.94-2.06-.94-.94-2.06-.94 2.06-2.06.94zm-11 1L8.5 8.5l.94-2.06 2.06-.94-2.06-.94L8.5 2.5l-.94 2.06-2.06.94zm10 10l.94 2.06.94-2.06 2.06-.94-2.06-.94-.94-2.06-.94 2.06-2.06.94z\"/><path d=\"M17.41 7.96l-1.37-1.37c-.4-.4-.92-.59-1.43-.59-.52 0-1.04.2-1.43.59L10.3 9.45l-7.72 7.72c-.78.78-.78 2.05 0 2.83L4 21.41c.39.39.9.59 1.41.59.51 0 1.02-.2 1.41-.59l7.78-7.78 2.81-2.81c.8-.78.8-2.07 0-2.86zM5.41 20L4 18.59l7.72-7.72 1.47 1.35L5.41 20z\"/>\n",
              "  </svg>\n",
              "      </button>\n",
              "      \n",
              "  <style>\n",
              "    .colab-df-container {\n",
              "      display:flex;\n",
              "      flex-wrap:wrap;\n",
              "      gap: 12px;\n",
              "    }\n",
              "\n",
              "    .colab-df-convert {\n",
              "      background-color: #E8F0FE;\n",
              "      border: none;\n",
              "      border-radius: 50%;\n",
              "      cursor: pointer;\n",
              "      display: none;\n",
              "      fill: #1967D2;\n",
              "      height: 32px;\n",
              "      padding: 0 0 0 0;\n",
              "      width: 32px;\n",
              "    }\n",
              "\n",
              "    .colab-df-convert:hover {\n",
              "      background-color: #E2EBFA;\n",
              "      box-shadow: 0px 1px 2px rgba(60, 64, 67, 0.3), 0px 1px 3px 1px rgba(60, 64, 67, 0.15);\n",
              "      fill: #174EA6;\n",
              "    }\n",
              "\n",
              "    [theme=dark] .colab-df-convert {\n",
              "      background-color: #3B4455;\n",
              "      fill: #D2E3FC;\n",
              "    }\n",
              "\n",
              "    [theme=dark] .colab-df-convert:hover {\n",
              "      background-color: #434B5C;\n",
              "      box-shadow: 0px 1px 3px 1px rgba(0, 0, 0, 0.15);\n",
              "      filter: drop-shadow(0px 1px 2px rgba(0, 0, 0, 0.3));\n",
              "      fill: #FFFFFF;\n",
              "    }\n",
              "  </style>\n",
              "\n",
              "      <script>\n",
              "        const buttonEl =\n",
              "          document.querySelector('#df-bbbd208f-b66d-4570-a89d-334fafc3f807 button.colab-df-convert');\n",
              "        buttonEl.style.display =\n",
              "          google.colab.kernel.accessAllowed ? 'block' : 'none';\n",
              "\n",
              "        async function convertToInteractive(key) {\n",
              "          const element = document.querySelector('#df-bbbd208f-b66d-4570-a89d-334fafc3f807');\n",
              "          const dataTable =\n",
              "            await google.colab.kernel.invokeFunction('convertToInteractive',\n",
              "                                                     [key], {});\n",
              "          if (!dataTable) return;\n",
              "\n",
              "          const docLinkHtml = 'Like what you see? Visit the ' +\n",
              "            '<a target=\"_blank\" href=https://colab.research.google.com/notebooks/data_table.ipynb>data table notebook</a>'\n",
              "            + ' to learn more about interactive tables.';\n",
              "          element.innerHTML = '';\n",
              "          dataTable['output_type'] = 'display_data';\n",
              "          await google.colab.output.renderOutput(dataTable, element);\n",
              "          const docLink = document.createElement('div');\n",
              "          docLink.innerHTML = docLinkHtml;\n",
              "          element.appendChild(docLink);\n",
              "        }\n",
              "      </script>\n",
              "    </div>\n",
              "  </div>\n",
              "  "
            ]
          },
          "metadata": {},
          "execution_count": 22
        }
      ]
    },
    {
      "cell_type": "markdown",
      "source": [
        "Para entender un poco más, nos auxiliaremos de una librería para graficar datos geográficos. Esto nos ayudara a tener un mejor entendimiento de ellos.\n",
        "\n",
        "\n"
      ],
      "metadata": {
        "id": "hkPMyAyIDunz"
      }
    },
    {
      "cell_type": "code",
      "source": [
        "#Importamos las librearias que vamos a utilizar \n",
        "import geopandas as gpd\n",
        "import matplotlib.pyplot as plt\n",
        "import pandas as pd\n",
        "\n",
        "from shapely.geometry import Point\n",
        "\n",
        "%matplotlib inline\n",
        "\n",
        "# activate plot theme\n",
        "import qeds\n",
        "qeds.themes.mpl_style();"
      ],
      "metadata": {
        "id": "_blyM4esyJTu"
      },
      "execution_count": 23,
      "outputs": []
    },
    {
      "cell_type": "code",
      "source": [
        "#Creamos una nueva columna que contendra las coordenadas de cada columna, lo cual es basicamente invertir el oorden de las columnas latitud y longitud\n",
        "df[\"Coordinates\"] = list(zip(df.longitude, df.latitude))\n",
        "df[\"Coordinates\"] = df[\"Coordinates\"].apply(Point)\n",
        "df.head()"
      ],
      "metadata": {
        "colab": {
          "base_uri": "https://localhost:8080/",
          "height": 206
        },
        "id": "01i0TciKfPco",
        "outputId": "8a4810d1-8361-4861-f97c-2e0a9c627f98"
      },
      "execution_count": 24,
      "outputs": [
        {
          "output_type": "execute_result",
          "data": {
            "text/plain": [
              "        name   latitude  longitude  \\\n",
              "0  Alabaster  33.224225 -86.804174   \n",
              "1   Bessemer  33.334550 -86.989778   \n",
              "2     Daphne  30.602875 -87.895932   \n",
              "3    Decatur  34.560148 -86.971559   \n",
              "4     Dothan  31.266061 -85.446422   \n",
              "\n",
              "                                             address         phone  \\\n",
              "0        250 S Colonial Dr, Alabaster, AL 35007-4657  205-564-2608   \n",
              "1       4889 Promenade Pkwy, Bessemer, AL 35022-7305  205-565-3760   \n",
              "2          1698 US Highway 98, Daphne, AL 36526-4252  251-621-3540   \n",
              "3  1235 Point Mallard Pkwy SE, Decatur, AL 35601-...  256-898-3036   \n",
              "4         4601 Montgomery Hwy, Dothan, AL 36303-1522  334-340-1112   \n",
              "\n",
              "                                    website  \\\n",
              "0  https://www.target.com/sl/alabaster/2276   \n",
              "1   https://www.target.com/sl/bessemer/2375   \n",
              "2     https://www.target.com/sl/daphne/1274   \n",
              "3    https://www.target.com/sl/decatur/2084   \n",
              "4     https://www.target.com/sl/dothan/1468   \n",
              "\n",
              "                             Coordinates  \n",
              "0  POINT (-86.80417369999999 33.2242254)  \n",
              "1  POINT (-86.98977789999999 33.3345501)  \n",
              "2  POINT (-87.89593169999999 30.6028747)  \n",
              "3         POINT (-86.9715595 34.5601477)  \n",
              "4         POINT (-85.4464222 31.2660613)  "
            ],
            "text/html": [
              "\n",
              "  <div id=\"df-4b767782-e9ea-4fac-b2f7-67260a1ea853\">\n",
              "    <div class=\"colab-df-container\">\n",
              "      <div>\n",
              "<style scoped>\n",
              "    .dataframe tbody tr th:only-of-type {\n",
              "        vertical-align: middle;\n",
              "    }\n",
              "\n",
              "    .dataframe tbody tr th {\n",
              "        vertical-align: top;\n",
              "    }\n",
              "\n",
              "    .dataframe thead th {\n",
              "        text-align: right;\n",
              "    }\n",
              "</style>\n",
              "<table border=\"1\" class=\"dataframe\">\n",
              "  <thead>\n",
              "    <tr style=\"text-align: right;\">\n",
              "      <th></th>\n",
              "      <th>name</th>\n",
              "      <th>latitude</th>\n",
              "      <th>longitude</th>\n",
              "      <th>address</th>\n",
              "      <th>phone</th>\n",
              "      <th>website</th>\n",
              "      <th>Coordinates</th>\n",
              "    </tr>\n",
              "  </thead>\n",
              "  <tbody>\n",
              "    <tr>\n",
              "      <th>0</th>\n",
              "      <td>Alabaster</td>\n",
              "      <td>33.224225</td>\n",
              "      <td>-86.804174</td>\n",
              "      <td>250 S Colonial Dr, Alabaster, AL 35007-4657</td>\n",
              "      <td>205-564-2608</td>\n",
              "      <td>https://www.target.com/sl/alabaster/2276</td>\n",
              "      <td>POINT (-86.80417369999999 33.2242254)</td>\n",
              "    </tr>\n",
              "    <tr>\n",
              "      <th>1</th>\n",
              "      <td>Bessemer</td>\n",
              "      <td>33.334550</td>\n",
              "      <td>-86.989778</td>\n",
              "      <td>4889 Promenade Pkwy, Bessemer, AL 35022-7305</td>\n",
              "      <td>205-565-3760</td>\n",
              "      <td>https://www.target.com/sl/bessemer/2375</td>\n",
              "      <td>POINT (-86.98977789999999 33.3345501)</td>\n",
              "    </tr>\n",
              "    <tr>\n",
              "      <th>2</th>\n",
              "      <td>Daphne</td>\n",
              "      <td>30.602875</td>\n",
              "      <td>-87.895932</td>\n",
              "      <td>1698 US Highway 98, Daphne, AL 36526-4252</td>\n",
              "      <td>251-621-3540</td>\n",
              "      <td>https://www.target.com/sl/daphne/1274</td>\n",
              "      <td>POINT (-87.89593169999999 30.6028747)</td>\n",
              "    </tr>\n",
              "    <tr>\n",
              "      <th>3</th>\n",
              "      <td>Decatur</td>\n",
              "      <td>34.560148</td>\n",
              "      <td>-86.971559</td>\n",
              "      <td>1235 Point Mallard Pkwy SE, Decatur, AL 35601-...</td>\n",
              "      <td>256-898-3036</td>\n",
              "      <td>https://www.target.com/sl/decatur/2084</td>\n",
              "      <td>POINT (-86.9715595 34.5601477)</td>\n",
              "    </tr>\n",
              "    <tr>\n",
              "      <th>4</th>\n",
              "      <td>Dothan</td>\n",
              "      <td>31.266061</td>\n",
              "      <td>-85.446422</td>\n",
              "      <td>4601 Montgomery Hwy, Dothan, AL 36303-1522</td>\n",
              "      <td>334-340-1112</td>\n",
              "      <td>https://www.target.com/sl/dothan/1468</td>\n",
              "      <td>POINT (-85.4464222 31.2660613)</td>\n",
              "    </tr>\n",
              "  </tbody>\n",
              "</table>\n",
              "</div>\n",
              "      <button class=\"colab-df-convert\" onclick=\"convertToInteractive('df-4b767782-e9ea-4fac-b2f7-67260a1ea853')\"\n",
              "              title=\"Convert this dataframe to an interactive table.\"\n",
              "              style=\"display:none;\">\n",
              "        \n",
              "  <svg xmlns=\"http://www.w3.org/2000/svg\" height=\"24px\"viewBox=\"0 0 24 24\"\n",
              "       width=\"24px\">\n",
              "    <path d=\"M0 0h24v24H0V0z\" fill=\"none\"/>\n",
              "    <path d=\"M18.56 5.44l.94 2.06.94-2.06 2.06-.94-2.06-.94-.94-2.06-.94 2.06-2.06.94zm-11 1L8.5 8.5l.94-2.06 2.06-.94-2.06-.94L8.5 2.5l-.94 2.06-2.06.94zm10 10l.94 2.06.94-2.06 2.06-.94-2.06-.94-.94-2.06-.94 2.06-2.06.94z\"/><path d=\"M17.41 7.96l-1.37-1.37c-.4-.4-.92-.59-1.43-.59-.52 0-1.04.2-1.43.59L10.3 9.45l-7.72 7.72c-.78.78-.78 2.05 0 2.83L4 21.41c.39.39.9.59 1.41.59.51 0 1.02-.2 1.41-.59l7.78-7.78 2.81-2.81c.8-.78.8-2.07 0-2.86zM5.41 20L4 18.59l7.72-7.72 1.47 1.35L5.41 20z\"/>\n",
              "  </svg>\n",
              "      </button>\n",
              "      \n",
              "  <style>\n",
              "    .colab-df-container {\n",
              "      display:flex;\n",
              "      flex-wrap:wrap;\n",
              "      gap: 12px;\n",
              "    }\n",
              "\n",
              "    .colab-df-convert {\n",
              "      background-color: #E8F0FE;\n",
              "      border: none;\n",
              "      border-radius: 50%;\n",
              "      cursor: pointer;\n",
              "      display: none;\n",
              "      fill: #1967D2;\n",
              "      height: 32px;\n",
              "      padding: 0 0 0 0;\n",
              "      width: 32px;\n",
              "    }\n",
              "\n",
              "    .colab-df-convert:hover {\n",
              "      background-color: #E2EBFA;\n",
              "      box-shadow: 0px 1px 2px rgba(60, 64, 67, 0.3), 0px 1px 3px 1px rgba(60, 64, 67, 0.15);\n",
              "      fill: #174EA6;\n",
              "    }\n",
              "\n",
              "    [theme=dark] .colab-df-convert {\n",
              "      background-color: #3B4455;\n",
              "      fill: #D2E3FC;\n",
              "    }\n",
              "\n",
              "    [theme=dark] .colab-df-convert:hover {\n",
              "      background-color: #434B5C;\n",
              "      box-shadow: 0px 1px 3px 1px rgba(0, 0, 0, 0.15);\n",
              "      filter: drop-shadow(0px 1px 2px rgba(0, 0, 0, 0.3));\n",
              "      fill: #FFFFFF;\n",
              "    }\n",
              "  </style>\n",
              "\n",
              "      <script>\n",
              "        const buttonEl =\n",
              "          document.querySelector('#df-4b767782-e9ea-4fac-b2f7-67260a1ea853 button.colab-df-convert');\n",
              "        buttonEl.style.display =\n",
              "          google.colab.kernel.accessAllowed ? 'block' : 'none';\n",
              "\n",
              "        async function convertToInteractive(key) {\n",
              "          const element = document.querySelector('#df-4b767782-e9ea-4fac-b2f7-67260a1ea853');\n",
              "          const dataTable =\n",
              "            await google.colab.kernel.invokeFunction('convertToInteractive',\n",
              "                                                     [key], {});\n",
              "          if (!dataTable) return;\n",
              "\n",
              "          const docLinkHtml = 'Like what you see? Visit the ' +\n",
              "            '<a target=\"_blank\" href=https://colab.research.google.com/notebooks/data_table.ipynb>data table notebook</a>'\n",
              "            + ' to learn more about interactive tables.';\n",
              "          element.innerHTML = '';\n",
              "          dataTable['output_type'] = 'display_data';\n",
              "          await google.colab.output.renderOutput(dataTable, element);\n",
              "          const docLink = document.createElement('div');\n",
              "          docLink.innerHTML = docLinkHtml;\n",
              "          element.appendChild(docLink);\n",
              "        }\n",
              "      </script>\n",
              "    </div>\n",
              "  </div>\n",
              "  "
            ]
          },
          "metadata": {},
          "execution_count": 24
        }
      ]
    },
    {
      "cell_type": "code",
      "source": [
        "# Usamos la funcion GeoDataFrame\n",
        "gdf = gpd.GeoDataFrame(df, geometry=\"Coordinates\")\n",
        "gdf.head()"
      ],
      "metadata": {
        "colab": {
          "base_uri": "https://localhost:8080/",
          "height": 206
        },
        "id": "SBTBrsvlfIU_",
        "outputId": "33284818-4b16-4593-ae43-6e137adb197f"
      },
      "execution_count": 25,
      "outputs": [
        {
          "output_type": "execute_result",
          "data": {
            "text/plain": [
              "        name   latitude  longitude  \\\n",
              "0  Alabaster  33.224225 -86.804174   \n",
              "1   Bessemer  33.334550 -86.989778   \n",
              "2     Daphne  30.602875 -87.895932   \n",
              "3    Decatur  34.560148 -86.971559   \n",
              "4     Dothan  31.266061 -85.446422   \n",
              "\n",
              "                                             address         phone  \\\n",
              "0        250 S Colonial Dr, Alabaster, AL 35007-4657  205-564-2608   \n",
              "1       4889 Promenade Pkwy, Bessemer, AL 35022-7305  205-565-3760   \n",
              "2          1698 US Highway 98, Daphne, AL 36526-4252  251-621-3540   \n",
              "3  1235 Point Mallard Pkwy SE, Decatur, AL 35601-...  256-898-3036   \n",
              "4         4601 Montgomery Hwy, Dothan, AL 36303-1522  334-340-1112   \n",
              "\n",
              "                                    website                 Coordinates  \n",
              "0  https://www.target.com/sl/alabaster/2276  POINT (-86.80417 33.22423)  \n",
              "1   https://www.target.com/sl/bessemer/2375  POINT (-86.98978 33.33455)  \n",
              "2     https://www.target.com/sl/daphne/1274  POINT (-87.89593 30.60287)  \n",
              "3    https://www.target.com/sl/decatur/2084  POINT (-86.97156 34.56015)  \n",
              "4     https://www.target.com/sl/dothan/1468  POINT (-85.44642 31.26606)  "
            ],
            "text/html": [
              "\n",
              "  <div id=\"df-5668fc6b-4a0d-4e97-b6e8-212eb598c430\">\n",
              "    <div class=\"colab-df-container\">\n",
              "      <div>\n",
              "<style scoped>\n",
              "    .dataframe tbody tr th:only-of-type {\n",
              "        vertical-align: middle;\n",
              "    }\n",
              "\n",
              "    .dataframe tbody tr th {\n",
              "        vertical-align: top;\n",
              "    }\n",
              "\n",
              "    .dataframe thead th {\n",
              "        text-align: right;\n",
              "    }\n",
              "</style>\n",
              "<table border=\"1\" class=\"dataframe\">\n",
              "  <thead>\n",
              "    <tr style=\"text-align: right;\">\n",
              "      <th></th>\n",
              "      <th>name</th>\n",
              "      <th>latitude</th>\n",
              "      <th>longitude</th>\n",
              "      <th>address</th>\n",
              "      <th>phone</th>\n",
              "      <th>website</th>\n",
              "      <th>Coordinates</th>\n",
              "    </tr>\n",
              "  </thead>\n",
              "  <tbody>\n",
              "    <tr>\n",
              "      <th>0</th>\n",
              "      <td>Alabaster</td>\n",
              "      <td>33.224225</td>\n",
              "      <td>-86.804174</td>\n",
              "      <td>250 S Colonial Dr, Alabaster, AL 35007-4657</td>\n",
              "      <td>205-564-2608</td>\n",
              "      <td>https://www.target.com/sl/alabaster/2276</td>\n",
              "      <td>POINT (-86.80417 33.22423)</td>\n",
              "    </tr>\n",
              "    <tr>\n",
              "      <th>1</th>\n",
              "      <td>Bessemer</td>\n",
              "      <td>33.334550</td>\n",
              "      <td>-86.989778</td>\n",
              "      <td>4889 Promenade Pkwy, Bessemer, AL 35022-7305</td>\n",
              "      <td>205-565-3760</td>\n",
              "      <td>https://www.target.com/sl/bessemer/2375</td>\n",
              "      <td>POINT (-86.98978 33.33455)</td>\n",
              "    </tr>\n",
              "    <tr>\n",
              "      <th>2</th>\n",
              "      <td>Daphne</td>\n",
              "      <td>30.602875</td>\n",
              "      <td>-87.895932</td>\n",
              "      <td>1698 US Highway 98, Daphne, AL 36526-4252</td>\n",
              "      <td>251-621-3540</td>\n",
              "      <td>https://www.target.com/sl/daphne/1274</td>\n",
              "      <td>POINT (-87.89593 30.60287)</td>\n",
              "    </tr>\n",
              "    <tr>\n",
              "      <th>3</th>\n",
              "      <td>Decatur</td>\n",
              "      <td>34.560148</td>\n",
              "      <td>-86.971559</td>\n",
              "      <td>1235 Point Mallard Pkwy SE, Decatur, AL 35601-...</td>\n",
              "      <td>256-898-3036</td>\n",
              "      <td>https://www.target.com/sl/decatur/2084</td>\n",
              "      <td>POINT (-86.97156 34.56015)</td>\n",
              "    </tr>\n",
              "    <tr>\n",
              "      <th>4</th>\n",
              "      <td>Dothan</td>\n",
              "      <td>31.266061</td>\n",
              "      <td>-85.446422</td>\n",
              "      <td>4601 Montgomery Hwy, Dothan, AL 36303-1522</td>\n",
              "      <td>334-340-1112</td>\n",
              "      <td>https://www.target.com/sl/dothan/1468</td>\n",
              "      <td>POINT (-85.44642 31.26606)</td>\n",
              "    </tr>\n",
              "  </tbody>\n",
              "</table>\n",
              "</div>\n",
              "      <button class=\"colab-df-convert\" onclick=\"convertToInteractive('df-5668fc6b-4a0d-4e97-b6e8-212eb598c430')\"\n",
              "              title=\"Convert this dataframe to an interactive table.\"\n",
              "              style=\"display:none;\">\n",
              "        \n",
              "  <svg xmlns=\"http://www.w3.org/2000/svg\" height=\"24px\"viewBox=\"0 0 24 24\"\n",
              "       width=\"24px\">\n",
              "    <path d=\"M0 0h24v24H0V0z\" fill=\"none\"/>\n",
              "    <path d=\"M18.56 5.44l.94 2.06.94-2.06 2.06-.94-2.06-.94-.94-2.06-.94 2.06-2.06.94zm-11 1L8.5 8.5l.94-2.06 2.06-.94-2.06-.94L8.5 2.5l-.94 2.06-2.06.94zm10 10l.94 2.06.94-2.06 2.06-.94-2.06-.94-.94-2.06-.94 2.06-2.06.94z\"/><path d=\"M17.41 7.96l-1.37-1.37c-.4-.4-.92-.59-1.43-.59-.52 0-1.04.2-1.43.59L10.3 9.45l-7.72 7.72c-.78.78-.78 2.05 0 2.83L4 21.41c.39.39.9.59 1.41.59.51 0 1.02-.2 1.41-.59l7.78-7.78 2.81-2.81c.8-.78.8-2.07 0-2.86zM5.41 20L4 18.59l7.72-7.72 1.47 1.35L5.41 20z\"/>\n",
              "  </svg>\n",
              "      </button>\n",
              "      \n",
              "  <style>\n",
              "    .colab-df-container {\n",
              "      display:flex;\n",
              "      flex-wrap:wrap;\n",
              "      gap: 12px;\n",
              "    }\n",
              "\n",
              "    .colab-df-convert {\n",
              "      background-color: #E8F0FE;\n",
              "      border: none;\n",
              "      border-radius: 50%;\n",
              "      cursor: pointer;\n",
              "      display: none;\n",
              "      fill: #1967D2;\n",
              "      height: 32px;\n",
              "      padding: 0 0 0 0;\n",
              "      width: 32px;\n",
              "    }\n",
              "\n",
              "    .colab-df-convert:hover {\n",
              "      background-color: #E2EBFA;\n",
              "      box-shadow: 0px 1px 2px rgba(60, 64, 67, 0.3), 0px 1px 3px 1px rgba(60, 64, 67, 0.15);\n",
              "      fill: #174EA6;\n",
              "    }\n",
              "\n",
              "    [theme=dark] .colab-df-convert {\n",
              "      background-color: #3B4455;\n",
              "      fill: #D2E3FC;\n",
              "    }\n",
              "\n",
              "    [theme=dark] .colab-df-convert:hover {\n",
              "      background-color: #434B5C;\n",
              "      box-shadow: 0px 1px 3px 1px rgba(0, 0, 0, 0.15);\n",
              "      filter: drop-shadow(0px 1px 2px rgba(0, 0, 0, 0.3));\n",
              "      fill: #FFFFFF;\n",
              "    }\n",
              "  </style>\n",
              "\n",
              "      <script>\n",
              "        const buttonEl =\n",
              "          document.querySelector('#df-5668fc6b-4a0d-4e97-b6e8-212eb598c430 button.colab-df-convert');\n",
              "        buttonEl.style.display =\n",
              "          google.colab.kernel.accessAllowed ? 'block' : 'none';\n",
              "\n",
              "        async function convertToInteractive(key) {\n",
              "          const element = document.querySelector('#df-5668fc6b-4a0d-4e97-b6e8-212eb598c430');\n",
              "          const dataTable =\n",
              "            await google.colab.kernel.invokeFunction('convertToInteractive',\n",
              "                                                     [key], {});\n",
              "          if (!dataTable) return;\n",
              "\n",
              "          const docLinkHtml = 'Like what you see? Visit the ' +\n",
              "            '<a target=\"_blank\" href=https://colab.research.google.com/notebooks/data_table.ipynb>data table notebook</a>'\n",
              "            + ' to learn more about interactive tables.';\n",
              "          element.innerHTML = '';\n",
              "          dataTable['output_type'] = 'display_data';\n",
              "          await google.colab.output.renderOutput(dataTable, element);\n",
              "          const docLink = document.createElement('div');\n",
              "          docLink.innerHTML = docLinkHtml;\n",
              "          element.appendChild(docLink);\n",
              "        }\n",
              "      </script>\n",
              "    </div>\n",
              "  </div>\n",
              "  "
            ]
          },
          "metadata": {},
          "execution_count": 25
        }
      ]
    },
    {
      "cell_type": "code",
      "source": [
        "#mapa\n",
        "\n",
        "world = gpd.read_file(gpd.datasets.get_path(\"naturalearth_lowres\"))\n",
        "world = world.set_index(\"iso_a3\")\n",
        "\n",
        "world.head()"
      ],
      "metadata": {
        "colab": {
          "base_uri": "https://localhost:8080/",
          "height": 238
        },
        "id": "wB6Jkrvbfef1",
        "outputId": "b682b168-e3a0-4bce-8bef-ca5ba19ce87a"
      },
      "execution_count": 26,
      "outputs": [
        {
          "output_type": "execute_result",
          "data": {
            "text/plain": [
              "          pop_est      continent                      name  gdp_md_est  \\\n",
              "iso_a3                                                                   \n",
              "FJI        920938        Oceania                      Fiji      8374.0   \n",
              "TZA      53950935         Africa                  Tanzania    150600.0   \n",
              "ESH        603253         Africa                 W. Sahara       906.5   \n",
              "CAN      35623680  North America                    Canada   1674000.0   \n",
              "USA     326625791  North America  United States of America  18560000.0   \n",
              "\n",
              "                                                 geometry  \n",
              "iso_a3                                                     \n",
              "FJI     MULTIPOLYGON (((180.00000 -16.06713, 180.00000...  \n",
              "TZA     POLYGON ((33.90371 -0.95000, 34.07262 -1.05982...  \n",
              "ESH     POLYGON ((-8.66559 27.65643, -8.66512 27.58948...  \n",
              "CAN     MULTIPOLYGON (((-122.84000 49.00000, -122.9742...  \n",
              "USA     MULTIPOLYGON (((-122.84000 49.00000, -120.0000...  "
            ],
            "text/html": [
              "\n",
              "  <div id=\"df-540ab7c8-0a13-42a9-ad99-3926491838b7\">\n",
              "    <div class=\"colab-df-container\">\n",
              "      <div>\n",
              "<style scoped>\n",
              "    .dataframe tbody tr th:only-of-type {\n",
              "        vertical-align: middle;\n",
              "    }\n",
              "\n",
              "    .dataframe tbody tr th {\n",
              "        vertical-align: top;\n",
              "    }\n",
              "\n",
              "    .dataframe thead th {\n",
              "        text-align: right;\n",
              "    }\n",
              "</style>\n",
              "<table border=\"1\" class=\"dataframe\">\n",
              "  <thead>\n",
              "    <tr style=\"text-align: right;\">\n",
              "      <th></th>\n",
              "      <th>pop_est</th>\n",
              "      <th>continent</th>\n",
              "      <th>name</th>\n",
              "      <th>gdp_md_est</th>\n",
              "      <th>geometry</th>\n",
              "    </tr>\n",
              "    <tr>\n",
              "      <th>iso_a3</th>\n",
              "      <th></th>\n",
              "      <th></th>\n",
              "      <th></th>\n",
              "      <th></th>\n",
              "      <th></th>\n",
              "    </tr>\n",
              "  </thead>\n",
              "  <tbody>\n",
              "    <tr>\n",
              "      <th>FJI</th>\n",
              "      <td>920938</td>\n",
              "      <td>Oceania</td>\n",
              "      <td>Fiji</td>\n",
              "      <td>8374.0</td>\n",
              "      <td>MULTIPOLYGON (((180.00000 -16.06713, 180.00000...</td>\n",
              "    </tr>\n",
              "    <tr>\n",
              "      <th>TZA</th>\n",
              "      <td>53950935</td>\n",
              "      <td>Africa</td>\n",
              "      <td>Tanzania</td>\n",
              "      <td>150600.0</td>\n",
              "      <td>POLYGON ((33.90371 -0.95000, 34.07262 -1.05982...</td>\n",
              "    </tr>\n",
              "    <tr>\n",
              "      <th>ESH</th>\n",
              "      <td>603253</td>\n",
              "      <td>Africa</td>\n",
              "      <td>W. Sahara</td>\n",
              "      <td>906.5</td>\n",
              "      <td>POLYGON ((-8.66559 27.65643, -8.66512 27.58948...</td>\n",
              "    </tr>\n",
              "    <tr>\n",
              "      <th>CAN</th>\n",
              "      <td>35623680</td>\n",
              "      <td>North America</td>\n",
              "      <td>Canada</td>\n",
              "      <td>1674000.0</td>\n",
              "      <td>MULTIPOLYGON (((-122.84000 49.00000, -122.9742...</td>\n",
              "    </tr>\n",
              "    <tr>\n",
              "      <th>USA</th>\n",
              "      <td>326625791</td>\n",
              "      <td>North America</td>\n",
              "      <td>United States of America</td>\n",
              "      <td>18560000.0</td>\n",
              "      <td>MULTIPOLYGON (((-122.84000 49.00000, -120.0000...</td>\n",
              "    </tr>\n",
              "  </tbody>\n",
              "</table>\n",
              "</div>\n",
              "      <button class=\"colab-df-convert\" onclick=\"convertToInteractive('df-540ab7c8-0a13-42a9-ad99-3926491838b7')\"\n",
              "              title=\"Convert this dataframe to an interactive table.\"\n",
              "              style=\"display:none;\">\n",
              "        \n",
              "  <svg xmlns=\"http://www.w3.org/2000/svg\" height=\"24px\"viewBox=\"0 0 24 24\"\n",
              "       width=\"24px\">\n",
              "    <path d=\"M0 0h24v24H0V0z\" fill=\"none\"/>\n",
              "    <path d=\"M18.56 5.44l.94 2.06.94-2.06 2.06-.94-2.06-.94-.94-2.06-.94 2.06-2.06.94zm-11 1L8.5 8.5l.94-2.06 2.06-.94-2.06-.94L8.5 2.5l-.94 2.06-2.06.94zm10 10l.94 2.06.94-2.06 2.06-.94-2.06-.94-.94-2.06-.94 2.06-2.06.94z\"/><path d=\"M17.41 7.96l-1.37-1.37c-.4-.4-.92-.59-1.43-.59-.52 0-1.04.2-1.43.59L10.3 9.45l-7.72 7.72c-.78.78-.78 2.05 0 2.83L4 21.41c.39.39.9.59 1.41.59.51 0 1.02-.2 1.41-.59l7.78-7.78 2.81-2.81c.8-.78.8-2.07 0-2.86zM5.41 20L4 18.59l7.72-7.72 1.47 1.35L5.41 20z\"/>\n",
              "  </svg>\n",
              "      </button>\n",
              "      \n",
              "  <style>\n",
              "    .colab-df-container {\n",
              "      display:flex;\n",
              "      flex-wrap:wrap;\n",
              "      gap: 12px;\n",
              "    }\n",
              "\n",
              "    .colab-df-convert {\n",
              "      background-color: #E8F0FE;\n",
              "      border: none;\n",
              "      border-radius: 50%;\n",
              "      cursor: pointer;\n",
              "      display: none;\n",
              "      fill: #1967D2;\n",
              "      height: 32px;\n",
              "      padding: 0 0 0 0;\n",
              "      width: 32px;\n",
              "    }\n",
              "\n",
              "    .colab-df-convert:hover {\n",
              "      background-color: #E2EBFA;\n",
              "      box-shadow: 0px 1px 2px rgba(60, 64, 67, 0.3), 0px 1px 3px 1px rgba(60, 64, 67, 0.15);\n",
              "      fill: #174EA6;\n",
              "    }\n",
              "\n",
              "    [theme=dark] .colab-df-convert {\n",
              "      background-color: #3B4455;\n",
              "      fill: #D2E3FC;\n",
              "    }\n",
              "\n",
              "    [theme=dark] .colab-df-convert:hover {\n",
              "      background-color: #434B5C;\n",
              "      box-shadow: 0px 1px 3px 1px rgba(0, 0, 0, 0.15);\n",
              "      filter: drop-shadow(0px 1px 2px rgba(0, 0, 0, 0.3));\n",
              "      fill: #FFFFFF;\n",
              "    }\n",
              "  </style>\n",
              "\n",
              "      <script>\n",
              "        const buttonEl =\n",
              "          document.querySelector('#df-540ab7c8-0a13-42a9-ad99-3926491838b7 button.colab-df-convert');\n",
              "        buttonEl.style.display =\n",
              "          google.colab.kernel.accessAllowed ? 'block' : 'none';\n",
              "\n",
              "        async function convertToInteractive(key) {\n",
              "          const element = document.querySelector('#df-540ab7c8-0a13-42a9-ad99-3926491838b7');\n",
              "          const dataTable =\n",
              "            await google.colab.kernel.invokeFunction('convertToInteractive',\n",
              "                                                     [key], {});\n",
              "          if (!dataTable) return;\n",
              "\n",
              "          const docLinkHtml = 'Like what you see? Visit the ' +\n",
              "            '<a target=\"_blank\" href=https://colab.research.google.com/notebooks/data_table.ipynb>data table notebook</a>'\n",
              "            + ' to learn more about interactive tables.';\n",
              "          element.innerHTML = '';\n",
              "          dataTable['output_type'] = 'display_data';\n",
              "          await google.colab.output.renderOutput(dataTable, element);\n",
              "          const docLink = document.createElement('div');\n",
              "          docLink.innerHTML = docLinkHtml;\n",
              "          element.appendChild(docLink);\n",
              "        }\n",
              "      </script>\n",
              "    </div>\n",
              "  </div>\n",
              "  "
            ]
          },
          "metadata": {},
          "execution_count": 26
        }
      ]
    },
    {
      "cell_type": "code",
      "source": [
        "#graficar el mapa\n",
        "world.name.unique()"
      ],
      "metadata": {
        "colab": {
          "base_uri": "https://localhost:8080/"
        },
        "id": "0qkBCMSUflw_",
        "outputId": "88200305-d0e8-4bb5-a3d3-4c9512146931"
      },
      "execution_count": 27,
      "outputs": [
        {
          "output_type": "execute_result",
          "data": {
            "text/plain": [
              "array(['Fiji', 'Tanzania', 'W. Sahara', 'Canada',\n",
              "       'United States of America', 'Kazakhstan', 'Uzbekistan',\n",
              "       'Papua New Guinea', 'Indonesia', 'Argentina', 'Chile',\n",
              "       'Dem. Rep. Congo', 'Somalia', 'Kenya', 'Sudan', 'Chad', 'Haiti',\n",
              "       'Dominican Rep.', 'Russia', 'Bahamas', 'Falkland Is.', 'Norway',\n",
              "       'Greenland', 'Fr. S. Antarctic Lands', 'Timor-Leste',\n",
              "       'South Africa', 'Lesotho', 'Mexico', 'Uruguay', 'Brazil',\n",
              "       'Bolivia', 'Peru', 'Colombia', 'Panama', 'Costa Rica', 'Nicaragua',\n",
              "       'Honduras', 'El Salvador', 'Guatemala', 'Belize', 'Venezuela',\n",
              "       'Guyana', 'Suriname', 'France', 'Ecuador', 'Puerto Rico',\n",
              "       'Jamaica', 'Cuba', 'Zimbabwe', 'Botswana', 'Namibia', 'Senegal',\n",
              "       'Mali', 'Mauritania', 'Benin', 'Niger', 'Nigeria', 'Cameroon',\n",
              "       'Togo', 'Ghana', \"Côte d'Ivoire\", 'Guinea', 'Guinea-Bissau',\n",
              "       'Liberia', 'Sierra Leone', 'Burkina Faso', 'Central African Rep.',\n",
              "       'Congo', 'Gabon', 'Eq. Guinea', 'Zambia', 'Malawi', 'Mozambique',\n",
              "       'eSwatini', 'Angola', 'Burundi', 'Israel', 'Lebanon', 'Madagascar',\n",
              "       'Palestine', 'Gambia', 'Tunisia', 'Algeria', 'Jordan',\n",
              "       'United Arab Emirates', 'Qatar', 'Kuwait', 'Iraq', 'Oman',\n",
              "       'Vanuatu', 'Cambodia', 'Thailand', 'Laos', 'Myanmar', 'Vietnam',\n",
              "       'North Korea', 'South Korea', 'Mongolia', 'India', 'Bangladesh',\n",
              "       'Bhutan', 'Nepal', 'Pakistan', 'Afghanistan', 'Tajikistan',\n",
              "       'Kyrgyzstan', 'Turkmenistan', 'Iran', 'Syria', 'Armenia', 'Sweden',\n",
              "       'Belarus', 'Ukraine', 'Poland', 'Austria', 'Hungary', 'Moldova',\n",
              "       'Romania', 'Lithuania', 'Latvia', 'Estonia', 'Germany', 'Bulgaria',\n",
              "       'Greece', 'Turkey', 'Albania', 'Croatia', 'Switzerland',\n",
              "       'Luxembourg', 'Belgium', 'Netherlands', 'Portugal', 'Spain',\n",
              "       'Ireland', 'New Caledonia', 'Solomon Is.', 'New Zealand',\n",
              "       'Australia', 'Sri Lanka', 'China', 'Taiwan', 'Italy', 'Denmark',\n",
              "       'United Kingdom', 'Iceland', 'Azerbaijan', 'Georgia',\n",
              "       'Philippines', 'Malaysia', 'Brunei', 'Slovenia', 'Finland',\n",
              "       'Slovakia', 'Czechia', 'Eritrea', 'Japan', 'Paraguay', 'Yemen',\n",
              "       'Saudi Arabia', 'Antarctica', 'N. Cyprus', 'Cyprus', 'Morocco',\n",
              "       'Egypt', 'Libya', 'Ethiopia', 'Djibouti', 'Somaliland', 'Uganda',\n",
              "       'Rwanda', 'Bosnia and Herz.', 'Macedonia', 'Serbia', 'Montenegro',\n",
              "       'Kosovo', 'Trinidad and Tobago', 'S. Sudan'], dtype=object)"
            ]
          },
          "metadata": {},
          "execution_count": 27
        }
      ]
    },
    {
      "cell_type": "code",
      "source": [
        "fig, gax = plt.subplots(figsize=(10,10))\n",
        "\n",
        "# By only plotting rows in which the continent is 'South America' we only plot SA.\n",
        "world.query(\"name == 'United States of America'\").plot(ax=gax, edgecolor='black',color='white')\n",
        "\n",
        "# By the way, if you haven't read the book 'longitude' by Dava Sobel, you should...\n",
        "gax.set_xlabel('longitude')\n",
        "gax.set_ylabel('latitude')\n",
        "\n",
        "gax.spines['top'].set_visible(False)\n",
        "gax.spines['right'].set_visible(False)"
      ],
      "metadata": {
        "colab": {
          "base_uri": "https://localhost:8080/",
          "height": 476
        },
        "id": "swDogh7dfusl",
        "outputId": "7bc9a18a-b8af-4d82-d78e-f0589140852a"
      },
      "execution_count": 28,
      "outputs": [
        {
          "output_type": "display_data",
          "data": {
            "text/plain": [
              "<Figure size 720x720 with 1 Axes>"
            ],
            "image/png": "[encoded data removed]"
          },
          "metadata": {}
        }
      ]
    },
    {
      "cell_type": "code",
      "source": [
        "# Step 3: Plot the cities onto the map\n",
        "# We mostly use the code from before --- we still want the country borders plotted --- and we\n",
        "# add a command to plot the cities\n",
        "fig, gax = plt.subplots(figsize=(10,10))\n",
        "\n",
        "# By only plotting rows in which the continent is 'South America' we only plot, well,\n",
        "# South America.\n",
        "world.query(\"name == 'United States of America'\").plot(ax = gax, edgecolor='black', color='white')\n",
        "\n",
        "# This plot the cities. It's the same syntax, but we are plotting from a different GeoDataFrame.\n",
        "# I want the cities as pale red dots.\n",
        "gdf.plot(ax=gax, color='red', alpha = 0.5)\n",
        "\n",
        "gax.set_xlabel('longitude')\n",
        "gax.set_ylabel('latitude')\n",
        "gax.set_title('Target en Estados Unidos')\n",
        "\n",
        "gax.spines['top'].set_visible(False)\n",
        "gax.spines['right'].set_visible(False)\n",
        "\n",
        "plt.show()"
      ],
      "metadata": {
        "colab": {
          "base_uri": "https://localhost:8080/",
          "height": 381
        },
        "id": "OR0ydTOvf_Xp",
        "outputId": "033124f4-9e4b-4ebd-e879-e627924c8a74"
      },
      "execution_count": 29,
      "outputs": [
        {
          "output_type": "display_data",
          "data": {
            "text/plain": [
              "<Figure size 720x720 with 1 Axes>"
            ],
            "image/png": "[encoded data removed]"
          },
          "metadata": {}
        }
      ]
    },
    {
      "cell_type": "code",
      "source": [
        "#Librerias que se usaran a partir de esta parte\n",
        "from sklearn.cluster import KMeans\n",
        "from geopy.geocoders.yandex import Location\n",
        "from geopy.geocoders import Nominatim \n",
        "from geopy.distance import geodesic"
      ],
      "metadata": {
        "id": "BFD1dUU25mfj"
      },
      "execution_count": 30,
      "outputs": []
    },
    {
      "cell_type": "markdown",
      "source": [
        "¿qué tal ahora?, tiene mayor sentido verdad, entonces los datos lejanos no eran atípicos, de aquí la importancia de ver los datos con el tipo de gráfica correcta.\n",
        "\n",
        "Ahora sí, implementa K means a los datos de latitud y longitud :) y encuentra donde colocar los almacenes. \n",
        "\n",
        "Nota: si te llama la atención implementar alguna otra visualización con otra librería, lo puedes hacer, no hay restricciones."
      ],
      "metadata": {
        "id": "SMkonhsqfgSf"
      }
    },
    {
      "cell_type": "code",
      "source": [
        "K_clusters = range(1,10)\n",
        "kmeans = [KMeans(n_clusters=i) for i in K_clusters] #Aqui vamos evaluadno el kmeans en un numero de clusters, para ver cual es el mejor\n",
        "Y_axis = latlong[['latitude']]\n",
        "X_axis = latlong[['longitude']]\n",
        "score = [kmeans[i].fit(Y_axis).score(Y_axis) for i in range(len(kmeans))] #Evalua tus componentes minimos, \n"
      ],
      "metadata": {
        "id": "IfXq2ieSgD2e"
      },
      "execution_count": 31,
      "outputs": []
    },
    {
      "cell_type": "code",
      "source": [
        "#Ploteamos los clusters en comparación con los scores\n",
        "plt.plot(K_clusters, score)\n",
        "plt.xlabel('Numero de Clusters')\n",
        "plt.ylabel('Calificaion Kmeans')\n",
        "plt.title('Curbva de Codo')\n",
        "plt.show()"
      ],
      "metadata": {
        "colab": {
          "base_uri": "https://localhost:8080/",
          "height": 319
        },
        "id": "yfIcVLXd5q6u",
        "outputId": "098451fd-ff94-40e6-bce6-009a02b929fb"
      },
      "execution_count": 32,
      "outputs": [
        {
          "output_type": "display_data",
          "data": {
            "text/plain": [
              "<Figure size 432x288 with 1 Axes>"
            ],
            "image/png": "[encoded data removed]"
          },
          "metadata": {}
        }
      ]
    },
    {
      "cell_type": "markdown",
      "source": [
        "Se identifica la interseci[on de la curva entre el 2 y el 4, por lo tanto el punto optimo es el numero 3, correspondiente a los almacenes que seleccionaremos"
      ],
      "metadata": {
        "id": "xrtxjmXu-mYL"
      }
    },
    {
      "cell_type": "code",
      "source": [
        "kmeans = KMeans(n_clusters = 3, init ='k-means++') #Aqui no creamos nuevos clusters, solamente re creamos 3, que son los que necesitamos\n",
        "kmeans.fit(latlong[latlong.columns[0:2]])\n",
        "labels = kmeans.labels_\n",
        "labels"
      ],
      "metadata": {
        "colab": {
          "base_uri": "https://localhost:8080/"
        },
        "id": "vZnM4wc64-ic",
        "outputId": "272b1517-21b8-46a7-9841-e4ea7c363195"
      },
      "execution_count": 33,
      "outputs": [
        {
          "output_type": "execute_result",
          "data": {
            "text/plain": [
              "array([2, 2, 2, ..., 0, 2, 0], dtype=int32)"
            ]
          },
          "metadata": {},
          "execution_count": 33
        }
      ]
    },
    {
      "cell_type": "code",
      "source": [
        "#USamos el mismo codigo del ejercicio de ejemplo para a;adir una columna al dataframe con las coordenadas\n",
        "\n",
        "X = df[[\"longitude\",\"latitude\"]]\n",
        "\n",
        "kmeans = KMeans(n_clusters=3).fit(X) \n",
        "centroids = kmeans.cluster_centers_ \n",
        "labels = kmeans.predict(X)\n",
        "C = kmeans.cluster_centers_\n",
        "\n",
        "C_DF = pd.DataFrame(C) \n",
        "C_DF[\"Coordinates\"] = list(zip(C_DF[0], C_DF[1])) \n",
        "C_DF[\"Coordinates\"] = C_DF[\"Coordinates\"].apply(Point) \n",
        "\n",
        "\n",
        "gdf_C = gpd.GeoDataFrame(C_DF, geometry=\"Coordinates\") \n",
        "gdf_C"
      ],
      "metadata": {
        "colab": {
          "base_uri": "https://localhost:8080/",
          "height": 143
        },
        "id": "_-9SWTMK4-k9",
        "outputId": "69c064b7-1fef-4981-9b56-be596b1072fe"
      },
      "execution_count": 34,
      "outputs": [
        {
          "output_type": "execute_result",
          "data": {
            "text/plain": [
              "            0          1                  Coordinates\n",
              "0  -78.569908  37.789554   POINT (-78.56991 37.78955)\n",
              "1 -118.624473  37.487342  POINT (-118.62447 37.48734)\n",
              "2  -93.327172  37.980063   POINT (-93.32717 37.98006)"
            ],
            "text/html": [
              "\n",
              "  <div id=\"df-3e86e0b4-65e5-4f7b-ad18-a57f771ee2f8\">\n",
              "    <div class=\"colab-df-container\">\n",
              "      <div>\n",
              "<style scoped>\n",
              "    .dataframe tbody tr th:only-of-type {\n",
              "        vertical-align: middle;\n",
              "    }\n",
              "\n",
              "    .dataframe tbody tr th {\n",
              "        vertical-align: top;\n",
              "    }\n",
              "\n",
              "    .dataframe thead th {\n",
              "        text-align: right;\n",
              "    }\n",
              "</style>\n",
              "<table border=\"1\" class=\"dataframe\">\n",
              "  <thead>\n",
              "    <tr style=\"text-align: right;\">\n",
              "      <th></th>\n",
              "      <th>0</th>\n",
              "      <th>1</th>\n",
              "      <th>Coordinates</th>\n",
              "    </tr>\n",
              "  </thead>\n",
              "  <tbody>\n",
              "    <tr>\n",
              "      <th>0</th>\n",
              "      <td>-78.569908</td>\n",
              "      <td>37.789554</td>\n",
              "      <td>POINT (-78.56991 37.78955)</td>\n",
              "    </tr>\n",
              "    <tr>\n",
              "      <th>1</th>\n",
              "      <td>-118.624473</td>\n",
              "      <td>37.487342</td>\n",
              "      <td>POINT (-118.62447 37.48734)</td>\n",
              "    </tr>\n",
              "    <tr>\n",
              "      <th>2</th>\n",
              "      <td>-93.327172</td>\n",
              "      <td>37.980063</td>\n",
              "      <td>POINT (-93.32717 37.98006)</td>\n",
              "    </tr>\n",
              "  </tbody>\n",
              "</table>\n",
              "</div>\n",
              "      <button class=\"colab-df-convert\" onclick=\"convertToInteractive('df-3e86e0b4-65e5-4f7b-ad18-a57f771ee2f8')\"\n",
              "              title=\"Convert this dataframe to an interactive table.\"\n",
              "              style=\"display:none;\">\n",
              "        \n",
              "  <svg xmlns=\"http://www.w3.org/2000/svg\" height=\"24px\"viewBox=\"0 0 24 24\"\n",
              "       width=\"24px\">\n",
              "    <path d=\"M0 0h24v24H0V0z\" fill=\"none\"/>\n",
              "    <path d=\"M18.56 5.44l.94 2.06.94-2.06 2.06-.94-2.06-.94-.94-2.06-.94 2.06-2.06.94zm-11 1L8.5 8.5l.94-2.06 2.06-.94-2.06-.94L8.5 2.5l-.94 2.06-2.06.94zm10 10l.94 2.06.94-2.06 2.06-.94-2.06-.94-.94-2.06-.94 2.06-2.06.94z\"/><path d=\"M17.41 7.96l-1.37-1.37c-.4-.4-.92-.59-1.43-.59-.52 0-1.04.2-1.43.59L10.3 9.45l-7.72 7.72c-.78.78-.78 2.05 0 2.83L4 21.41c.39.39.9.59 1.41.59.51 0 1.02-.2 1.41-.59l7.78-7.78 2.81-2.81c.8-.78.8-2.07 0-2.86zM5.41 20L4 18.59l7.72-7.72 1.47 1.35L5.41 20z\"/>\n",
              "  </svg>\n",
              "      </button>\n",
              "      \n",
              "  <style>\n",
              "    .colab-df-container {\n",
              "      display:flex;\n",
              "      flex-wrap:wrap;\n",
              "      gap: 12px;\n",
              "    }\n",
              "\n",
              "    .colab-df-convert {\n",
              "      background-color: #E8F0FE;\n",
              "      border: none;\n",
              "      border-radius: 50%;\n",
              "      cursor: pointer;\n",
              "      display: none;\n",
              "      fill: #1967D2;\n",
              "      height: 32px;\n",
              "      padding: 0 0 0 0;\n",
              "      width: 32px;\n",
              "    }\n",
              "\n",
              "    .colab-df-convert:hover {\n",
              "      background-color: #E2EBFA;\n",
              "      box-shadow: 0px 1px 2px rgba(60, 64, 67, 0.3), 0px 1px 3px 1px rgba(60, 64, 67, 0.15);\n",
              "      fill: #174EA6;\n",
              "    }\n",
              "\n",
              "    [theme=dark] .colab-df-convert {\n",
              "      background-color: #3B4455;\n",
              "      fill: #D2E3FC;\n",
              "    }\n",
              "\n",
              "    [theme=dark] .colab-df-convert:hover {\n",
              "      background-color: #434B5C;\n",
              "      box-shadow: 0px 1px 3px 1px rgba(0, 0, 0, 0.15);\n",
              "      filter: drop-shadow(0px 1px 2px rgba(0, 0, 0, 0.3));\n",
              "      fill: #FFFFFF;\n",
              "    }\n",
              "  </style>\n",
              "\n",
              "      <script>\n",
              "        const buttonEl =\n",
              "          document.querySelector('#df-3e86e0b4-65e5-4f7b-ad18-a57f771ee2f8 button.colab-df-convert');\n",
              "        buttonEl.style.display =\n",
              "          google.colab.kernel.accessAllowed ? 'block' : 'none';\n",
              "\n",
              "        async function convertToInteractive(key) {\n",
              "          const element = document.querySelector('#df-3e86e0b4-65e5-4f7b-ad18-a57f771ee2f8');\n",
              "          const dataTable =\n",
              "            await google.colab.kernel.invokeFunction('convertToInteractive',\n",
              "                                                     [key], {});\n",
              "          if (!dataTable) return;\n",
              "\n",
              "          const docLinkHtml = 'Like what you see? Visit the ' +\n",
              "            '<a target=\"_blank\" href=https://colab.research.google.com/notebooks/data_table.ipynb>data table notebook</a>'\n",
              "            + ' to learn more about interactive tables.';\n",
              "          element.innerHTML = '';\n",
              "          dataTable['output_type'] = 'display_data';\n",
              "          await google.colab.output.renderOutput(dataTable, element);\n",
              "          const docLink = document.createElement('div');\n",
              "          docLink.innerHTML = docLinkHtml;\n",
              "          element.appendChild(docLink);\n",
              "        }\n",
              "      </script>\n",
              "    </div>\n",
              "  </div>\n",
              "  "
            ]
          },
          "metadata": {},
          "execution_count": 34
        }
      ]
    },
    {
      "cell_type": "code",
      "source": [
        "fig, gax = plt.subplots(figsize=(15,10))\n",
        "\n",
        "world.query(\"name == 'United States of America'\").plot(ax = gax, edgecolor='black', color='white') \n",
        "\n",
        "gdf.plot(ax=gax, color='yellow', alpha = 0.5) \n",
        "gdf_C.plot(ax=gax, color='black', alpha = 1, markersize = 300) \n",
        "\n",
        "gax.set_xlabel('longitude')\n",
        "gax.set_ylabel('latitude')\n",
        "gax.set_title('Target en Estados Unidos')\n",
        "\n",
        "gax.spines['top'].set_visible(False)\n",
        "gax.spines['right'].set_visible(False)\n",
        "\n",
        "plt.show()"
      ],
      "metadata": {
        "colab": {
          "base_uri": "https://localhost:8080/",
          "height": 520
        },
        "id": "3We2-Xym4-nQ",
        "outputId": "33c08315-3f9b-40f5-d7d8-5b95206b0e26"
      },
      "execution_count": 35,
      "outputs": [
        {
          "output_type": "display_data",
          "data": {
            "text/plain": [
              "<Figure size 1080x720 with 1 Axes>"
            ],
            "image/png": "[encoded data removed]"
          },
          "metadata": {}
        }
      ]
    },
    {
      "cell_type": "code",
      "source": [
        "latlong['kmeans'] = kmeans.labels_  \n",
        "latlong.loc[:, 'kmeans'].value_counts() "
      ],
      "metadata": {
        "colab": {
          "base_uri": "https://localhost:8080/"
        },
        "id": "VgLneoFV4-qG",
        "outputId": "89890f35-0685-4fc5-ef4a-027089177d72"
      },
      "execution_count": 36,
      "outputs": [
        {
          "output_type": "stream",
          "name": "stderr",
          "text": [
            "/usr/local/lib/python3.7/dist-packages/ipykernel_launcher.py:1: SettingWithCopyWarning: \n",
            "A value is trying to be set on a copy of a slice from a DataFrame.\n",
            "Try using .loc[row_indexer,col_indexer] = value instead\n",
            "\n",
            "See the caveats in the documentation: https://pandas.pydata.org/pandas-docs/stable/user_guide/indexing.html#returning-a-view-versus-a-copy\n",
            "  \"\"\"Entry point for launching an IPython kernel.\n"
          ]
        },
        {
          "output_type": "execute_result",
          "data": {
            "text/plain": [
              "0    826\n",
              "2    628\n",
              "1    385\n",
              "Name: kmeans, dtype: int64"
            ]
          },
          "metadata": {},
          "execution_count": 36
        }
      ]
    },
    {
      "cell_type": "code",
      "source": [
        "Location1 = str(gdf_C[1][0]) + \", \" + str(gdf_C[0][0]) \n",
        "print('Ubicacion 1---', Location1)\n",
        "Location2 = str(gdf_C[1][1]) + \", \" + str(gdf_C[0][1])\n",
        "print('Ubicacion 2---',Location2)\n",
        "Location3 = str(gdf_C[1][2]) + \", \" + str(gdf_C[0][2])\n",
        "print('Ubicacion 3---',Location3)\n"
      ],
      "metadata": {
        "colab": {
          "base_uri": "https://localhost:8080/"
        },
        "id": "QF_BHI4T4-sR",
        "outputId": "e3502473-2486-4973-89d7-ccaf51b88586"
      },
      "execution_count": 37,
      "outputs": [
        {
          "output_type": "stream",
          "name": "stdout",
          "text": [
            "Ubicacion 1 37.789554004474006, -78.56990807484885\n",
            "Ubicacion 2 37.48734203064935, -118.62447331844157\n",
            "Ubicacion 3 37.98006260590112, -93.32717230430622\n"
          ]
        }
      ]
    },
    {
      "cell_type": "code",
      "source": [
        "geolocator = Nominatim(user_agent=\"my-application\") #Inicializamos la libreria\n",
        "Locations = [Location1, Location2, Location3] #Metemos las coordenadas obtenidas\n",
        "\n",
        "for ciudad in Locations:\n",
        "  location = geolocator.reverse(ciudad)\n",
        "  #invertimos la busqueda, introduciendo coordenadas obtenemos el nobre\n",
        "  print('almacen en ---', location.address)"
      ],
      "metadata": {
        "colab": {
          "base_uri": "https://localhost:8080/"
        },
        "id": "Sk0Zpj1d4-vJ",
        "outputId": "f279297d-4532-4e19-cbf5-6a90be6ad023"
      },
      "execution_count": 38,
      "outputs": [
        {
          "output_type": "stream",
          "name": "stdout",
          "text": [
            "almacen en --- Langhorne Road, Totier Hills, Albemarle County, Virginia, 22946, United States\n",
            "almacen en --- Paradise Estates, Mono County, California, United States\n",
            "almacen en --- Hickory County, Missouri, United States\n"
          ]
        }
      ]
    },
    {
      "cell_type": "code",
      "source": [
        "distancia1 = str(geodesic(Location1, Location2).miles)\n",
        "print(\"\\nDistancia entre el primer y segundo almacén : \", distancia1, \" ft2 \\n\") \n",
        "distancia2 = str(geodesic(Location2, Location3).miles)\n",
        "print(\"Distancia entre el segundo y tercer almacén : \", distancia2, \" ml \\n\")\n",
        "\n",
        "\n",
        "#type(distancia1)\n",
        "#int(distancia1)\n",
        "#Convertimos a Kilometros dividieno millas entre 1.16\n",
        "\n",
        "print (2179.65/1.16)\n",
        "print(1381.42/1.16)\n"
      ],
      "metadata": {
        "colab": {
          "base_uri": "https://localhost:8080/"
        },
        "id": "DtsYu-Ac6G6o",
        "outputId": "1bdb8d37-e181-4fb6-908d-370359a7314c"
      },
      "execution_count": 39,
      "outputs": [
        {
          "output_type": "stream",
          "name": "stdout",
          "text": [
            "\n",
            "Distancia entre el primer y segundo almacén :  2179.654449831999  ft2 \n",
            "\n",
            "Distancia entre el segundo y tercer almacén :  1381.7597109962394  ml \n",
            "\n",
            "1879.0086206896553\n",
            "1190.8793103448277\n"
          ]
        }
      ]
    },
    {
      "cell_type": "markdown",
      "source": [
        "Encuentra el numero ideal de almacenes, justifica tu respuesta:\n",
        "\n",
        "Encuentra las latitudes y longitudes de los almacenes, ¿qué ciudad es?, ¿a cuantas tiendas va surtir?, ¿sabes a que distancia estará?\n",
        "¿Cómo elegiste el número de almacenes?, justifica tu respuesta técnicamente.\n",
        "Adicionalmente, en el notebook notaras que al inicio exploramos los datos y los graficamos de manera simple, después nos auxiliamos de una librería de datos geográficos.\n",
        "\n",
        "¿qué librerías nos pueden ayudar a graficar este tipo de datos?\n",
        "¿Consideras importante que se grafique en un mapa?, ¿por qué?\n",
        "Agrega las conclusiones"
      ],
      "metadata": {
        "id": "zzmzbK0V5W1H"
      }
    },
    {
      "cell_type": "markdown",
      "source": [
        "***Conclusiones***\n",
        "El numero ideal de almacenes para surtir todas las sucursales, se ubico en 3, ya que la grafica que compara los clústers creados con las metricas kmeans, permite observar un quiebre en la curvbaturoa notable justo en el numero 3\n",
        "\n",
        "Las ciudades son: Albemarle Country, Mono Country, y Hickory.\n",
        "y surtiran 826, 628 y 385 tiendas respectivamente, las distancias \n",
        "\n",
        "- CIUDAD------TIENAS--SEPARACIÓN \n",
        "- Albemarle---826-----0 Km\n",
        "- Mono--------628-----1879 km\n",
        "- Hickory-----385-----1190 km\n",
        "\n",
        "A continuacion tambeinse añade la libreria folium que nos permite graficar este tipo de datos, los cuales son geograficos.\n",
        "\n",
        "Este tipo de datos son necesarios de graficar, ya que por el tipo de actividad es un entorno directivo, el cual requiere elemtnos graficos para la toma de desiciones, es decir, el equipo de planeacion no necesita coordenadas, necesita mapas y nombres de ciudades, para poder anlizar el contexto tanto social, como economis\n",
        "\n"
      ],
      "metadata": {
        "id": "JxJgkmHq5Yzh"
      }
    },
    {
      "cell_type": "code",
      "source": [
        "!pip install folium\n",
        "import folium\n",
        "mapa = folium.Map(location=[37.789554004474006, -78.56990807484885])\n",
        "mapa\n",
        "\n",
        "coordenada = 'Almacen 1'\n",
        "\n",
        "folium.Marker([37.789554004474006, -78.56990807484885],tooltip= coordenada).add_to(mapa)\n",
        "mapa"
      ],
      "metadata": {
        "colab": {
          "base_uri": "https://localhost:8080/",
          "height": 1000
        },
        "id": "sxA0CLqj_GTE",
        "outputId": "a5839419-06fb-4321-8e3d-43c6ccb8b08c"
      },
      "execution_count": 45,
      "outputs": [
        {
          "output_type": "stream",
          "name": "stdout",
          "text": [
            "Looking in indexes: https://pypi.org/simple, https://us-python.pkg.dev/colab-wheels/public/simple/\n",
            "Requirement already satisfied: folium in /usr/local/lib/python3.7/dist-packages (0.12.1.post1)\n",
            "Requirement already satisfied: jinja2>=2.9 in /usr/local/lib/python3.7/dist-packages (from folium) (2.11.3)\n",
            "Requirement already satisfied: branca>=0.3.0 in /usr/local/lib/python3.7/dist-packages (from folium) (0.5.0)\n",
            "Requirement already satisfied: requests in /usr/local/lib/python3.7/dist-packages (from folium) (2.23.0)\n",
            "Requirement already satisfied: numpy in /usr/local/lib/python3.7/dist-packages (from folium) (1.21.6)\n",
            "Requirement already satisfied: MarkupSafe>=0.23 in /usr/local/lib/python3.7/dist-packages (from jinja2>=2.9->folium) (2.0.1)\n",
            "Requirement already satisfied: urllib3!=1.25.0,!=1.25.1,<1.26,>=1.21.1 in /usr/local/lib/python3.7/dist-packages (from requests->folium) (1.24.3)\n",
            "Requirement already satisfied: certifi>=2017.4.17 in /usr/local/lib/python3.7/dist-packages (from requests->folium) (2022.9.24)\n",
            "Requirement already satisfied: idna<3,>=2.5 in /usr/local/lib/python3.7/dist-packages (from requests->folium) (2.10)\n",
            "Requirement already satisfied: chardet<4,>=3.0.2 in /usr/local/lib/python3.7/dist-packages (from requests->folium) (3.0.4)\n"
          ]
        },
        {
          "output_type": "execute_result",
          "data": {
            "text/plain": [
              "<folium.folium.Map at 0x7f5413666d90>"
            ],
            "text/html": [
              "<div style=\"width:100%;\"><div style=\"position:relative;width:100%;height:0;padding-bottom:60%;\"><span style=\"color:#565656\">Make this Notebook Trusted to load map: File -> Trust Notebook</span><iframe srcdoc=\"&lt;!DOCTYPE html&gt;\n",
              "&lt;head&gt;    \n",
              "    &lt;meta http-equiv=&quot;content-type&quot; content=&quot;text/html; charset=UTF-8&quot; /&gt;\n",
              "    \n",
              "        &lt;script&gt;\n",
              "            L_NO_TOUCH = false;\n",
              "            L_DISABLE_3D = false;\n",
              "        &lt;/script&gt;\n",
              "    \n",
              "    &lt;style&gt;html, body {width: 100%;height: 100%;margin: 0;padding: 0;}&lt;/style&gt;\n",
              "    &lt;style&gt;#map {position:absolute;top:0;bottom:0;right:0;left:0;}&lt;/style&gt;\n",
              "    &lt;script src=&quot;https://cdn.jsdelivr.net/npm/leaflet@1.6.0/dist/leaflet.js&quot;&gt;&lt;/script&gt;\n",
              "    &lt;script src=&quot;https://code.jquery.com/jquery-1.12.4.min.js&quot;&gt;&lt;/script&gt;\n",
              "    &lt;script src=&quot;https://maxcdn.bootstrapcdn.com/bootstrap/3.2.0/js/bootstrap.min.js&quot;&gt;&lt;/script&gt;\n",
              "    &lt;script src=&quot;https://cdnjs.cloudflare.com/ajax/libs/Leaflet.awesome-markers/2.0.2/leaflet.awesome-markers.js&quot;&gt;&lt;/script&gt;\n",
              "    &lt;link rel=&quot;stylesheet&quot; href=&quot;https://cdn.jsdelivr.net/npm/leaflet@1.6.0/dist/leaflet.css&quot;/&gt;\n",
              "    &lt;link rel=&quot;stylesheet&quot; href=&quot;https://maxcdn.bootstrapcdn.com/bootstrap/3.2.0/css/bootstrap.min.css&quot;/&gt;\n",
              "    &lt;link rel=&quot;stylesheet&quot; href=&quot;https://maxcdn.bootstrapcdn.com/bootstrap/3.2.0/css/bootstrap-theme.min.css&quot;/&gt;\n",
              "    &lt;link rel=&quot;stylesheet&quot; href=&quot;https://maxcdn.bootstrapcdn.com/font-awesome/4.6.3/css/font-awesome.min.css&quot;/&gt;\n",
              "    &lt;link rel=&quot;stylesheet&quot; href=&quot;https://cdnjs.cloudflare.com/ajax/libs/Leaflet.awesome-markers/2.0.2/leaflet.awesome-markers.css&quot;/&gt;\n",
              "    &lt;link rel=&quot;stylesheet&quot; href=&quot;https://cdn.jsdelivr.net/gh/python-visualization/folium/folium/templates/leaflet.awesome.rotate.min.css&quot;/&gt;\n",
              "    \n",
              "            &lt;meta name=&quot;viewport&quot; content=&quot;width=device-width,\n",
              "                initial-scale=1.0, maximum-scale=1.0, user-scalable=no&quot; /&gt;\n",
              "            &lt;style&gt;\n",
              "                #map_bef584c546f93199d48e9dcd86115ac7 {\n",
              "                    position: relative;\n",
              "                    width: 100.0%;\n",
              "                    height: 100.0%;\n",
              "                    left: 0.0%;\n",
              "                    top: 0.0%;\n",
              "                }\n",
              "            &lt;/style&gt;\n",
              "        \n",
              "&lt;/head&gt;\n",
              "&lt;body&gt;    \n",
              "    \n",
              "            &lt;div class=&quot;folium-map&quot; id=&quot;map_bef584c546f93199d48e9dcd86115ac7&quot; &gt;&lt;/div&gt;\n",
              "        \n",
              "&lt;/body&gt;\n",
              "&lt;script&gt;    \n",
              "    \n",
              "            var map_bef584c546f93199d48e9dcd86115ac7 = L.map(\n",
              "                &quot;map_bef584c546f93199d48e9dcd86115ac7&quot;,\n",
              "                {\n",
              "                    center: [37.789554004474006, -78.56990807484885],\n",
              "                    crs: L.CRS.EPSG3857,\n",
              "                    zoom: 10,\n",
              "                    zoomControl: true,\n",
              "                    preferCanvas: false,\n",
              "                }\n",
              "            );\n",
              "\n",
              "            \n",
              "\n",
              "        \n",
              "    \n",
              "            var tile_layer_bea424cdbdb3763714ce16bb1c64e80a = L.tileLayer(\n",
              "                &quot;https://{s}.tile.openstreetmap.org/{z}/{x}/{y}.png&quot;,\n",
              "                {&quot;attribution&quot;: &quot;Data by \\u0026copy; \\u003ca href=\\&quot;http://openstreetmap.org\\&quot;\\u003eOpenStreetMap\\u003c/a\\u003e, under \\u003ca href=\\&quot;http://www.openstreetmap.org/copyright\\&quot;\\u003eODbL\\u003c/a\\u003e.&quot;, &quot;detectRetina&quot;: false, &quot;maxNativeZoom&quot;: 18, &quot;maxZoom&quot;: 18, &quot;minZoom&quot;: 0, &quot;noWrap&quot;: false, &quot;opacity&quot;: 1, &quot;subdomains&quot;: &quot;abc&quot;, &quot;tms&quot;: false}\n",
              "            ).addTo(map_bef584c546f93199d48e9dcd86115ac7);\n",
              "        \n",
              "    \n",
              "            var marker_3229d2697c7988108641c91468d2c878 = L.marker(\n",
              "                [37.789554004474006, -78.56990807484885],\n",
              "                {}\n",
              "            ).addTo(map_bef584c546f93199d48e9dcd86115ac7);\n",
              "        \n",
              "    \n",
              "            marker_3229d2697c7988108641c91468d2c878.bindTooltip(\n",
              "                `&lt;div&gt;\n",
              "                     Almacen 1\n",
              "                 &lt;/div&gt;`,\n",
              "                {&quot;sticky&quot;: true}\n",
              "            );\n",
              "        \n",
              "&lt;/script&gt;\" style=\"position:absolute;width:100%;height:100%;left:0;top:0;border:none !important;\" allowfullscreen webkitallowfullscreen mozallowfullscreen></iframe></div></div>"
            ]
          },
          "metadata": {},
          "execution_count": 45
        }
      ]
    }
  ]
}