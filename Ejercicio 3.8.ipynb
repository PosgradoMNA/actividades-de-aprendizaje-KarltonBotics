{
 "cells": [
  {
   "cell_type": "code",
   "execution_count": null,
   "id": "38516b11",
   "metadata": {},
   "outputs": [],
   "source": [
    "#Ejercicio del carro y sus duenos\n",
    "#Creamos el objeto\n",
    "class vehiculo(object):\n",
    "    def _init_(self,marca,modelo,color):\n",
    "        self.marca=marca;\n",
    "        self.modelo=modelo;\n",
    "        self.color=color;\n",
    "        self.numero_duenos=0\n",
    "#Ahora hacemos el metodo par aimrpimir los atributos\n",
    "    def imprimir_informacion(self):\n",
    "        print(\"Carro marca\",self.marca)\n",
    "        print(\"Carro modelo\",self.modelo)\n",
    "        print(\"Carro color\",self.color)\n",
    "        print(\"Cantidad de duenos\",self.numero_duenos)\n",
    "#Definimos el metodo vender, para aumentar el numero de vendedoreas\n",
    "    def venta(self):\n",
    "        self.numero_duenos=numero_duenos+1"
   ]
  },
  {
   "cell_type": "code",
   "execution_count": null,
   "id": "1ade1c67",
   "metadata": {},
   "outputs": [],
   "source": [
    "#Creamos un nuevo carro e imprimios su atributo\n",
    "dir(vehiculo)\n",
    "\n",
    "marca=\"BMW\"\n",
    "modelo=\"Serie1\"\n",
    "color=\"Blanco\"\n",
    "\n",
    "micarro = vehiculo(marca,modelo,color)\n",
    "\n",
    "micarro.imprimir_informacion()"
   ]
  },
  {
   "cell_type": "code",
   "execution_count": null,
   "id": "8709895a",
   "metadata": {},
   "outputs": [],
   "source": [
    "#Aumentamos sus duenos\n",
    "\n",
    "for i in range(3):\n",
    "    micarro.venta()\n",
    "micarro.imprimir_informacion()"
   ]
  },
  {
   "cell_type": "code",
   "execution_count": null,
   "id": "1b4a5523",
   "metadata": {},
   "outputs": [],
   "source": []
  }
 ],
 "metadata": {
  "kernelspec": {
   "display_name": "Python 3 (ipykernel)",
   "language": "python",
   "name": "python3"
  },
  "language_info": {
   "codemirror_mode": {
    "name": "ipython",
    "version": 3
   },
   "file_extension": ".py",
   "mimetype": "text/x-python",
   "name": "python",
   "nbconvert_exporter": "python",
   "pygments_lexer": "ipython3",
   "version": "3.10.7"
  }
 },
 "nbformat": 4,
 "nbformat_minor": 5
}
