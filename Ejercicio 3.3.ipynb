{
 "cells": [
  {
   "cell_type": "code",
   "execution_count": 1,
   "id": "03b169cf",
   "metadata": {},
   "outputs": [
    {
     "name": "stdout",
     "output_type": "stream",
     "text": [
      "elemento 1\n",
      "2\n",
      "elemento 2\n",
      "3\n",
      "elemento 3\n",
      "4\n",
      "elemento 4\n",
      "5\n",
      "elemento 5\n",
      "6\n",
      "elemento 6\n"
     ]
    },
    {
     "ename": "IndexError",
     "evalue": "list index out of range",
     "output_type": "error",
     "traceback": [
      "\u001b[1;31m---------------------------------------------------------------------------\u001b[0m",
      "\u001b[1;31mIndexError\u001b[0m                                Traceback (most recent call last)",
      "Cell \u001b[1;32mIn [1], line 6\u001b[0m\n\u001b[0;32m      4\u001b[0m \u001b[38;5;28;01mfor\u001b[39;00m contador \u001b[38;5;129;01min\u001b[39;00m Lista:\n\u001b[0;32m      5\u001b[0m     \u001b[38;5;28mprint\u001b[39m(\u001b[38;5;124m'\u001b[39m\u001b[38;5;124melemento\u001b[39m\u001b[38;5;124m'\u001b[39m,contador)\n\u001b[1;32m----> 6\u001b[0m     \u001b[38;5;28mprint\u001b[39m(\u001b[43mLista\u001b[49m\u001b[43m[\u001b[49m\u001b[43mcontador\u001b[49m\u001b[43m]\u001b[49m)\n",
      "\u001b[1;31mIndexError\u001b[0m: list index out of range"
     ]
    }
   ],
   "source": [
    "#Crear una lista y usar un loop para imprimir todos los elemento\n",
    "A=[3,4,5]\n",
    "for i in A:  \n",
    "    print(i)\n",
    "    \n",
    "Lista=[1,2,3,4,5,6]\n",
    "for contador in Lista:\n",
    "    print('elemento',contador)\n",
    "    print(Lista[contador])"
   ]
  },
  {
   "cell_type": "code",
   "execution_count": 4,
   "id": "d7076c62",
   "metadata": {},
   "outputs": [
    {
     "name": "stdout",
     "output_type": "stream",
     "text": [
      "1\n",
      "2\n",
      "3\n",
      "4\n",
      "5\n",
      "6\n",
      "7\n",
      "8\n",
      "9\n"
     ]
    }
   ],
   "source": [
    "#imprimir una secuencia\n",
    "variable1=10\n",
    "variable2=1\n",
    "while (variable2<variable1):\n",
    "    print(variable2)\n",
    "    variable2=variable2+1"
   ]
  },
  {
   "cell_type": "code",
   "execution_count": null,
   "id": "a47a4d58",
   "metadata": {},
   "outputs": [],
   "source": []
  },
  {
   "cell_type": "code",
   "execution_count": null,
   "id": "95e5358e",
   "metadata": {},
   "outputs": [],
   "source": []
  }
 ],
 "metadata": {
  "kernelspec": {
   "display_name": "Python 3 (ipykernel)",
   "language": "python",
   "name": "python3"
  },
  "language_info": {
   "codemirror_mode": {
    "name": "ipython",
    "version": 3
   },
   "file_extension": ".py",
   "mimetype": "text/x-python",
   "name": "python",
   "nbconvert_exporter": "python",
   "pygments_lexer": "ipython3",
   "version": "3.10.7"
  }
 },
 "nbformat": 4,
 "nbformat_minor": 5
}
