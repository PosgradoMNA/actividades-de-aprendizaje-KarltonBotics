{
 "cells": [
  {
   "cell_type": "code",
   "execution_count": null,
   "id": "68fad417",
   "metadata": {},
   "outputs": [],
   "source": [
    "#you are running the lab in your  browser, so we will install the libraries using ``piplite``\n",
    "import piplite\n",
    "await piplite.install(['pandas'])\n",
    "await piplite.install(['matplotlib'])\n",
    "await piplite.install(['scipy'])\n",
    "await piplite.install(['seaborn'])"
   ]
  },
  {
   "cell_type": "code",
   "execution_count": null,
   "id": "11ecc3cd",
   "metadata": {},
   "outputs": [],
   "source": [
    "#you are running the lab in your  browser, so we will install the libraries using ``piplite``\n",
    "import piplite\n",
    "await piplite.install(['pandas'])\n",
    "await piplite.install(['matplotlib'])\n",
    "await piplite.install(['scipy'])\n",
    "await piplite.install(['seaborn'])"
   ]
  },
  {
   "cell_type": "code",
   "execution_count": null,
   "id": "e39c5c9d",
   "metadata": {},
   "outputs": [],
   "source": [
    "import pandas as pd\n",
    "import numpy as np"
   ]
  },
  {
   "cell_type": "code",
   "execution_count": null,
   "id": "05b0b406",
   "metadata": {},
   "outputs": [],
   "source": [
    "#Para este ejercicio, este codigo nos permite descargar el data set\n",
    "\n",
    "from pyodide.http import pyfetch\n",
    "\n",
    "async def download(url, filename):\n",
    "    response = await pyfetch(url)\n",
    "    if response.status == 200:\n",
    "        with open(filename, \"wb\") as f:\n",
    "            f.write(await response.bytes())\n"
   ]
  },
  {
   "cell_type": "code",
   "execution_count": null,
   "id": "5c730aa4",
   "metadata": {},
   "outputs": [],
   "source": [
    "path='https://cf-courses-data.s3.us.cloud-object-storage.appdomain.cloud/IBMDeveloperSkillsNetwork-DA0101EN-SkillsNetwork/labs/Data%20files/automobileEDA.csv'\n",
    "await download(path, \"auto.csv\")\n",
    "filename=\"auto.csv\"\n"
   ]
  },
  {
   "cell_type": "code",
   "execution_count": null,
   "id": "b465654b",
   "metadata": {},
   "outputs": [],
   "source": [
    "#Verificamos la descarga correcta imprimiendo\n",
    "df = pd.read_csv(filename)\n",
    "df.head()"
   ]
  },
  {
   "cell_type": "code",
   "execution_count": null,
   "id": "50bfef6b",
   "metadata": {},
   "outputs": [],
   "source": [
    "import matplotlib.pyplot as plt\n",
    "import seaborn as sns\n",
    "%matplotlib inline "
   ]
  },
  {
   "cell_type": "code",
   "execution_count": null,
   "id": "743496f4",
   "metadata": {},
   "outputs": [],
   "source": [
    "#para imprimir el tipo de datos de cada columna\n",
    "print(df.dtypes)\n",
    "#Para imprimir el tipo de dato de una columna especifica usamos\n",
    "df['peak-rpm'].dtypes"
   ]
  },
  {
   "cell_type": "code",
   "execution_count": null,
   "id": "425d6456",
   "metadata": {},
   "outputs": [],
   "source": [
    "#PAra obtener la correñacion de un dataset\n",
    "df.corr()"
   ]
  },
  {
   "cell_type": "code",
   "execution_count": null,
   "id": "2e403d54",
   "metadata": {},
   "outputs": [],
   "source": [
    "#Para obtener la correlacion entre dos columnas especificas, las llamamos por nombre\n",
    "df[['bore', 'stroke', 'compression-ratio', 'horsepower']].corr()"
   ]
  },
  {
   "cell_type": "code",
   "execution_count": null,
   "id": "c88098aa",
   "metadata": {},
   "outputs": [],
   "source": [
    "#Para obtener el scaterplot entre dos columnas especificas\n",
    "#REcordemos que scaterplot, son los puntitos en donde se intersectan las x y las y\n",
    "sns.regplot(x=\"engine-size\", y=\"price\", data=df)\n",
    "plt.ylim(0,)"
   ]
  },
  {
   "cell_type": "code",
   "execution_count": null,
   "id": "582e197b",
   "metadata": {},
   "outputs": [],
   "source": [
    "#Para revisar los diagramas de correlacion\n",
    "df[[\"engine-size\", \"price\"]].corr()\n",
    "#Sacamos otro scaterplot\n",
    "sns.regplot(x=\"highway-mpg\", y=\"price\", data=df)\n",
    "#Ahora obtenemos su correlación\n",
    "df[['highway-mpg', 'price']].corr()\n",
    "#Podemos seguir obteniendo las correlaciones\n",
    "df[['peak-rpm','price']].corr()\n",
    "df[[\"stroke\",\"price\"]].corr()"
   ]
  },
  {
   "cell_type": "code",
   "execution_count": null,
   "id": "6dfd0993",
   "metadata": {},
   "outputs": [],
   "source": [
    "#Usamos la funcion regplot para plotear correlaciones cuando la regresion no funciona\n",
    "#Debido a que la correlacion es muy baja\n",
    "sns.regplot(x=\"stroke\", y=\"price\", data=df)"
   ]
  },
  {
   "cell_type": "code",
   "execution_count": null,
   "id": "f9991352",
   "metadata": {},
   "outputs": [],
   "source": [
    "\"\"\"Variables categoricas These are variables that describe a 'characteristic' \n",
    "of a data unit, and are selected from a small group of categories. \n",
    "The categorical variables can have the type \"object\" or \"int64\". \n",
    "A good way to visualize categorical variables is by using boxplots.\"\"\"\n",
    "\n",
    "#Para ver la relacion entre dos columnas\n",
    "sns.boxplot(x=\"body-style\", y=\"price\", data=df)\n",
    "sns.boxplot(x=\"engine-location\", y=\"price\", data=df)\n",
    "sns.boxplot(x=\"drive-wheels\", y=\"price\", data=df)"
   ]
  },
  {
   "cell_type": "code",
   "execution_count": null,
   "id": "4c694b82",
   "metadata": {},
   "outputs": [],
   "source": [
    "#Para ver la descripcion d eun data set, solo de las variables de tipo objeto\n",
    "df.describe(include=['object'])"
   ]
  },
  {
   "cell_type": "code",
   "execution_count": null,
   "id": "14bef4a6",
   "metadata": {},
   "outputs": [],
   "source": [
    "\"\"\"cuenta de valores\n",
    "Value counts is a good way of understanding how many units of each \n",
    "characteristic/variable we have. We can apply the \"value_counts\" \n",
    "method on the column \"drive-wheels\". Don’t forget the method \"value_counts\" \n",
    "only works on pandas series, not pandas dataframes. As a result, we only \n",
    "include one bracket df['drive-wheels'], not two brackets df[['drive-wheels']].\"\"\""
   ]
  },
  {
   "cell_type": "code",
   "execution_count": null,
   "id": "0a48b741",
   "metadata": {},
   "outputs": [],
   "source": [
    "#Para contar los tipos de valores de una columna\n",
    "df['drive-wheels'].value_counts()\n",
    "#Para convertir una serie en un dataframe es\n",
    "df['drive-wheels'].value_counts().to_frame()"
   ]
  },
  {
   "cell_type": "code",
   "execution_count": null,
   "id": "ed13a927",
   "metadata": {},
   "outputs": [],
   "source": [
    "#Creamos un nuevo dataset para guardar las cuentas resultantes\n",
    "#Despues renombramos la columna, apra que diga cuenta de valores o sumatoria\n",
    "\n",
    "drive_wheels_counts = df['drive-wheels'].value_counts().to_frame()\n",
    "drive_wheels_counts.rename(columns={'drive-wheels': 'value_counts'}, inplace=True)\n",
    "drive_wheels_counts\n",
    "\n",
    "Ahora cambiamos el indice del data frame\n",
    "drive_wheels_counts.index.name = 'drive-wheels'\n",
    "drive_wheels_counts"
   ]
  },
  {
   "cell_type": "code",
   "execution_count": null,
   "id": "ec0b609d",
   "metadata": {},
   "outputs": [],
   "source": [
    "#podermos repetir el mismo proceso para otras columnas\n",
    "engine_loc_counts = df['engine-location'].value_counts().to_frame()\n",
    "engine_loc_counts.rename(columns={'engine-location': 'value_counts'}, inplace=True)\n",
    "engine_loc_counts.index.name = 'engine-location'\n",
    "engine_loc_counts.head(10)"
   ]
  },
  {
   "cell_type": "code",
   "execution_count": null,
   "id": "7eea4d32",
   "metadata": {},
   "outputs": [],
   "source": []
  }
 ],
 "metadata": {
  "kernelspec": {
   "display_name": "Python 3 (ipykernel)",
   "language": "python",
   "name": "python3"
  },
  "language_info": {
   "codemirror_mode": {
    "name": "ipython",
    "version": 3
   },
   "file_extension": ".py",
   "mimetype": "text/x-python",
   "name": "python",
   "nbconvert_exporter": "python",
   "pygments_lexer": "ipython3",
   "version": "3.10.7"
  }
 },
 "nbformat": 4,
 "nbformat_minor": 5
}
