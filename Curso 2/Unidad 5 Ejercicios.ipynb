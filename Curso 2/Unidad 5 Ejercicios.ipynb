{
 "cells": [
  {
   "cell_type": "code",
   "execution_count": null,
   "id": "e9a5315a",
   "metadata": {},
   "outputs": [],
   "source": [
    "import piplite\n",
    "import micropip\n",
    "import pandas as pd\n",
    "import numpy as np\n",
    "from ipywidgets import interact, interactive, fixed, interact_manual\n",
    "await piplite.install(['pandas'])\n",
    "await piplite.install(['matplotlib'])\n",
    "await piplite.install(['scipy'])\n",
    "await piplite.install(['seaborn'])\n",
    "await micropip.install(['ipywidgets'],keep_going=True)\n",
    "await micropip.install(['tqdm'],keep_going=True)"
   ]
  },
  {
   "cell_type": "code",
   "execution_count": null,
   "id": "56a8e055",
   "metadata": {},
   "outputs": [],
   "source": [
    "#This function will download the dataset into your browser \n",
    "\n",
    "from pyodide.http import pyfetch\n",
    "\n",
    "async def download(url, filename):\n",
    "    response = await pyfetch(url)\n",
    "    if response.status == 200:\n",
    "        with open(filename, \"wb\") as f:\n",
    "            f.write(await response.bytes())"
   ]
  },
  {
   "cell_type": "code",
   "execution_count": null,
   "id": "5a77f078",
   "metadata": {},
   "outputs": [],
   "source": [
    "path = 'https://cf-courses-data.s3.us.cloud-object-storage.appdomain.cloud/IBMDeveloperSkillsNetwork-DA0101EN-SkillsNetwork/labs/Data%20files/module_5_auto.csv'\n",
    "#you will need to download the dataset; if you are running locally, please comment out the following \n",
    "await download(path, \"auto.csv\")\n",
    "path=\"auto.csv\"\n",
    "df = pd.read_csv(path)\n",
    "df.to_csv('module_5_auto.csv')"
   ]
  },
  {
   "cell_type": "code",
   "execution_count": null,
   "id": "16c349b4",
   "metadata": {},
   "outputs": [],
   "source": [
    "df=df._get_numeric_data()\n",
    "df.head()"
   ]
  },
  {
   "cell_type": "code",
   "execution_count": null,
   "id": "542362c0",
   "metadata": {},
   "outputs": [],
   "source": [
    "#Definimos una funcion de ploteo\n",
    "def DistributionPlot(RedFunction, BlueFunction, RedName, BlueName, Title):\n",
    "    width = 12\n",
    "    height = 10\n",
    "    plt.figure(figsize=(width, height))\n",
    "\n",
    "    ax1 = sns.distplot(RedFunction, hist=False, color=\"r\", label=RedName)\n",
    "    ax2 = sns.distplot(BlueFunction, hist=False, color=\"b\", label=BlueName, ax=ax1)\n",
    "\n",
    "    plt.title(Title)\n",
    "    plt.xlabel('Price (in dollars)')\n",
    "    plt.ylabel('Proportion of Cars')\n",
    "\n",
    "    plt.show()\n",
    "    plt.close()"
   ]
  },
  {
   "cell_type": "code",
   "execution_count": null,
   "id": "97a2c6d5",
   "metadata": {},
   "outputs": [],
   "source": [
    "#Definimos otra funcion de ploteo\n",
    "def PollyPlot(xtrain, xtest, y_train, y_test, lr,poly_transform):\n",
    "    width = 12\n",
    "    height = 10\n",
    "    plt.figure(figsize=(width, height))\n",
    "    \n",
    "    \n",
    "    #training data \n",
    "    #testing data \n",
    "    # lr:  linear regression object \n",
    "    #poly_transform:  polynomial transformation object \n",
    " \n",
    "    xmax=max([xtrain.values.max(), xtest.values.max()])\n",
    "\n",
    "    xmin=min([xtrain.values.min(), xtest.values.min()])\n",
    "\n",
    "    x=np.arange(xmin, xmax, 0.1)\n",
    "\n",
    "\n",
    "    plt.plot(xtrain, y_train, 'ro', label='Training Data')\n",
    "    plt.plot(xtest, y_test, 'go', label='Test Data')\n",
    "    plt.plot(x, lr.predict(poly_transform.fit_transform(x.reshape(-1, 1))), label='Predicted Function')\n",
    "    plt.ylim([-10000, 60000])\n",
    "    plt.ylabel('Price')\n",
    "    plt.legend()"
   ]
  },
  {
   "cell_type": "code",
   "execution_count": null,
   "id": "60852cde",
   "metadata": {},
   "outputs": [],
   "source": [
    "#Creamos el valor y, el cual es el valor objetivo\n",
    "y_data = df['price']\n",
    "#Definimos el valor x, el cual es todo el data set excepto la columna y\n",
    "x_data=df.drop('price',axis=1)"
   ]
  },
  {
   "cell_type": "code",
   "execution_count": null,
   "id": "9b698af3",
   "metadata": {},
   "outputs": [],
   "source": [
    "#Hacemos una division aleatoria de las particiones de datos de entrenamienot y prueba\n",
    "from sklearn.model_selection import train_test_split\n",
    "\n",
    "x_train, x_test, y_train, y_test = train_test_split(x_data, y_data, test_size=0.10, random_state=1)\n",
    "\n",
    "print(\"number of test samples :\", x_test.shape[0])\n",
    "print(\"number of training samples:\",x_train.shape[0])\n"
   ]
  },
  {
   "cell_type": "code",
   "execution_count": null,
   "id": "50aab169",
   "metadata": {},
   "outputs": [],
   "source": [
    "# Creamos una nueva particion de entreamineto como parte de la preguna 1\n",
    "x_train1, x_test1, y_train1, y_test1 = train_test_split(x_data, y_data, test_size=0.4, random_state=0) \n",
    "print(\"number of test samples :\", x_test1.shape[0])\n",
    "print(\"number of training samples:\",x_train1.shape[0])"
   ]
  },
  {
   "cell_type": "code",
   "execution_count": null,
   "id": "7bfde97c",
   "metadata": {},
   "outputs": [],
   "source": [
    "#Libreria de regresion lineal\n",
    "from sklearn.linear_model import LinearRegression"
   ]
  },
  {
   "cell_type": "code",
   "execution_count": null,
   "id": "86e9be52",
   "metadata": {},
   "outputs": [],
   "source": [
    "#Creamos un objeto que contendra la regresion lineal\n",
    "lre=LinearRegression()"
   ]
  },
  {
   "cell_type": "code",
   "execution_count": null,
   "id": "4ad3a18a",
   "metadata": {},
   "outputs": [],
   "source": [
    "#Alimentamos la regreion lineal con la columna deseada en x y nuestra y\n",
    "lre.fit(x_train[['horsepower']], y_train)"
   ]
  },
  {
   "cell_type": "code",
   "execution_count": null,
   "id": "324a49e0",
   "metadata": {},
   "outputs": [],
   "source": [
    "#Calculamos la r cuadrada en el dato de prueba\n",
    "lre.score(x_test[['horsepower']], y_test)"
   ]
  },
  {
   "cell_type": "code",
   "execution_count": null,
   "id": "0b4de04b",
   "metadata": {},
   "outputs": [],
   "source": [
    "#Ahora comparamos el r cuadrada de los datos de entrenamiento\n",
    "lre.score(x_train[['horsepower']], y_train)"
   ]
  },
  {
   "cell_type": "code",
   "execution_count": null,
   "id": "f3ba6c55",
   "metadata": {},
   "outputs": [],
   "source": [
    "#Hacemos un ejercicio de r cuadrada con un set de prueba del 40% como parte del ejercicio 2\n",
    "x_train1, x_test1, y_train1, y_test1 = train_test_split(x_data, y_data, test_size=0.4, random_state=0)\n",
    "lre.fit(x_train1[['horsepower']],y_train1)\n",
    "lre.score(x_test1[['horsepower']],y_test1)"
   ]
  },
  {
   "cell_type": "code",
   "execution_count": null,
   "id": "48b89d3a",
   "metadata": {},
   "outputs": [],
   "source": [
    "#Libreria para el cross validation score\n",
    "from sklearn.model_selection import cross_val_score"
   ]
  },
  {
   "cell_type": "code",
   "execution_count": null,
   "id": "528b4264",
   "metadata": {},
   "outputs": [],
   "source": [
    "#Creamos una cariable\n",
    "Rcross = cross_val_score(lre, x_data[['horsepower']], y_data, cv=4)\n",
    "#El parametro cv determina el numero de fold, para este caso usamos 4\n",
    "#Imprimimos el ccontenido\n",
    "Rcross"
   ]
  },
  {
   "cell_type": "code",
   "execution_count": null,
   "id": "fad4189e",
   "metadata": {},
   "outputs": [],
   "source": [
    "#Calculamos el promedio y la desviacion estandar de nuestra estimacion\n",
    "print(\"The mean of the folds are\", Rcross.mean(), \"and the standard deviation is\" , Rcross.std())\""
   ]
  },
  {
   "cell_type": "code",
   "execution_count": null,
   "id": "59f204a3",
   "metadata": {},
   "outputs": [],
   "source": [
    "#Podemos usar el error cuadratico negativo omo una metrica, utilzadndo la metricad\n",
    "-1 * cross_val_score(lre,x_data[['horsepower']], y_data,cv=4,scoring='neg_mean_squared_error')"
   ]
  },
  {
   "cell_type": "code",
   "execution_count": null,
   "id": "e54f8ac0",
   "metadata": {},
   "outputs": [],
   "source": [
    "#Como parte de la pregunta tres, calculmao la r cuadrada usando dos folds, y tambein encotrar el promedio, \n",
    "Rc=cross_val_score(lre,x_data[['horsepower']], y_data,cv=2)\n",
    "Rc.mean()"
   ]
  },
  {
   "cell_type": "code",
   "execution_count": null,
   "id": "c7df7d37",
   "metadata": {},
   "outputs": [],
   "source": [
    "from sklearn.model_selection import cross_val_predict"
   ]
  },
  {
   "cell_type": "code",
   "execution_count": null,
   "id": "3fff28d8",
   "metadata": {},
   "outputs": [],
   "source": [
    "yhat = cross_val_predict(lre,x_data[['horsepower']], y_data,cv=4)\n",
    "yhat[0:5]"
   ]
  },
  {
   "cell_type": "code",
   "execution_count": null,
   "id": "f374e090",
   "metadata": {},
   "outputs": [],
   "source": [
    "Ejercicio de overfitting, underfitting y seleccion de modelo\n",
    "#Creamos un objeto que contendra la regesion lineal\n",
    "lr = LinearRegression()\n",
    "#Alimentamos el modelo\n",
    "lr.fit(x_train[['horsepower', 'curb-weight', 'engine-size', 'highway-mpg']], y_train)"
   ]
  },
  {
   "cell_type": "code",
   "execution_count": null,
   "id": "e3392971",
   "metadata": {},
   "outputs": [],
   "source": [
    "#Usamos el atributo prediccion con los datos de entrenamiento\n",
    "\n",
    "yhat_train = lr.predict(x_train[['horsepower', 'curb-weight', 'engine-size', 'highway-mpg']])\n",
    "yhat_train[0:5]"
   ]
  },
  {
   "cell_type": "code",
   "execution_count": null,
   "id": "ee5e1c3f",
   "metadata": {},
   "outputs": [],
   "source": [
    "#Usamos la prediccion ahora con los datos de prueba\n",
    "yhat_test = lr.predict(x_test[['horsepower', 'curb-weight', 'engine-size', 'highway-mpg']])\n",
    "yhat_test[0:5]"
   ]
  },
  {
   "cell_type": "code",
   "execution_count": null,
   "id": "e65a8e12",
   "metadata": {},
   "outputs": [],
   "source": [
    "import matplotlib.pyplot as plt\n",
    "%matplotlib inline\n",
    "import seaborn as sns"
   ]
  },
  {
   "cell_type": "code",
   "execution_count": null,
   "id": "28d98396",
   "metadata": {},
   "outputs": [],
   "source": [
    "#Analizamos la distribicion de los valores calculados\n",
    "Title = 'Distribution  Plot of  Predicted Value Using Training Data vs Training Data Distribution'\n",
    "DistributionPlot(y_train, yhat_train, \"Actual Values (Train)\", \"Predicted Values (Train)\", Title)"
   ]
  },
  {
   "cell_type": "code",
   "execution_count": null,
   "id": "6a92fa8b",
   "metadata": {},
   "outputs": [],
   "source": [
    "itle='Distribution  Plot of  Predicted Value Using Test Data vs Data Distribution of Test Data'\n",
    "DistributionPlot(y_test,yhat_test,\"Actual Values (Test)\",\"Predicted Values (Test)\",Title)"
   ]
  },
  {
   "cell_type": "code",
   "execution_count": null,
   "id": "7a1e0983",
   "metadata": {},
   "outputs": [],
   "source": [
    "from sklearn.preprocessing import PolynomialFeatures"
   ]
  },
  {
   "cell_type": "code",
   "execution_count": null,
   "id": "77968e04",
   "metadata": {},
   "outputs": [],
   "source": [
    "#El overfitting ocurre cuando el modelo se ajusta al ruido, pero no se ajusta al proceso"
   ]
  },
  {
   "cell_type": "code",
   "execution_count": null,
   "id": "41b8a9da",
   "metadata": {},
   "outputs": [],
   "source": [
    "#Creamos un set de datos de entrenamiento al 55%\n",
    "x_train, x_test, y_train, y_test = train_test_split(x_data, y_data, test_size=0.45, random_state=0)"
   ]
  },
  {
   "cell_type": "code",
   "execution_count": null,
   "id": "b62c0bce",
   "metadata": {},
   "outputs": [],
   "source": [
    "#Usamos la regresion polinomial de la libreria sklearn\n",
    "pr = PolynomialFeatures(degree=5)\n",
    "x_train_pr = pr.fit_transform(x_train[['horsepower']])\n",
    "x_test_pr = pr.fit_transform(x_test[['horsepower']])\n",
    "pr"
   ]
  },
  {
   "cell_type": "code",
   "execution_count": null,
   "id": "6b8c09ac",
   "metadata": {},
   "outputs": [],
   "source": [
    "#Ahora usamor la regresion lineal sobre los datos sobre los cuales aplicamos el overfitting\n",
    "poly = LinearRegression()\n",
    "poly.fit(x_train_pr, y_train)"
   ]
  },
  {
   "cell_type": "code",
   "execution_count": null,
   "id": "b902d3fd",
   "metadata": {},
   "outputs": [],
   "source": [
    "#Usamos el metodo predict para ver la salida de nuestro modelo\n",
    "yhat = poly.predict(x_test_pr)\n",
    "yhat[0:5]"
   ]
  },
  {
   "cell_type": "code",
   "execution_count": null,
   "id": "01f40ea1",
   "metadata": {},
   "outputs": [],
   "source": [
    "#Imprimimos los valores\n",
    "print(\"Predicted values:\", yhat[0:4])\n",
    "print(\"True values:\", y_test[0:4].values)"
   ]
  },
  {
   "cell_type": "code",
   "execution_count": null,
   "id": "fccbaf7e",
   "metadata": {},
   "outputs": [],
   "source": [
    "\"plotemaos nuestros valores\n",
    "PollyPlot(x_train[['horsepower']], x_test[['horsepower']], y_train, y_test, poly,pr)\""
   ]
  },
  {
   "cell_type": "code",
   "execution_count": null,
   "id": "78826fc1",
   "metadata": {},
   "outputs": [],
   "source": [
    "#Usamos el r cuadrada de los datos de entrenamiento\n",
    "poly.score(x_train_pr, y_train)"
   ]
  },
  {
   "cell_type": "code",
   "execution_count": null,
   "id": "b1181bfb",
   "metadata": {},
   "outputs": [],
   "source": [
    "#Usamos la r cuadrada de los datos de prueba\n",
    "poly.score(x_test_pr, y_test)"
   ]
  },
  {
   "cell_type": "code",
   "execution_count": null,
   "id": "cce02262",
   "metadata": {},
   "outputs": [],
   "source": [
    "#Ploteamos la diferencia de los datos\n",
    "Rsqu_test = []\n",
    "\n",
    "order = [1, 2, 3, 4]\n",
    "for n in order:\n",
    "    pr = PolynomialFeatures(degree=n)\n",
    "    \n",
    "    x_train_pr = pr.fit_transform(x_train[['horsepower']])\n",
    "    \n",
    "    x_test_pr = pr.fit_transform(x_test[['horsepower']])    \n",
    "    \n",
    "    lr.fit(x_train_pr, y_train)\n",
    "    \n",
    "    Rsqu_test.append(lr.score(x_test_pr, y_test))\n",
    "\n",
    "plt.plot(order, Rsqu_test)\n",
    "plt.xlabel('order')\n",
    "plt.ylabel('R^2')\n",
    "plt.title('R^2 Using Test Data')\n",
    "plt.text(3, 0.75, 'Maximum R^2 ') "
   ]
  },
  {
   "cell_type": "code",
   "execution_count": null,
   "id": "d121eb27",
   "metadata": {},
   "outputs": [],
   "source": [
    "def f(order, test_data):\n",
    "    x_train, x_test, y_train, y_test = train_test_split(x_data, y_data, test_size=test_data, random_state=0)\n",
    "    pr = PolynomialFeatures(degree=order)\n",
    "    x_train_pr = pr.fit_transform(x_train[['horsepower']])\n",
    "    x_test_pr = pr.fit_transform(x_test[['horsepower']])\n",
    "    poly = LinearRegression()\n",
    "    poly.fit(x_train_pr,y_train)\n",
    "    PollyPlot(x_train[['horsepower']], x_test[['horsepower']], y_train,y_test, poly, pr)"
   ]
  },
  {
   "cell_type": "code",
   "execution_count": null,
   "id": "f3718085",
   "metadata": {},
   "outputs": [],
   "source": [
    "interact(f, order=(0, 6, 1), test_data=(0.05, 0.95, 0.05))"
   ]
  },
  {
   "cell_type": "code",
   "execution_count": null,
   "id": "ef09acb7",
   "metadata": {},
   "outputs": [],
   "source": [
    "#Creamos un nuevo elemento para la polinomial\n",
    "pr1=PolynomialFeatures(degree=2)\n"
   ]
  },
  {
   "cell_type": "code",
   "execution_count": null,
   "id": "f97d7eaa",
   "metadata": {},
   "outputs": [],
   "source": [
    "#Como parte de la pregunta 4, transformamos los datos de entremaineto y prueba\n",
    "#con el metodo fit tranform\n",
    "x_train_pr1=pr1.fit_transform(x_train[['horsepower', 'curb-weight', 'engine-size', 'highway-mpg']])\n",
    "\n",
    "x_test_pr1=pr1.fit_transform(x_test[['horsepower', 'curb-weight', 'engine-size', 'highway-mpg']])"
   ]
  },
  {
   "cell_type": "code",
   "execution_count": null,
   "id": "2af6ce50",
   "metadata": {},
   "outputs": [],
   "source": [
    "#Como parte de la preguna 4d Imprimimos  la forma de nuestros datos\n",
    "x_train_pr1.shape #there are now 15 features\n"
   ]
  },
  {
   "cell_type": "code",
   "execution_count": null,
   "id": "e790e608",
   "metadata": {},
   "outputs": [],
   "source": [
    "#Como parte de la pregunta 4e Aplicamos la regresion lineal a nuestro nuevo frame\n",
    "poly1=LinearRegression().fit(x_train_pr1,y_train)"
   ]
  },
  {
   "cell_type": "code",
   "execution_count": null,
   "id": "eb6e4d0a",
   "metadata": {},
   "outputs": [],
   "source": [
    "#Como parte de la pregunta e4\n",
    "#Usamos el metodo predict, par predicir la lsalida d elas caracterisiticas polnomiales\n",
    "#Usamos la funcion distribution plot para ostrar la distribucion\n",
    "yhat_test1=poly1.predict(x_test_pr1)\n",
    "\n",
    "Title='Distribution  Plot of  Predicted Value Using Test Data vs Data Distribution of Test Data'\n",
    "\n",
    "DistributionPlot(y_test, yhat_test1, \"Actual Values (Test)\", \"Predicted Values (Test)\", Title)"
   ]
  },
  {
   "cell_type": "code",
   "execution_count": null,
   "id": "9ccbaeda",
   "metadata": {},
   "outputs": [],
   "source": [
    "#Usamos la funcion regresion ridge\n",
    "from sklearn.linear_model import Ridge\n",
    "#Libreria y nuevo data frame\n",
    "pr=PolynomialFeatures(degree=2)\n",
    "x_train_pr=pr.fit_transform(x_train[['horsepower', 'curb-weight', 'engine-size', 'highway-mpg','normalized-losses','symboling']])\n",
    "x_test_pr=pr.fit_transform(x_test[['horsepower', 'curb-weight', 'engine-size', 'highway-mpg','normalized-losses','symboling']])"
   ]
  },
  {
   "cell_type": "code",
   "execution_count": null,
   "id": "d952d00b",
   "metadata": {},
   "outputs": [],
   "source": [
    "#definimos elnuevo contendero\n",
    "RigeModel=Ridge(alpha=1)\n",
    "#Alimentamos el sistema\n",
    "RigeModel.fit(x_train_pr, y_train)"
   ]
  },
  {
   "cell_type": "code",
   "execution_count": null,
   "id": "ac1fde55",
   "metadata": {},
   "outputs": [],
   "source": []
  },
  {
   "cell_type": "code",
   "execution_count": null,
   "id": "58992a5f",
   "metadata": {},
   "outputs": [],
   "source": []
  },
  {
   "cell_type": "code",
   "execution_count": null,
   "id": "60673389",
   "metadata": {},
   "outputs": [],
   "source": []
  }
 ],
 "metadata": {
  "kernelspec": {
   "display_name": "Python 3 (ipykernel)",
   "language": "python",
   "name": "python3"
  },
  "language_info": {
   "codemirror_mode": {
    "name": "ipython",
    "version": 3
   },
   "file_extension": ".py",
   "mimetype": "text/x-python",
   "name": "python",
   "nbconvert_exporter": "python",
   "pygments_lexer": "ipython3",
   "version": "3.10.7"
  }
 },
 "nbformat": 4,
 "nbformat_minor": 5
}
