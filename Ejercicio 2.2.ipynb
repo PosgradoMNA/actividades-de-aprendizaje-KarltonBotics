{
 "cells": [
  {
   "cell_type": "code",
   "execution_count": 2,
   "id": "efffc6c4",
   "metadata": {},
   "outputs": [
    {
     "data": {
      "text/plain": [
       "('cesar', 1.5, 5, 46, 98, 'ramon')"
      ]
     },
     "execution_count": 2,
     "metadata": {},
     "output_type": "execute_result"
    }
   ],
   "source": [
    "#Crear un tuple e imprimirlo\n",
    "Tuple_ejemplo=(\"cesar\",1.5,5,46,98,\"ramon\")\n",
    "Tuple_ejemplo"
   ]
  },
  {
   "cell_type": "code",
   "execution_count": 3,
   "id": "5104b186",
   "metadata": {},
   "outputs": [
    {
     "data": {
      "text/plain": [
       "tuple"
      ]
     },
     "execution_count": 3,
     "metadata": {},
     "output_type": "execute_result"
    }
   ],
   "source": [
    "#Imprimir el tipo de tuple\n",
    "type(Tuple_ejemplo)"
   ]
  },
  {
   "cell_type": "code",
   "execution_count": 4,
   "id": "7e3f1206",
   "metadata": {},
   "outputs": [
    {
     "data": {
      "text/plain": [
       "'ramon'"
      ]
     },
     "execution_count": 4,
     "metadata": {},
     "output_type": "execute_result"
    }
   ],
   "source": [
    "#Imprimir cada valor del tuple\n",
    "Tuple_ejemplo[0]\n",
    "Tuple_ejemplo[1]\n",
    "Tuple_ejemplo[2]\n",
    "Tuple_ejemplo[3]\n",
    "Tuple_ejemplo[4]\n",
    "Tuple_ejemplo[5]"
   ]
  },
  {
   "cell_type": "code",
   "execution_count": 5,
   "id": "d744687a",
   "metadata": {},
   "outputs": [
    {
     "data": {
      "text/plain": [
       "str"
      ]
     },
     "execution_count": 5,
     "metadata": {},
     "output_type": "execute_result"
    }
   ],
   "source": [
    "#imptimr el tipo de cada valor del tuple\n",
    "type(Tuple_ejemplo[0])\n",
    "type(Tuple_ejemplo[1])\n",
    "type(Tuple_ejemplo[2])\n",
    "type(Tuple_ejemplo[3])\n",
    "type(Tuple_ejemplo[4])\n",
    "type(Tuple_ejemplo[5])"
   ]
  },
  {
   "cell_type": "code",
   "execution_count": 6,
   "id": "c7c14920",
   "metadata": {},
   "outputs": [
    {
     "data": {
      "text/plain": [
       "'ramon'"
      ]
     },
     "execution_count": 6,
     "metadata": {},
     "output_type": "execute_result"
    }
   ],
   "source": [
    "#Usar la indezacion negativa\n",
    "Tuple_ejemplo[-1]"
   ]
  },
  {
   "cell_type": "code",
   "execution_count": 12,
   "id": "8078fc22",
   "metadata": {},
   "outputs": [
    {
     "data": {
      "text/plain": [
       "(1, 2, 3, 4, 5, 6, 'Victoria', 'Francisca', 'Namora', 'Etcetera', 1)"
      ]
     },
     "execution_count": 12,
     "metadata": {},
     "output_type": "execute_result"
    }
   ],
   "source": [
    "#Concatenar dos tuples\n",
    "Tuple1 = (1,2,3,4,5,6)\n",
    "Tuple2 = (\"Victoria\",\"Francisca\",\"Namora\")\n",
    "Tuple3 = Tuple1 + Tuple2 + (\"Etcetera\",1)\n",
    "Tuple3"
   ]
  },
  {
   "cell_type": "code",
   "execution_count": 19,
   "id": "6c8187e5",
   "metadata": {},
   "outputs": [
    {
     "data": {
      "text/plain": [
       "11"
      ]
     },
     "execution_count": 19,
     "metadata": {},
     "output_type": "execute_result"
    }
   ],
   "source": [
    "#Utilizar slice y medir la longitud del tuple\n",
    "Tuple3[2:4]\n",
    "len(Tuple3)"
   ]
  },
  {
   "cell_type": "code",
   "execution_count": 22,
   "id": "deb57910",
   "metadata": {},
   "outputs": [
    {
     "data": {
      "text/plain": [
       "[1, 2, 3, 4, 5, 54, 65, 87, 98, 654]"
      ]
     },
     "execution_count": 22,
     "metadata": {},
     "output_type": "execute_result"
    }
   ],
   "source": [
    "#Ordenar un tuple\n",
    "Tuple4=(65,54,87,4,5,1,2,3,654,98)\n",
    "Tuple5=sorted(Tuple4)\n",
    "Tuple5"
   ]
  },
  {
   "cell_type": "code",
   "execution_count": 25,
   "id": "b0127d1e",
   "metadata": {},
   "outputs": [
    {
     "name": "stdout",
     "output_type": "stream",
     "text": [
      "El primer elemento del tuple es: 1\n",
      "El primer elemento del tuple anidado es: Cinco\n",
      "El primer elemento del tuple de segundo anidado es: 10\n"
     ]
    }
   ],
   "source": [
    "#Hacer tuple anidada e imprimir elementos\n",
    "Tuple6=(1,2,3,(\"Cuatro\",\"Cinco\"),6,7,(\"Ocho\",\"Nueve\",(10,11)))\n",
    "print(\"El primer elemento del tuple es:\", Tuple6[0])\n",
    "print(\"El primer elemento del tuple anidado es:\", Tuple6[3][1])\n",
    "print(\"El primer elemento del tuple de segundo anidado es:\", Tuple6[6][2][0])"
   ]
  },
  {
   "cell_type": "code",
   "execution_count": 30,
   "id": "72cf085f",
   "metadata": {},
   "outputs": [
    {
     "data": {
      "text/plain": [
       "5"
      ]
     },
     "execution_count": 30,
     "metadata": {},
     "output_type": "execute_result"
    }
   ],
   "source": [
    "#Encontrar la posicion o el indice de un elemento\n",
    "Tuple6.index(7)"
   ]
  },
  {
   "cell_type": "code",
   "execution_count": null,
   "id": "07d3f6f4",
   "metadata": {},
   "outputs": [],
   "source": []
  }
 ],
 "metadata": {
  "kernelspec": {
   "display_name": "Python 3 (ipykernel)",
   "language": "python",
   "name": "python3"
  },
  "language_info": {
   "codemirror_mode": {
    "name": "ipython",
    "version": 3
   },
   "file_extension": ".py",
   "mimetype": "text/x-python",
   "name": "python",
   "nbconvert_exporter": "python",
   "pygments_lexer": "ipython3",
   "version": "3.10.7"
  }
 },
 "nbformat": 4,
 "nbformat_minor": 5
}
