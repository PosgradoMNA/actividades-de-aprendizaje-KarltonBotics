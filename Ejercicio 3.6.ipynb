{
 "cells": [
  {
   "cell_type": "code",
   "execution_count": 4,
   "id": "240bddd1",
   "metadata": {},
   "outputs": [
    {
     "name": "stdout",
     "output_type": "stream",
     "text": [
      "Correct.\n"
     ]
    }
   ],
   "source": [
    "#Definir una funcion y llamarla\n",
    "def funcion(a,b):\n",
    "    return a+b\n",
    "    \n",
    "a=4\n",
    "b=2\n",
    "\n",
    "if a+b == funcion(a,b):   \n",
    "    print(\"Correct.\")   \n",
    "else:    \n",
    "    print(\"Incorrect.\")"
   ]
  },
  {
   "cell_type": "code",
   "execution_count": 6,
   "id": "58692cc5",
   "metadata": {},
   "outputs": [
    {
     "name": "stdout",
     "output_type": "stream",
     "text": [
      "Correct.\n"
     ]
    }
   ],
   "source": [
    "#definir y llamar una fucion que sume una cadena\n",
    "def sumacadena(c):\n",
    "    return sum(c)\n",
    "\n",
    "c=[1,2,3,4,5]\n",
    "\n",
    "if sum(c)==sumacadena(c):   \n",
    "    print(\"Correct.\")   \n",
    "else:    \n",
    "    print(\"Incorrect.\")"
   ]
  },
  {
   "cell_type": "code",
   "execution_count": null,
   "id": "bd2ffc0a",
   "metadata": {},
   "outputs": [],
   "source": []
  }
 ],
 "metadata": {
  "kernelspec": {
   "display_name": "Python 3 (ipykernel)",
   "language": "python",
   "name": "python3"
  },
  "language_info": {
   "codemirror_mode": {
    "name": "ipython",
    "version": 3
   },
   "file_extension": ".py",
   "mimetype": "text/x-python",
   "name": "python",
   "nbconvert_exporter": "python",
   "pygments_lexer": "ipython3",
   "version": "3.10.7"
  }
 },
 "nbformat": 4,
 "nbformat_minor": 5
}
