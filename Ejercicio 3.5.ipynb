{
 "cells": [
  {
   "cell_type": "code",
   "execution_count": 2,
   "id": "532c41b6",
   "metadata": {},
   "outputs": [
    {
     "data": {
      "text/plain": [
       "range(1, 8)"
      ]
     },
     "execution_count": 2,
     "metadata": {},
     "output_type": "execute_result"
    }
   ],
   "source": [
    "#Usar range\n",
    "range(5)\n",
    "range(1,8)"
   ]
  },
  {
   "cell_type": "code",
   "execution_count": 6,
   "id": "af37756d",
   "metadata": {},
   "outputs": [
    {
     "name": "stdout",
     "output_type": "stream",
     "text": [
      "1999\n",
      "2000\n",
      "2001\n",
      "0\n",
      "1\n",
      "2\n",
      "3\n",
      "4\n",
      "5\n",
      "6\n",
      "7\n",
      "1999\n",
      "2000\n",
      "2001\n"
     ]
    }
   ],
   "source": [
    "#Usar el loop for\n",
    "fechas = [1999,2000,2001]\n",
    "N = len(fechas)\n",
    "\n",
    "for i in range(N):\n",
    "    print(fechas[i])   \n",
    "\n",
    "for i in range(0, 8):\n",
    "    print(i)\n",
    "\n",
    "for ano in fechas:  \n",
    "    print(ano) "
   ]
  },
  {
   "cell_type": "code",
   "execution_count": 9,
   "id": "37155fbe",
   "metadata": {},
   "outputs": [
    {
     "name": "stdout",
     "output_type": "stream",
     "text": [
      "El color actual  0 es rojo\n",
      "El color siguente 0 es blanco\n",
      "El color actual  1 es amarillo\n",
      "El color siguente 1 es blanco\n",
      "El color actual  2 es verde\n",
      "El color siguente 2 es blanco\n",
      "El color actual  3 es morado\n",
      "El color siguente 3 es blanco\n",
      "El color actual  4 es azul\n",
      "El color siguente 4 es blanco\n",
      "0 rojo\n",
      "1 amarillo\n",
      "2 verde\n",
      "3 morado\n",
      "4 azul\n"
     ]
    }
   ],
   "source": [
    "#Usar el loop for con listas\n",
    "colores = ['rojo', 'amarillo', 'verde', 'morado', 'azul']\n",
    "\n",
    "for i in range(0, 5):\n",
    "    print(\"El color actual \", i, 'es',  colores[i])\n",
    "    colores[i] = 'blanco'\n",
    "    print(\"El color siguente\", i, 'es',  colores[i])\n",
    "\n",
    "colores = ['rojo', 'amarillo', 'verde', 'morado', 'azul']\n",
    "\n",
    "for contador, color in enumerate(colores):\n",
    "    print(contador, color)"
   ]
  },
  {
   "cell_type": "code",
   "execution_count": 10,
   "id": "18f9886d",
   "metadata": {},
   "outputs": [
    {
     "name": "stdout",
     "output_type": "stream",
     "text": [
      "el ano es 1982\n",
      "el ano es 1980\n",
      "El ciclo recorrio 2 veces para encontrar la fecha\n"
     ]
    }
   ],
   "source": [
    "#Usar el loop while\n",
    "\n",
    "fechas = [1982, 1980, 1973, 2000]\n",
    "\n",
    "i = 0\n",
    "ano = fechas[0]\n",
    "\n",
    "while(ano != 1973):    \n",
    "    print('el ano es',ano)\n",
    "    i = i + 1\n",
    "    ano = fechas[i]\n",
    "    \n",
    "\n",
    "print(\"El ciclo recorrio\", i ,\"veces para encontrar la fecha\")"
   ]
  },
  {
   "cell_type": "code",
   "execution_count": 11,
   "id": "8d217b0f",
   "metadata": {},
   "outputs": [
    {
     "name": "stdout",
     "output_type": "stream",
     "text": [
      "la calificacion es 10\n",
      "la calificacion es 9.5\n",
      "la calificacion es 8\n"
     ]
    }
   ],
   "source": [
    "#Ejercicio no l e encuentro el sentido\n",
    "Evaluaciones = [10, 9.5, 10, 8, 7.5, 5, 10, 10]\n",
    "i = 0\n",
    "Evaluacion = Evaluaciones[0]\n",
    "#Mientras que el contador i sea menor a la longitud de la lista evaluaciones\n",
    "#Y la evaluacion sea mayor a 6\n",
    "while(i < len(Evaluaciones) and Evaluacion >= 6):\n",
    "    print('la calificacion es',Evaluacion)\n",
    "    i = i + 1 \n",
    "    Evaluacion = Evaluaciones[i]\n",
    "    i = i + 1"
   ]
  },
  {
   "cell_type": "code",
   "execution_count": 15,
   "id": "d2e92514",
   "metadata": {},
   "outputs": [
    {
     "name": "stdout",
     "output_type": "stream",
     "text": [
      "Color revisado verde\n",
      "1\n",
      "Color revisado verde\n",
      "2\n",
      "['verde', 'verde']\n"
     ]
    }
   ],
   "source": [
    "#Otro ejercicio\n",
    "Colores = ['verde', 'verde', 'azul', 'verde', 'rojo ', 'naranja']\n",
    "Solo_Verdes = []\n",
    "i = 0\n",
    "while(i < len(Colores) and Colores[i] == 'verde'):\n",
    "    print('Color revisado', Colores[i])\n",
    "    Solo_Verdes.append(Colores[i])\n",
    "    i = i + 1\n",
    "    print(i)\n",
    "print (Solo_Verdes)"
   ]
  },
  {
   "cell_type": "code",
   "execution_count": null,
   "id": "58f280aa",
   "metadata": {},
   "outputs": [],
   "source": []
  },
  {
   "cell_type": "code",
   "execution_count": null,
   "id": "d75c2967",
   "metadata": {},
   "outputs": [],
   "source": []
  }
 ],
 "metadata": {
  "kernelspec": {
   "display_name": "Python 3 (ipykernel)",
   "language": "python",
   "name": "python3"
  },
  "language_info": {
   "codemirror_mode": {
    "name": "ipython",
    "version": 3
   },
   "file_extension": ".py",
   "mimetype": "text/x-python",
   "name": "python",
   "nbconvert_exporter": "python",
   "pygments_lexer": "ipython3",
   "version": "3.10.7"
  }
 },
 "nbformat": 4,
 "nbformat_minor": 5
}
