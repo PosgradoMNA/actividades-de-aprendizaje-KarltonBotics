{
 "cells": [
  {
   "cell_type": "code",
   "execution_count": 4,
   "id": "26239ee9",
   "metadata": {},
   "outputs": [
    {
     "name": "stdout",
     "output_type": "stream",
     "text": [
      "la suma de 1 + 2 es 2\n"
     ]
    },
    {
     "data": {
      "text/plain": [
       "'carloscarloscarlos'"
      ]
     },
     "execution_count": 4,
     "metadata": {},
     "output_type": "execute_result"
    }
   ],
   "source": [
    "#Define una funcion con comentarios\n",
    "def mifuncion(valor1,valor2):\n",
    "    \"\"\"\n",
    "    Esta función hace una operacion aritmetica\n",
    "    \"\"\"\n",
    "    suma=valor1*valor2\n",
    "    return(suma)\n",
    "a=1\n",
    "b=2\n",
    "print (\"la suma de\",a, \"+\",b, \"es\",mifuncion(a,b))\n",
    "\n",
    "mifuncion(\"carlos\",3)"
   ]
  },
  {
   "cell_type": "code",
   "execution_count": null,
   "id": "b41adf3f",
   "metadata": {},
   "outputs": [],
   "source": [
    "#Obtener información sobre la funcion \n",
    "help(mifuncion)"
   ]
  },
  {
   "cell_type": "code",
   "execution_count": 6,
   "id": "751ac472",
   "metadata": {},
   "outputs": [
    {
     "name": "stdout",
     "output_type": "stream",
     "text": [
      "esta funcion solo imprime\n"
     ]
    }
   ],
   "source": [
    "#Usar una funcion vacia\n",
    "def soloimprime():\n",
    "    print(\"esta funcion solo imprime\")\n",
    "    \n",
    "soloimprime()"
   ]
  },
  {
   "cell_type": "code",
   "execution_count": 7,
   "id": "872cf80f",
   "metadata": {},
   "outputs": [
    {
     "name": "stdout",
     "output_type": "stream",
     "text": [
      "Hola\n"
     ]
    },
    {
     "data": {
      "text/plain": [
       "7"
      ]
     },
     "execution_count": 7,
     "metadata": {},
     "output_type": "execute_result"
    }
   ],
   "source": [
    "#Usar funciones predefinidas\n",
    "Cadena=[10,3,5,9,12,654,68]\n",
    "#funcion print\n",
    "print(\"Hola\")\n",
    "#Funcion sum\n",
    "sum(Cadena)\n",
    "#funcion len\n",
    "len(Cadena)"
   ]
  },
  {
   "cell_type": "code",
   "execution_count": 11,
   "id": "7de9d4f3",
   "metadata": {},
   "outputs": [
    {
     "name": "stdout",
     "output_type": "stream",
     "text": [
      "Carlos Eres mayor de edad\n"
     ]
    }
   ],
   "source": [
    "#HAcer una funcion con else if y lopps\n",
    "def mifuncion(edad, nombre):\n",
    "    if edad>18:\n",
    "        return\"Eres mayor de edad\"\n",
    "    else:\n",
    "        return \"No eres mayor de edad\"\n",
    "print(\"Carlos\",mifuncion(20,\"carlos\"))"
   ]
  },
  {
   "cell_type": "code",
   "execution_count": 14,
   "id": "9b17c390",
   "metadata": {},
   "outputs": [
    {
     "name": "stdout",
     "output_type": "stream",
     "text": [
      "1\n",
      "1\n",
      "the man\n",
      "abc\n"
     ]
    }
   ],
   "source": [
    "def imprimelista(lista):\n",
    "    for elemento in lista:\n",
    "        print(elemento)\n",
    "\n",
    "imprimelista(['1', 1, 'the man', \"abc\"])"
   ]
  },
  {
   "cell_type": "code",
   "execution_count": 16,
   "id": "59d98e97",
   "metadata": {},
   "outputs": [
    {
     "name": "stdout",
     "output_type": "stream",
     "text": [
      "Carlos es un artista\n",
      "Maluma es un artista\n"
     ]
    }
   ],
   "source": [
    "#Usar variables globales\n",
    "\n",
    "artista =\"Carlos\"\n",
    "def impresor(artista):\n",
    "    global variableinterna\n",
    "    variableinterna=\"Maluma\"\n",
    "    print(artista,\"es un artista\")\n",
    "    \n",
    "impresor(artista)\n",
    "impresor(variableinterna)"
   ]
  },
  {
   "cell_type": "code",
   "execution_count": 17,
   "id": "5358d308",
   "metadata": {},
   "outputs": [
    {
     "name": "stdout",
     "output_type": "stream",
     "text": [
      "Country : Canada\n",
      "Province : Ontario\n",
      "City : Toronto\n"
     ]
    }
   ],
   "source": [
    "#Usar funciones con argumentops indefinidas\n",
    "def printDictionary(**args):\n",
    "    for key in args:\n",
    "        print(key + \" : \" + args[key])\n",
    "\n",
    "printDictionary(Country='Canada',Province='Ontario',City='Toronto')\n",
    "    "
   ]
  },
  {
   "cell_type": "code",
   "execution_count": 18,
   "id": "e6b4bf1c",
   "metadata": {},
   "outputs": [
    {
     "data": {
      "text/plain": [
       "['One', 'Two', 'Three', 'Four']"
      ]
     },
     "execution_count": 18,
     "metadata": {},
     "output_type": "execute_result"
    }
   ],
   "source": [
    "def anadeelementos(list):\n",
    "    list.append(\"Three\")\n",
    "    list.append(\"Four\")\n",
    "\n",
    "myList = [\"One\",\"Two\"]\n",
    "\n",
    "anadeelementos(myList)\n",
    "\n",
    "myList"
   ]
  },
  {
   "cell_type": "code",
   "execution_count": null,
   "id": "221228f8",
   "metadata": {},
   "outputs": [],
   "source": []
  }
 ],
 "metadata": {
  "kernelspec": {
   "display_name": "Python 3 (ipykernel)",
   "language": "python",
   "name": "python3"
  },
  "language_info": {
   "codemirror_mode": {
    "name": "ipython",
    "version": 3
   },
   "file_extension": ".py",
   "mimetype": "text/x-python",
   "name": "python",
   "nbconvert_exporter": "python",
   "pygments_lexer": "ipython3",
   "version": "3.10.7"
  }
 },
 "nbformat": 4,
 "nbformat_minor": 5
}
