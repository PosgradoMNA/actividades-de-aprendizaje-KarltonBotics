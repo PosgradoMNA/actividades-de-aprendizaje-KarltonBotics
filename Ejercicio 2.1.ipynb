{
 "cells": [
  {
   "cell_type": "code",
   "execution_count": 1,
   "id": "671d246d",
   "metadata": {},
   "outputs": [
    {
     "data": {
      "text/plain": [
       "('Carlos', 2.3, 5, 8)"
      ]
     },
     "execution_count": 1,
     "metadata": {},
     "output_type": "execute_result"
    }
   ],
   "source": [
    "#Crear un tuple e imprimirlo\n",
    "Tuple=(\"Carlos\",2.3,5,8)\n",
    "Tuple"
   ]
  },
  {
   "cell_type": "code",
   "execution_count": 5,
   "id": "97a9e0ac",
   "metadata": {},
   "outputs": [
    {
     "data": {
      "text/plain": [
       "('Carlos', 2.3)"
      ]
     },
     "execution_count": 5,
     "metadata": {},
     "output_type": "execute_result"
    }
   ],
   "source": [
    "#Obtener los primero dos elementos del tuple\n",
    "Tuple[0:2]"
   ]
  },
  {
   "cell_type": "code",
   "execution_count": 7,
   "id": "0541eeaf",
   "metadata": {},
   "outputs": [
    {
     "data": {
      "text/plain": [
       "['Daniel', 3, 56, 35, 'Federico']"
      ]
     },
     "execution_count": 7,
     "metadata": {},
     "output_type": "execute_result"
    }
   ],
   "source": [
    "#Crear una lista e imprimirla\n",
    "Lista=[\"Daniel\",3,56,35,\"Federico\"]\n",
    "Lista"
   ]
  },
  {
   "cell_type": "code",
   "execution_count": 8,
   "id": "4589a248",
   "metadata": {},
   "outputs": [
    {
     "data": {
      "text/plain": [
       "['Daniel', 3]"
      ]
     },
     "execution_count": 8,
     "metadata": {},
     "output_type": "execute_result"
    }
   ],
   "source": [
    "#Obtener los primeros dos elementos de la lista\n",
    "Lista[0:2]"
   ]
  },
  {
   "cell_type": "code",
   "execution_count": 10,
   "id": "74d712f9",
   "metadata": {},
   "outputs": [
    {
     "data": {
      "text/plain": [
       "['Daniel', 3, 56, 36, 'Federico']"
      ]
     },
     "execution_count": 10,
     "metadata": {},
     "output_type": "execute_result"
    }
   ],
   "source": [
    "#Cambiar un valor de la lista\n",
    "Lista[3]=36\n",
    "Lista"
   ]
  },
  {
   "cell_type": "code",
   "execution_count": null,
   "id": "649b7b10",
   "metadata": {},
   "outputs": [],
   "source": []
  }
 ],
 "metadata": {
  "kernelspec": {
   "display_name": "Python 3 (ipykernel)",
   "language": "python",
   "name": "python3"
  },
  "language_info": {
   "codemirror_mode": {
    "name": "ipython",
    "version": 3
   },
   "file_extension": ".py",
   "mimetype": "text/x-python",
   "name": "python",
   "nbconvert_exporter": "python",
   "pygments_lexer": "ipython3",
   "version": "3.10.7"
  }
 },
 "nbformat": 4,
 "nbformat_minor": 5
}
