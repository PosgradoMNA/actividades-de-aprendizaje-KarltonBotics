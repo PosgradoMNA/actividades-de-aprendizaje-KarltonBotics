{
 "cells": [
  {
   "cell_type": "code",
   "execution_count": 1,
   "id": "8d624b6a",
   "metadata": {},
   "outputs": [
    {
     "data": {
      "text/plain": [
       "True"
      ]
     },
     "execution_count": 1,
     "metadata": {},
     "output_type": "execute_result"
    }
   ],
   "source": [
    "#Utilizar operadores de comparacion\n",
    "valor=10\n",
    "valor!=20"
   ]
  },
  {
   "cell_type": "code",
   "execution_count": 2,
   "id": "8e818e25",
   "metadata": {},
   "outputs": [
    {
     "name": "stdout",
     "output_type": "stream",
     "text": [
      "Tienes un perro\n"
     ]
    }
   ],
   "source": [
    "#Utilizar branching\n",
    "valor2='Perro'\n",
    "if(valor2=='Perro'):\n",
    "    print('Tienes un perro')\n",
    "else:\n",
    "    print('No tienes un perro')"
   ]
  },
  {
   "cell_type": "code",
   "execution_count": 4,
   "id": "b8a6a0ea",
   "metadata": {},
   "outputs": [
    {
     "data": {
      "text/plain": [
       "True"
      ]
     },
     "execution_count": 4,
     "metadata": {},
     "output_type": "execute_result"
    }
   ],
   "source": [
    "#Usar branching con operadores logicos\n",
    "valor3=30\n",
    "valor>1 and valor3<40"
   ]
  },
  {
   "cell_type": "code",
   "execution_count": null,
   "id": "066014d2",
   "metadata": {},
   "outputs": [],
   "source": []
  }
 ],
 "metadata": {
  "kernelspec": {
   "display_name": "Python 3 (ipykernel)",
   "language": "python",
   "name": "python3"
  },
  "language_info": {
   "codemirror_mode": {
    "name": "ipython",
    "version": 3
   },
   "file_extension": ".py",
   "mimetype": "text/x-python",
   "name": "python",
   "nbconvert_exporter": "python",
   "pygments_lexer": "ipython3",
   "version": "3.10.7"
  }
 },
 "nbformat": 4,
 "nbformat_minor": 5
}
