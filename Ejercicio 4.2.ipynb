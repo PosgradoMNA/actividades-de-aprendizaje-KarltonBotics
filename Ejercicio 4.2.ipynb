{
 "cells": [
  {
   "cell_type": "code",
   "execution_count": 13,
   "id": "beacdb17",
   "metadata": {},
   "outputs": [],
   "source": [
    "#Importo ahora mi texto personal\n",
    "Miruta = \"C:\\\\Users\\\\traba\\\\Downloads\\\\MiTexto1.txt\"\n",
    "#añado texto a mi archivo\n",
    "with open(Miruta, \"w\") as Miarchivo:\n",
    "    Miarchivo.write(\"Texto para ejercicio de escribir\\n\")\n",
    "    Miarchivo.write(\"Texto para ejercicio de escribir 2\")"
   ]
  },
  {
   "cell_type": "code",
   "execution_count": 6,
   "id": "e090f278",
   "metadata": {},
   "outputs": [
    {
     "ename": "NameError",
     "evalue": "name 'Miruta' is not defined",
     "output_type": "error",
     "traceback": [
      "\u001b[1;31m---------------------------------------------------------------------------\u001b[0m",
      "\u001b[1;31mNameError\u001b[0m                                 Traceback (most recent call last)",
      "Cell \u001b[1;32mIn [6], line 2\u001b[0m\n\u001b[0;32m      1\u001b[0m \u001b[38;5;66;03m#Vemos si de verdad se escribio el texto\u001b[39;00m\n\u001b[1;32m----> 2\u001b[0m \u001b[38;5;28;01mwith\u001b[39;00m \u001b[38;5;28mopen\u001b[39m(\u001b[43mMiruta\u001b[49m, \u001b[38;5;124m\"\u001b[39m\u001b[38;5;124mr\u001b[39m\u001b[38;5;124m\"\u001b[39m) \u001b[38;5;28;01mas\u001b[39;00m Miarchivo:\n\u001b[0;32m      3\u001b[0m     \u001b[38;5;28mprint\u001b[39m(Miarchivo\u001b[38;5;241m.\u001b[39mreadline())\n",
      "\u001b[1;31mNameError\u001b[0m: name 'Miruta' is not defined"
     ]
    }
   ],
   "source": [
    "#Vemos si de verdad se escribio el texto\n",
    "with open(Miruta, \"r\") as Miarchivo:\n",
    "    print(Miarchivo.readline())\n",
    "    "
   ]
  },
  {
   "cell_type": "code",
   "execution_count": 12,
   "id": "c74ef7fa",
   "metadata": {},
   "outputs": [],
   "source": [
    "#volvemos a escribir en el archivo pero con loop\n",
    "Minuevotexto=(\"Este es mi nuevo texto renglon1\\n\",\"Este es mi nuevo texto renglon2\\n\",\"Este es mi nuevo texto renglon3\\n\")\n",
    "with open(Miruta, \"w\") as Miarchivo:\n",
    "    for lineas in Minuevotexto:\n",
    "        Miarchivo.write(lineas)"
   ]
  },
  {
   "cell_type": "code",
   "execution_count": 7,
   "id": "caba5c2c",
   "metadata": {},
   "outputs": [
    {
     "ename": "NameError",
     "evalue": "name 'Miruta' is not defined",
     "output_type": "error",
     "traceback": [
      "\u001b[1;31m---------------------------------------------------------------------------\u001b[0m",
      "\u001b[1;31mNameError\u001b[0m                                 Traceback (most recent call last)",
      "Cell \u001b[1;32mIn [7], line 2\u001b[0m\n\u001b[0;32m      1\u001b[0m \u001b[38;5;66;03m#Vemos que haya funcionado el ciclo\u001b[39;00m\n\u001b[1;32m----> 2\u001b[0m \u001b[38;5;28;01mwith\u001b[39;00m \u001b[38;5;28mopen\u001b[39m(\u001b[43mMiruta\u001b[49m, \u001b[38;5;124m\"\u001b[39m\u001b[38;5;124mr\u001b[39m\u001b[38;5;124m\"\u001b[39m) \u001b[38;5;28;01mas\u001b[39;00m Miarchivo:\n\u001b[0;32m      3\u001b[0m     \u001b[38;5;28mprint\u001b[39m(Miarchivo\u001b[38;5;241m.\u001b[39mread())\n",
      "\u001b[1;31mNameError\u001b[0m: name 'Miruta' is not defined"
     ]
    }
   ],
   "source": [
    "#Vemos que haya funcionado el ciclo\n",
    "with open(Miruta, \"r\") as Miarchivo:\n",
    "    print(Miarchivo.read())"
   ]
  },
  {
   "cell_type": "code",
   "execution_count": null,
   "id": "115a699d",
   "metadata": {},
   "outputs": [],
   "source": [
    "#escribir lineas manualmente con append\n",
    "with open(Miruta, \"r\") as Miarchivo:\n",
    "        Miarchivo.write(\"Renglon 1\\n \")\n",
    "        Miarchivo.write(\"Renglon 2\\n \")\n",
    "        Miarchivo.write(\"Renglon 3\\n \")"
   ]
  },
  {
   "cell_type": "code",
   "execution_count": 6,
   "id": "554c335a",
   "metadata": {},
   "outputs": [
    {
     "name": "stdout",
     "output_type": "stream",
     "text": [
      "\n"
     ]
    }
   ],
   "source": [
    "#Usamos el append, para a;adir texto sin borrar\n",
    "Miruta = \"C:\\\\Users\\\\traba\\\\Downloads\\\\MiTexto1.txt\"\n",
    "with open(Miruta,\"a+\") as Midocumento:\n",
    "    Midocumento.write(\"Este es el texto anadido\")\n",
    "    print(Midocumento.read())"
   ]
  },
  {
   "cell_type": "code",
   "execution_count": 8,
   "id": "3a3a218c",
   "metadata": {},
   "outputs": [
    {
     "name": "stdout",
     "output_type": "stream",
     "text": [
      "Este es mi nuevo texto renglon1\n",
      "Este es mi nuevo texto renglon2\n",
      "Este es mi nuevo texto renglon3\n",
      "Este es el texto anadidoEste es el texto anadidoEste es el texto anadidoEste es el texto anadido\n"
     ]
    }
   ],
   "source": [
    "with open(Miruta,\"r\") as Midocumento:\n",
    "    print(Midocumento.read())"
   ]
  },
  {
   "cell_type": "code",
   "execution_count": 26,
   "id": "029ceabc",
   "metadata": {},
   "outputs": [
    {
     "name": "stdout",
     "output_type": "stream",
     "text": [
      "El documento se abrio en la posicion: 68\n",
      "<class 'str'>\n",
      "El documento no tiene informacion\n",
      "Ahora estamos en la posicion 0\n",
      "El contenido es:\n",
      " Texto para ejercicio de escribir\n",
      "Texto para ejercicio de escribir 2\n",
      "La posicion final del contenido es 68\n"
     ]
    }
   ],
   "source": [
    "#Ejercicio de anadir texto\n",
    "with open(Miruta,\"a+\") as Midocumento:\n",
    "    print('El documento se abrio en la posicion: {}'.format(Midocumento.tell()))\n",
    "#El metodo format, da formato a lo que le metas, y lo pone en el placeholder\n",
    "#El format va a meter el resultado de tell en el placeholder\n",
    "    Miinformacion=Midocumento.read()\n",
    "    print(type(Miinformacion))\n",
    "    if (not Miinformacion): #Las cadenas vacias regresan False\n",
    "          print('El documento no tiene informacion')\n",
    "    else:\n",
    "          print('El contenido a partir de ahi es es:\\n', Midocumento.read())\n",
    "#Ahora nos movemos  al posicion 0 del documento, osea al inicio\n",
    "    Midocumento.seek(0)\n",
    "    print (\"Ahora estamos en la posicion {}\".format(Midocumento.tell()))\n",
    "    if (Miinformacion): #Asi estaba, pero estaba mal era doble negacion osea not False\n",
    "          print('El documento no tiene informacion')\n",
    "    else:\n",
    "          print('El contenido es:\\n', Midocumento.read())\n",
    "    print('La posicion final del contenido es {}'.format(Midocumento.tell()))"
   ]
  },
  {
   "cell_type": "code",
   "execution_count": 25,
   "id": "e476c9b1",
   "metadata": {},
   "outputs": [
    {
     "name": "stdout",
     "output_type": "stream",
     "text": [
      "\n"
     ]
    }
   ],
   "source": [
    "Miruta = \"C:\\\\Users\\\\traba\\\\Downloads\\\\MiTexto1.txt\"\n",
    "Miruta1 = \"C:\\\\Users\\\\traba\\\\Downloads\\\\MiTexto2.txt\"\n",
    "with open(Miruta,\"r+\") as Documentoacopiarse:\n",
    "    with open(Miruta1,\"w+\") as Documentofinal:\n",
    "        for renglon in Documentoacopiarse:\n",
    "            Documentofinal.write(renglon)\n",
    "        print(Documentofinal.read())"
   ]
  },
  {
   "cell_type": "code",
   "execution_count": 1,
   "id": "2abcef33",
   "metadata": {},
   "outputs": [],
   "source": [
    "#Run this prior to starting the exercise\n",
    "from random import randint as rnd\n",
    "\n",
    "memReg = 'members.txt'\n",
    "exReg = 'inactive.txt'\n",
    "fee =('yes','no')\n",
    "\n",
    "def genFiles(current,old):\n",
    "    with open(current,'w+') as writefile: \n",
    "        writefile.write('Membership No  Date Joined  Active  \\n')\n",
    "        data = \"{:^13}  {:<11}  {:<6}\\n\"\n",
    "\n",
    "        for rowno in range(20):\n",
    "            date = str(rnd(2015,2020))+ '-' + str(rnd(1,12))+'-'+str(rnd(1,25))\n",
    "            writefile.write(data.format(rnd(10000,99999),date,fee[rnd(0,1)]))\n",
    "\n",
    "\n",
    "    with open(old,'w+') as writefile: \n",
    "        writefile.write('Membership No  Date Joined  Active  \\n')\n",
    "        data = \"{:^13}  {:<11}  {:<6}\\n\"\n",
    "        for rowno in range(3):\n",
    "            date = str(rnd(2015,2020))+ '-' + str(rnd(1,12))+'-'+str(rnd(1,25))\n",
    "            writefile.write(data.format(rnd(10000,99999),date,fee[1]))\n",
    "\n",
    "\n",
    "genFiles(memReg,exReg)\n"
   ]
  },
  {
   "cell_type": "code",
   "execution_count": 5,
   "id": "7a53fb29",
   "metadata": {},
   "outputs": [
    {
     "name": "stdout",
     "output_type": "stream",
     "text": [
      "Active Members: \n",
      "\n",
      "\n",
      "Membership No  Date Joined  Active  \n",
      "    29211      2018-2-13    yes   \n",
      "    61098      2017-5-15    no    \n",
      "    41468      2019-8-7     no    \n",
      "    25616      2015-12-24   yes   \n",
      "    98976      2016-10-7    no    \n",
      "    52461      2017-7-19    no    \n",
      "    31119      2016-3-9     yes   \n",
      "    60269      2017-4-25    yes   \n",
      "    77386      2018-11-7    no    \n",
      "    60993      2018-5-8     no    \n",
      "    31866      2017-11-2    no    \n",
      "    33189      2016-8-12    no    \n",
      "    28680      2017-4-23    yes   \n",
      "    88363      2016-5-8     no    \n",
      "    60673      2018-10-5    no    \n",
      "    16937      2019-7-3     no    \n",
      "    87964      2017-6-15    no    \n",
      "    51792      2020-2-8     yes   \n",
      "    71330      2017-1-19    yes   \n",
      "    15243      2017-3-8     no    \n",
      "    29211      2018-2-13    yes   \n",
      "    29211      2018-2-13    yes   \n",
      "    25616      2015-12-24   yes   \n",
      "    31119      2016-3-9     yes   \n",
      "    60269      2017-4-25    yes   \n",
      "    28680      2017-4-23    yes   \n",
      "    51792      2020-2-8     yes   \n",
      "    71330      2017-1-19    yes   \n",
      "    29211      2018-2-13    yes   \n",
      "\n",
      "Inactive Members: \n",
      "\n",
      "\n",
      "Membership No  Date Joined  Active  \n",
      "    88327      2017-5-6     no    \n",
      "    43572      2017-5-23    no    \n",
      "    59622      2018-10-22   no    \n",
      "Membership No  Date Joined  Active  \n",
      "Membership No  Date Joined  Active  \n",
      "    61098      2017-5-15    no    \n",
      "    41468      2019-8-7     no    \n",
      "    98976      2016-10-7    no    \n",
      "    52461      2017-7-19    no    \n",
      "    77386      2018-11-7    no    \n",
      "    60993      2018-5-8     no    \n",
      "    31866      2017-11-2    no    \n",
      "    33189      2016-8-12    no    \n",
      "    88363      2016-5-8     no    \n",
      "    60673      2018-10-5    no    \n",
      "    16937      2019-7-3     no    \n",
      "    87964      2017-6-15    no    \n",
      "    15243      2017-3-8     no    \n",
      "\n"
     ]
    }
   ],
   "source": [
    "'''\n",
    "The two arguments for this function are the files:\n",
    "    - currentMem: File containing list of current members\n",
    "    - exMem: File containing list of old members\n",
    "    \n",
    "    This function should remove all rows from currentMem containing 'no' \n",
    "    in the 'Active' column and appends them to exMem.\n",
    "    '''\n",
    "memReg = \"C:\\\\Users\\\\traba\\\\Downloads\\\\members.txt\"\n",
    "exReg = \"C:\\\\Users\\\\traba\\\\Downloads\\\\inactive.txt\"\n",
    "def cleanFiles(currentMem, exMem):\n",
    "    # TODO: Open the currentMem file as in r+ mode\n",
    "    with open (memReg, \"r+\") as currentMem:\n",
    "        miembros=currentMem.readlines()\n",
    "        #TODO: Open the exMem file in a+ mode\n",
    "        with open (exReg, \"a+\") as exMem:\n",
    "            #TODO: Read each member in the currentMem (1 member per row) file into a list.\n",
    "            # Hint: Recall that the first line in the file is the header.\n",
    "            encabezados= miembros[0] #Guardamos los encabezados\n",
    "            miembros.pop(0) #Eliminamos los encabezados\n",
    "            bajas=[] #creamos nuestroa arreglo para guardar bajas\n",
    "            for miembro in miembros:\n",
    "                if \"no\" in miembro: #su encuentra un no en un a columna\n",
    "                    #TODO: iterate through the members and create a new list of the innactive members\n",
    "                    bajas.append(miembro)\n",
    "                    # Go to the beginning of the currentMem file\n",
    "            exMem.seek(0)\n",
    "            exMem.write(encabezados)\n",
    "            # TODO: Iterate through the members list. \n",
    "            # If a member is inactive, add them to exMem, otherwise write them into currentMem\n",
    "            for miembro in miembros:\n",
    "                if (miembro in bajas):#Si encuentra un miebro en la lista de bajas\n",
    "                    exMem.write(miembro)\n",
    "                else:\n",
    "                    currentMem.write(miembro)\n",
    "    \n",
    "    #pass # Remove this line when done implementation\n",
    "\n",
    "\n",
    "# The code below is to help you view the files.\n",
    "# Do not modify this code for this exercise.\n",
    "memReg = 'members.txt'\n",
    "exReg = 'inactive.txt'\n",
    "cleanFiles(memReg,exReg)\n",
    "\n",
    "\n",
    "headers = \"Membership No  Date Joined  Active  \\n\"\n",
    "with open(memReg,'r') as readFile:\n",
    "    print(\"Active Members: \\n\\n\")\n",
    "    print(readFile.read())\n",
    "    \n",
    "with open(exReg,'r') as readFile:\n",
    "    print(\"Inactive Members: \\n\\n\")\n",
    "    print(readFile.read())\n",
    "                "
   ]
  },
  {
   "cell_type": "code",
   "execution_count": null,
   "id": "05395b0c",
   "metadata": {},
   "outputs": [],
   "source": [
    "def testMsg(passed):\n",
    "    if passed:\n",
    "       return 'Test Passed'\n",
    "    else :\n",
    "       return 'Test Failed'\n",
    "\n",
    "testWrite = \"testWrite.txt\"\n",
    "testAppend = \"testAppend.txt\" \n",
    "passed = True\n",
    "\n",
    "genFiles(testWrite,testAppend)\n",
    "\n",
    "with open(testWrite,'r') as file:\n",
    "    ogWrite = file.readlines()\n",
    "\n",
    "with open(testAppend,'r') as file:\n",
    "    ogAppend = file.readlines()\n",
    "\n",
    "try:\n",
    "    cleanFiles(testWrite,testAppend)\n",
    "except:\n",
    "    print('Error')\n",
    "\n",
    "with open(testWrite,'r') as file:\n",
    "    clWrite = file.readlines()\n",
    "\n",
    "with open(testAppend,'r') as file:\n",
    "    clAppend = file.readlines()\n",
    "        \n",
    "# checking if total no of rows is same, including headers\n",
    "\n",
    "if (len(ogWrite) + len(ogAppend) != len(clWrite) + len(clAppend)):\n",
    "    print(\"The number of rows do not add up. Make sure your final files have the same header and format.\")\n",
    "    passed = False\n",
    "    \n",
    "for line in clWrite:\n",
    "    if  'no' in line:\n",
    "        passed = False\n",
    "        print(\"Inactive members in file\")\n",
    "        break\n",
    "    else:\n",
    "        if line not in ogWrite:\n",
    "            print(\"Data in file does not match original file\")\n",
    "            passed = False\n",
    "print (\"{}\".format(testMsg(passed)))\n",
    "    "
   ]
  },
  {
   "cell_type": "code",
   "execution_count": 4,
   "id": "f5e0e9ed",
   "metadata": {},
   "outputs": [
    {
     "name": "stdout",
     "output_type": "stream",
     "text": [
      "<class 'int'>\n"
     ]
    }
   ],
   "source": []
  },
  {
   "cell_type": "code",
   "execution_count": 5,
   "id": "e936fbba",
   "metadata": {},
   "outputs": [
    {
     "ename": "TypeError",
     "evalue": "unsupported operand type(s) for /: 'list' and 'int'",
     "output_type": "error",
     "traceback": [
      "\u001b[1;31m---------------------------------------------------------------------------\u001b[0m",
      "\u001b[1;31mTypeError\u001b[0m                                 Traceback (most recent call last)",
      "Cell \u001b[1;32mIn [5], line 3\u001b[0m\n\u001b[0;32m      1\u001b[0m A\u001b[38;5;241m=\u001b[39m[\u001b[38;5;241m10\u001b[39m, \u001b[38;5;241m20\u001b[39m, \u001b[38;5;241m30\u001b[39m]\n\u001b[1;32m----> 3\u001b[0m division\u001b[38;5;241m=\u001b[39m\u001b[43mA\u001b[49m\u001b[38;5;241;43m/\u001b[39;49m\u001b[38;5;241;43m2\u001b[39;49m\n\u001b[0;32m      5\u001b[0m \u001b[38;5;28mprint\u001b[39m(division)\n",
      "\u001b[1;31mTypeError\u001b[0m: unsupported operand type(s) for /: 'list' and 'int'"
     ]
    }
   ],
   "source": []
  },
  {
   "cell_type": "code",
   "execution_count": 7,
   "id": "6e6d40e9",
   "metadata": {},
   "outputs": [],
   "source": []
  },
  {
   "cell_type": "code",
   "execution_count": 8,
   "id": "effc1679",
   "metadata": {},
   "outputs": [
    {
     "ename": "NameError",
     "evalue": "name 'obj1' is not defined",
     "output_type": "error",
     "traceback": [
      "\u001b[1;31m---------------------------------------------------------------------------\u001b[0m",
      "\u001b[1;31mNameError\u001b[0m                                 Traceback (most recent call last)",
      "Cell \u001b[1;32mIn [8], line 14\u001b[0m\n\u001b[0;32m     10\u001b[0m         \u001b[38;5;28mprint\u001b[39m(\u001b[38;5;124m'\u001b[39m\u001b[38;5;124mName:\u001b[39m\u001b[38;5;124m'\u001b[39m, \u001b[38;5;28mself\u001b[39m\u001b[38;5;241m.\u001b[39mx, \u001b[38;5;124m'\u001b[39m\u001b[38;5;124mAddress:\u001b[39m\u001b[38;5;124m'\u001b[39m, \u001b[38;5;28mself\u001b[39m\u001b[38;5;241m.\u001b[39my)\n\u001b[0;32m     12\u001b[0m \u001b[38;5;66;03m# creating object of the class\u001b[39;00m\n\u001b[1;32m---> 14\u001b[0m \u001b[43mobj1\u001b[49m\u001b[38;5;241m.\u001b[39mPerson()\n\u001b[0;32m     15\u001b[0m obj1\u001b[38;5;241m.\u001b[39mshow()\n",
      "\u001b[1;31mNameError\u001b[0m: name 'obj1' is not defined"
     ]
    }
   ],
   "source": []
  },
  {
   "cell_type": "code",
   "execution_count": null,
   "id": "3e006764",
   "metadata": {},
   "outputs": [],
   "source": []
  }
 ],
 "metadata": {
  "kernelspec": {
   "display_name": "Python 3 (ipykernel)",
   "language": "python",
   "name": "python3"
  },
  "language_info": {
   "codemirror_mode": {
    "name": "ipython",
    "version": 3
   },
   "file_extension": ".py",
   "mimetype": "text/x-python",
   "name": "python",
   "nbconvert_exporter": "python",
   "pygments_lexer": "ipython3",
   "version": "3.10.7"
  }
 },
 "nbformat": 4,
 "nbformat_minor": 5
}
