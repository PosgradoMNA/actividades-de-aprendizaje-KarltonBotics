{
 "cells": [
  {
   "cell_type": "code",
   "execution_count": 1,
   "id": "fcf2627d",
   "metadata": {},
   "outputs": [
    {
     "data": {
      "text/plain": [
       "['Camion', 1, 2, 3, 'Vaca']"
      ]
     },
     "execution_count": 1,
     "metadata": {},
     "output_type": "execute_result"
    }
   ],
   "source": [
    "#Crear una lista e imprimirla\n",
    "Lista=[\"Camion\",1,2,3,\"Vaca\"]\n",
    "Lista"
   ]
  },
  {
   "cell_type": "code",
   "execution_count": 2,
   "id": "eda24743",
   "metadata": {},
   "outputs": [
    {
     "name": "stdout",
     "output_type": "stream",
     "text": [
      "EL primer elemento es Camion\n",
      "Primer elemento con indice inverso es Camion\n"
     ]
    }
   ],
   "source": [
    "#Imprimir con idnices positivos y negativos\n",
    "print(\"EL primer elemento es\",Lista[0])\n",
    "print(\"Primer elemento con indice inverso es\",Lista[-5])"
   ]
  },
  {
   "cell_type": "code",
   "execution_count": 5,
   "id": "07b28ee2",
   "metadata": {},
   "outputs": [
    {
     "data": {
      "text/plain": [
       "[23, 56, ('Casa', 'Oscar')]"
      ]
     },
     "execution_count": 5,
     "metadata": {},
     "output_type": "execute_result"
    }
   ],
   "source": [
    "#Rebanar una lista\n",
    "Lista2=[\"Perro\",23,56,(\"Casa\",\"Oscar\"),89,91,[\"zapatos\",3]]\n",
    "Lista2[1:4]"
   ]
  },
  {
   "cell_type": "code",
   "execution_count": 7,
   "id": "c264c8b2",
   "metadata": {},
   "outputs": [
    {
     "data": {
      "text/plain": [
       "['Perro',\n",
       " 23,\n",
       " 56,\n",
       " ('Casa', 'Oscar'),\n",
       " 89,\n",
       " 91,\n",
       " ['zapatos', 3],\n",
       " 4,\n",
       " 29,\n",
       " 4,\n",
       " 29,\n",
       " [35, 295]]"
      ]
     },
     "execution_count": 7,
     "metadata": {},
     "output_type": "execute_result"
    }
   ],
   "source": [
    "#Extender una lista de dos formas diferntes\n",
    "Lista2.extend([4,29])\n",
    "Lista2\n",
    "Lista2.append([35,295])\n",
    "Lista2"
   ]
  },
  {
   "cell_type": "code",
   "execution_count": 11,
   "id": "de486061",
   "metadata": {},
   "outputs": [
    {
     "name": "stdout",
     "output_type": "stream",
     "text": [
      "La lista vieja ['Gato', ('Casa', 'Oscar'), 89, 91, ['zapatos', 3], 4, 29, 4, 29, [35, 295]]\n",
      "La lista nueva ['Gato', 89, 91, ['zapatos', 3], 4, 29, 4, 29, [35, 295]]\n"
     ]
    }
   ],
   "source": [
    "#Modificar y eliminar elementos de la lista\n",
    "Lista2[0]='Gato'\n",
    "print (\"La lista vieja\",Lista2)\n",
    "del(Lista2[1])\n",
    "print(\"La lista nueva\",Lista2)"
   ]
  },
  {
   "cell_type": "code",
   "execution_count": 12,
   "id": "e29bcf0a",
   "metadata": {},
   "outputs": [
    {
     "data": {
      "text/plain": [
       "['Hola', 'buenos', 'dias']"
      ]
     },
     "execution_count": 12,
     "metadata": {},
     "output_type": "execute_result"
    }
   ],
   "source": [
    "#Dividir cadena de dos formas diferentes\n",
    "\"Hola buenos dias\".split()"
   ]
  },
  {
   "cell_type": "code",
   "execution_count": 15,
   "id": "3a4568dd",
   "metadata": {},
   "outputs": [
    {
     "data": {
      "text/plain": [
       "['Hola buenos', ' dias', ' que tal']"
      ]
     },
     "execution_count": 15,
     "metadata": {},
     "output_type": "execute_result"
    }
   ],
   "source": [
    "\"Hola buenos, dias, que tal\".split(\",\")"
   ]
  },
  {
   "cell_type": "code",
   "execution_count": 16,
   "id": "f359585a",
   "metadata": {},
   "outputs": [
    {
     "data": {
      "text/plain": [
       "['Gato', 89, 91, ['zapatos', 3], 4, 29, 4, 29, [35, 295]]"
      ]
     },
     "execution_count": 16,
     "metadata": {},
     "output_type": "execute_result"
    }
   ],
   "source": [
    "#Copiar una lista con aliasing\n",
    "Lista3 = Lista2\n",
    "Lista3"
   ]
  },
  {
   "cell_type": "code",
   "execution_count": 17,
   "id": "f4775395",
   "metadata": {},
   "outputs": [
    {
     "data": {
      "text/plain": [
       "['Gato', 89, 91, ['zapatos', 3], 4, 29, 4, 29, [35, 295]]"
      ]
     },
     "execution_count": 17,
     "metadata": {},
     "output_type": "execute_result"
    }
   ],
   "source": [
    "#Clonar una lista, es decir sin aliasing\n",
    "Lista4=Lista3[:]\n",
    "Lista4"
   ]
  },
  {
   "cell_type": "code",
   "execution_count": 18,
   "id": "e196a557",
   "metadata": {},
   "outputs": [
    {
     "data": {
      "text/plain": [
       "['Gato',\n",
       " 89,\n",
       " 91,\n",
       " ['zapatos', 3],\n",
       " 4,\n",
       " 29,\n",
       " 4,\n",
       " 29,\n",
       " [35, 295],\n",
       " 'Gato',\n",
       " 89,\n",
       " 91,\n",
       " ['zapatos', 3],\n",
       " 4,\n",
       " 29,\n",
       " 4,\n",
       " 29,\n",
       " [35, 295]]"
      ]
     },
     "execution_count": 18,
     "metadata": {},
     "output_type": "execute_result"
    }
   ],
   "source": [
    "#Concatenar listas\n",
    "Lista5=Lista3+Lista2\n",
    "Lista5"
   ]
  },
  {
   "cell_type": "code",
   "execution_count": null,
   "id": "984c8e67",
   "metadata": {},
   "outputs": [],
   "source": []
  }
 ],
 "metadata": {
  "kernelspec": {
   "display_name": "Python 3 (ipykernel)",
   "language": "python",
   "name": "python3"
  },
  "language_info": {
   "codemirror_mode": {
    "name": "ipython",
    "version": 3
   },
   "file_extension": ".py",
   "mimetype": "text/x-python",
   "name": "python",
   "nbconvert_exporter": "python",
   "pygments_lexer": "ipython3",
   "version": "3.10.7"
  }
 },
 "nbformat": 4,
 "nbformat_minor": 5
}
