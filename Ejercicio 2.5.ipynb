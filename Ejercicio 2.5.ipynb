{
 "cells": [
  {
   "cell_type": "code",
   "execution_count": 2,
   "id": "0c2afa01",
   "metadata": {},
   "outputs": [
    {
     "data": {
      "text/plain": [
       "{'R&B', 'disco', 'hard rock', 'pop', 'rock', 'soul'}"
      ]
     },
     "execution_count": 2,
     "metadata": {},
     "output_type": "execute_result"
    }
   ],
   "source": [
    "#Crear un set e imprimirlo\n",
    "set1 = {\"pop\", \"rock\", \"soul\", \"hard rock\", \"rock\", \"R&B\", \"rock\", \"disco\"}\n",
    "set1"
   ]
  },
  {
   "cell_type": "code",
   "execution_count": 4,
   "id": "bcd4cf49",
   "metadata": {},
   "outputs": [
    {
     "data": {
      "text/plain": [
       "{'cumbia', 'nerengue', 'pop', 'salsa'}"
      ]
     },
     "execution_count": 4,
     "metadata": {},
     "output_type": "execute_result"
    }
   ],
   "source": [
    "#Convertir una lista en un set y anadir elementos\n",
    "Set_de_musica=set(['pop','cumbia','salsa'])\n",
    "Set_de_musica.add('nerengue')\n",
    "Set_de_musica"
   ]
  },
  {
   "cell_type": "code",
   "execution_count": 5,
   "id": "6151d6ca",
   "metadata": {},
   "outputs": [
    {
     "data": {
      "text/plain": [
       "{'cumbia', 'pop', 'salsa'}"
      ]
     },
     "execution_count": 5,
     "metadata": {},
     "output_type": "execute_result"
    }
   ],
   "source": [
    "#Buscar un elemento y eliminarlos\n",
    "'nerengue' in Set_de_musica\n",
    "Set_de_musica.remove('nerengue')\n",
    "Set_de_musica"
   ]
  },
  {
   "cell_type": "code",
   "execution_count": 8,
   "id": "66a0cd77",
   "metadata": {},
   "outputs": [
    {
     "data": {
      "text/plain": [
       "{'pop'}"
      ]
     },
     "execution_count": 8,
     "metadata": {},
     "output_type": "execute_result"
    }
   ],
   "source": [
    "#unir dos sets y buscar la interseccion\n",
    "Set2={'pop','bumbia','regue','ska'}\n",
    "Set_de_musica,set2\n",
    "interseccion=Set_de_musica&set2\n",
    "interseccion"
   ]
  },
  {
   "cell_type": "code",
   "execution_count": 9,
   "id": "d7f40a20",
   "metadata": {},
   "outputs": [
    {
     "data": {
      "text/plain": [
       "{'cumbia', 'salsa'}"
      ]
     },
     "execution_count": 9,
     "metadata": {},
     "output_type": "execute_result"
    }
   ],
   "source": [
    "#Buscar los elementos que estan solo en un set usando difference\n",
    "Set_de_musica.difference(Set2)"
   ]
  },
  {
   "cell_type": "code",
   "execution_count": 10,
   "id": "c6477add",
   "metadata": {},
   "outputs": [
    {
     "data": {
      "text/plain": [
       "{'bumbia', 'cumbia', 'pop', 'regue', 'salsa', 'ska'}"
      ]
     },
     "execution_count": 10,
     "metadata": {},
     "output_type": "execute_result"
    }
   ],
   "source": [
    "#Unir dos sets\n",
    "Set_de_musica.union(Set2)"
   ]
  },
  {
   "cell_type": "code",
   "execution_count": 11,
   "id": "62850d53",
   "metadata": {},
   "outputs": [
    {
     "data": {
      "text/plain": [
       "False"
      ]
     },
     "execution_count": 11,
     "metadata": {},
     "output_type": "execute_result"
    }
   ],
   "source": [
    "#Usar issubset y issuperset\n",
    "set(Set_de_musica).issuperset(Set2)\n",
    "set(Set2).issubset(Set_de_musica)"
   ]
  },
  {
   "cell_type": "code",
   "execution_count": 12,
   "id": "007f1d1d",
   "metadata": {},
   "outputs": [
    {
     "name": "stdout",
     "output_type": "stream",
     "text": [
      "the sum of A is: 6\n",
      "the sum of B is: 3\n"
     ]
    }
   ],
   "source": [
    "#sumar elementos de un set y compararlos\n",
    "A = [1, 2, 2, 1]  \n",
    "B = set([1, 2, 2, 1])\n",
    "print(\"the sum of A is:\", sum(A))\n",
    "print(\"the sum of B is:\", sum(B))"
   ]
  },
  {
   "cell_type": "code",
   "execution_count": null,
   "id": "25f4f4c6",
   "metadata": {},
   "outputs": [],
   "source": []
  }
 ],
 "metadata": {
  "kernelspec": {
   "display_name": "Python 3 (ipykernel)",
   "language": "python",
   "name": "python3"
  },
  "language_info": {
   "codemirror_mode": {
    "name": "ipython",
    "version": 3
   },
   "file_extension": ".py",
   "mimetype": "text/x-python",
   "name": "python",
   "nbconvert_exporter": "python",
   "pygments_lexer": "ipython3",
   "version": "3.10.7"
  }
 },
 "nbformat": 4,
 "nbformat_minor": 5
}
