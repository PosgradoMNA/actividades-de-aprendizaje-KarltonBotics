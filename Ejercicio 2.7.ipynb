{
 "cells": [
  {
   "cell_type": "code",
   "execution_count": 2,
   "id": "8f4b3afb",
   "metadata": {},
   "outputs": [
    {
     "data": {
      "text/plain": [
       "6"
      ]
     },
     "execution_count": 2,
     "metadata": {},
     "output_type": "execute_result"
    }
   ],
   "source": [
    "#Crear un diccionario de datos y acceder a sus valores de 2 formas diferentes\n",
    "Diccionario = {\"llave1\": 156, \"key2\": \"2\", \"key3\": ['oso', 'lobo', 'camion'], \"key4\": (4, 4, 4), ('key5'): 5, (0, 'Carlos'): 6}\n",
    "Diccionario\n",
    "Diccionario['llave1']\n",
    "Diccionario[(0,'Carlos')]"
   ]
  },
  {
   "cell_type": "code",
   "execution_count": 5,
   "id": "7463499d",
   "metadata": {},
   "outputs": [
    {
     "data": {
      "text/plain": [
       "dict_values([156, '2', ['oso', 'lobo', 'camion'], (4, 4, 4), 5, 6])"
      ]
     },
     "execution_count": 5,
     "metadata": {},
     "output_type": "execute_result"
    }
   ],
   "source": [
    "#Obtener los valores y las llaves de un diccionario\n",
    "Diccionario.keys()\n",
    "Diccionario.values()"
   ]
  },
  {
   "cell_type": "code",
   "execution_count": 6,
   "id": "07e89ae7",
   "metadata": {},
   "outputs": [
    {
     "data": {
      "text/plain": [
       "2021"
      ]
     },
     "execution_count": 6,
     "metadata": {},
     "output_type": "execute_result"
    }
   ],
   "source": [
    "#Anadirvalores del diccionario\n",
    "Diccionario['Pinata'] = 2021\n",
    "Diccionario['Pinata']"
   ]
  },
  {
   "cell_type": "code",
   "execution_count": 7,
   "id": "3b4312ee",
   "metadata": {},
   "outputs": [
    {
     "data": {
      "text/plain": [
       "True"
      ]
     },
     "execution_count": 7,
     "metadata": {},
     "output_type": "execute_result"
    }
   ],
   "source": [
    "#Buscar un valor en el diccionario\n",
    "'Pinata' in Diccionario"
   ]
  },
  {
   "cell_type": "code",
   "execution_count": 8,
   "id": "e04f2343",
   "metadata": {},
   "outputs": [
    {
     "data": {
      "text/plain": [
       "False"
      ]
     },
     "execution_count": 8,
     "metadata": {},
     "output_type": "execute_result"
    }
   ],
   "source": [
    "#Eliminar valores del diccionario\n",
    "del(Diccionario['Pinata'])\n",
    "'Pinata' in Diccionario"
   ]
  },
  {
   "cell_type": "code",
   "execution_count": null,
   "id": "ce9384e2",
   "metadata": {},
   "outputs": [],
   "source": []
  }
 ],
 "metadata": {
  "kernelspec": {
   "display_name": "Python 3 (ipykernel)",
   "language": "python",
   "name": "python3"
  },
  "language_info": {
   "codemirror_mode": {
    "name": "ipython",
    "version": 3
   },
   "file_extension": ".py",
   "mimetype": "text/x-python",
   "name": "python",
   "nbconvert_exporter": "python",
   "pygments_lexer": "ipython3",
   "version": "3.10.7"
  }
 },
 "nbformat": 4,
 "nbformat_minor": 5
}
