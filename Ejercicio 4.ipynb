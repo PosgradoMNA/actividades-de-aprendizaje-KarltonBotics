{
 "cells": [
  {
   "cell_type": "code",
   "execution_count": 1,
   "id": "c4eb766a",
   "metadata": {},
   "outputs": [
    {
     "data": {
      "text/plain": [
       "'1 2 3 4 5'"
      ]
     },
     "execution_count": 1,
     "metadata": {},
     "output_type": "execute_result"
    }
   ],
   "source": [
    "#Crear diferentes strings de diversas formas\n",
    "'Michael Jackson'\n",
    "\"Michael Jackson\"\n",
    "'@#2_#]&*^%$'\n",
    "\"1 2 3 4 5\""
   ]
  },
  {
   "cell_type": "code",
   "execution_count": 2,
   "id": "5f5a30fc",
   "metadata": {},
   "outputs": [
    {
     "name": "stdout",
     "output_type": "stream",
     "text": [
      "Hola Mundo\n"
     ]
    },
    {
     "data": {
      "text/plain": [
       "'Michael Jackson'"
      ]
     },
     "execution_count": 2,
     "metadata": {},
     "output_type": "execute_result"
    }
   ],
   "source": [
    "#Imprimir cadenas\n",
    "print('Hola Mundo')\n",
    "name = \"Michael Jackson\"\n",
    "name"
   ]
  },
  {
   "cell_type": "code",
   "execution_count": 3,
   "id": "674f42d3",
   "metadata": {},
   "outputs": [
    {
     "name": "stdout",
     "output_type": "stream",
     "text": [
      "R\n",
      " \n",
      "l\n"
     ]
    }
   ],
   "source": [
    "#Imprimir elementos con indices en diferentes posiciones\n",
    "name=\"Rafael Oliveiros\"\n",
    "print(name[0])\n",
    "print(name[6])\n",
    "print(name[8])"
   ]
  },
  {
   "cell_type": "code",
   "execution_count": 4,
   "id": "11c484f6",
   "metadata": {},
   "outputs": [
    {
     "name": "stdout",
     "output_type": "stream",
     "text": [
      "o\n",
      "O\n",
      "s\n"
     ]
    }
   ],
   "source": [
    "#Imprimir elementos en posiciones invertidas\n",
    "name=\"Rafael Oliveiros\"\n",
    "print(name[-2])\n",
    "print(name[-9])\n",
    "print(name[-1])"
   ]
  },
  {
   "cell_type": "code",
   "execution_count": 5,
   "id": "4712d777",
   "metadata": {},
   "outputs": [
    {
     "data": {
      "text/plain": [
       "15"
      ]
     },
     "execution_count": 5,
     "metadata": {},
     "output_type": "execute_result"
    }
   ],
   "source": [
    "#Onbtener la longitud de una cadena\n",
    "len(\"Michael Jackson\")"
   ]
  },
  {
   "cell_type": "code",
   "execution_count": 6,
   "id": "d8fecb28",
   "metadata": {},
   "outputs": [
    {
     "data": {
      "text/plain": [
       "'rito '"
      ]
     },
     "execution_count": 6,
     "metadata": {},
     "output_type": "execute_result"
    }
   ],
   "source": [
    "#Obtener elementos d euna cadena en diferentes posiciones, slice\n",
    "name='Pedrito Sola'\n",
    "name[0:4]\n",
    "name[3:8]"
   ]
  },
  {
   "cell_type": "code",
   "execution_count": 7,
   "id": "b001c4d2",
   "metadata": {},
   "outputs": [
    {
     "data": {
      "text/plain": [
       "'To dno'"
      ]
     },
     "execution_count": 7,
     "metadata": {},
     "output_type": "execute_result"
    }
   ],
   "source": [
    "#Obtener elementos de una cadena dando determinados saltos\n",
    "name=\"Thor Odinson\"\n",
    "name[::2]"
   ]
  },
  {
   "cell_type": "code",
   "execution_count": 8,
   "id": "bc458741",
   "metadata": {},
   "outputs": [
    {
     "data": {
      "text/plain": [
       "'Spi'"
      ]
     },
     "execution_count": 8,
     "metadata": {},
     "output_type": "execute_result"
    }
   ],
   "source": [
    "#Obtener elementos de una cadena dando determinados saltos, pero dentro de un rango seleccionado\n",
    "name='Septiembre patrio'\n",
    "name[0:5:2]"
   ]
  },
  {
   "cell_type": "code",
   "execution_count": 9,
   "id": "801d4adb",
   "metadata": {},
   "outputs": [
    {
     "data": {
      "text/plain": [
       "'Carloses el mejors'"
      ]
     },
     "execution_count": 9,
     "metadata": {},
     "output_type": "execute_result"
    }
   ],
   "source": [
    "#Concatenar dos o mas cadenas e imprimirlas\n",
    "nombre='Carlos'\n",
    "frase=nombre + 'es el mejors'\n",
    "frase"
   ]
  },
  {
   "cell_type": "code",
   "execution_count": 10,
   "id": "cac16b61",
   "metadata": {},
   "outputs": [
    {
     "data": {
      "text/plain": [
       "'frase repetida frase repetida frase repetida frase repetida frase repetida '"
      ]
     },
     "execution_count": 10,
     "metadata": {},
     "output_type": "execute_result"
    }
   ],
   "source": [
    "#multiplicar una cadena\n",
    "5 * 'frase repetida '"
   ]
  },
  {
   "cell_type": "code",
   "execution_count": 11,
   "id": "b5366dd1",
   "metadata": {},
   "outputs": [
    {
     "name": "stdout",
     "output_type": "stream",
     "text": [
      " Michael Jackson \n",
      " is the best\n",
      " Michael Jackson \t is the best\n",
      " Michael Jackson \\ is the best\n",
      " Michael Jackson \\ is the best\n"
     ]
    }
   ],
   "source": [
    "#Usar 3 secuencias de escape\n",
    "print(\" Michael Jackson \\n is the best\" )\n",
    "print(\" Michael Jackson \\t is the best\" )\n",
    "print(\" Michael Jackson \\\\ is the best\" )\n",
    "print(r\" Michael Jackson \\ is the best\" )"
   ]
  },
  {
   "cell_type": "code",
   "execution_count": 12,
   "id": "7380fbce",
   "metadata": {},
   "outputs": [
    {
     "name": "stdout",
     "output_type": "stream",
     "text": [
      "en minuscula es: Hola mundo\n",
      "en mayuscula es HOLA MUNDO\n"
     ]
    },
    {
     "data": {
      "text/plain": [
       "-1"
      ]
     },
     "execution_count": 12,
     "metadata": {},
     "output_type": "execute_result"
    }
   ],
   "source": [
    "#USar operadores de cadenas\n",
    "a = \"Hola mundo\"\n",
    "print(\"en minuscula es:\", a)\n",
    "b = a.upper()\n",
    "print(\"en mayuscula es\", b)\n",
    "g='carlos'\n",
    "g.upper()\n",
    "\n",
    "a = \"OScar is the best\"\n",
    "b = a.replace('OScar', 'Carlos')\n",
    "b\n",
    "g.replace('ar','al')\n",
    "\n",
    "name = \"Michael Jackson\"\n",
    "name.find('el')\n",
    "g.find('al')"
   ]
  },
  {
   "cell_type": "code",
   "execution_count": 13,
   "id": "8a3edfd2",
   "metadata": {},
   "outputs": [
    {
     "data": {
      "text/plain": [
       "-1"
      ]
     },
     "execution_count": 13,
     "metadata": {},
     "output_type": "execute_result"
    }
   ],
   "source": [
    "#Ver que ocurre cuando no encuentra \n",
    "name.find('Jasdfasdasdf')"
   ]
  },
  {
   "cell_type": "code",
   "execution_count": 14,
   "id": "87aa90e0",
   "metadata": {},
   "outputs": [
    {
     "name": "stdout",
     "output_type": "stream",
     "text": [
      "\\\\\\\n",
      "\\ \n"
     ]
    }
   ],
   "source": [
    "#imrprimir diagonal invertida\n",
    "print(\"\\\\\\\\\\\\\")\n",
    "print(r\"\\ \")"
   ]
  },
  {
   "cell_type": "code",
   "execution_count": null,
   "id": "c9732475",
   "metadata": {},
   "outputs": [],
   "source": []
  }
 ],
 "metadata": {
  "kernelspec": {
   "display_name": "Python 3 (ipykernel)",
   "language": "python",
   "name": "python3"
  },
  "language_info": {
   "codemirror_mode": {
    "name": "ipython",
    "version": 3
   },
   "file_extension": ".py",
   "mimetype": "text/x-python",
   "name": "python",
   "nbconvert_exporter": "python",
   "pygments_lexer": "ipython3",
   "version": "3.10.7"
  }
 },
 "nbformat": 4,
 "nbformat_minor": 5
}
