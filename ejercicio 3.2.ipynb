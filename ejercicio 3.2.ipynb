{
 "cells": [
  {
   "cell_type": "code",
   "execution_count": 3,
   "id": "406d30f1",
   "metadata": {},
   "outputs": [
    {
     "data": {
      "text/plain": [
       "False"
      ]
     },
     "execution_count": 3,
     "metadata": {},
     "output_type": "execute_result"
    }
   ],
   "source": [
    "#Usar los operadores de comparacion\n",
    "variable = 20\n",
    "variable == 10\n",
    "variable > 5\n",
    "variable != 15\n",
    "\"Carlos\" == 'Ramon'\n",
    "'A'> 'B' \n",
    "#Toma los valores ascii de las letras para comparar, es casesensitive"
   ]
  },
  {
   "cell_type": "code",
   "execution_count": 8,
   "id": "a99cc90f",
   "metadata": {},
   "outputs": [
    {
     "name": "stdout",
     "output_type": "stream",
     "text": [
      "Ni naciste en el 1989 ni eres mayor de edad\n",
      "Gracias por participar\n"
     ]
    },
    {
     "data": {
      "text/plain": [
       "False"
      ]
     },
     "execution_count": 8,
     "metadata": {},
     "output_type": "execute_result"
    }
   ],
   "source": [
    "#Usar el if, else y elif statement con and y or\n",
    "fechanacimiento = 1950\n",
    "sexo= 'Hombre'\n",
    "if (fechanacimiento>1988) and (fechanacimiento<1990):\n",
    "    print(\"Naciste en el ano 1989\")\n",
    "elif (fechanacimiento>1978) or (fechanacimiento>1988):\n",
    "    print(\"Eres mayor de edad al menos\")\n",
    "else:\n",
    "    print('Ni naciste en el 1989 ni eres mayor de edad')\n",
    "print('Gracias por participar')\n",
    "not(True)"
   ]
  },
  {
   "cell_type": "code",
   "execution_count": null,
   "id": "7106f322",
   "metadata": {},
   "outputs": [],
   "source": []
  }
 ],
 "metadata": {
  "kernelspec": {
   "display_name": "Python 3 (ipykernel)",
   "language": "python",
   "name": "python3"
  },
  "language_info": {
   "codemirror_mode": {
    "name": "ipython",
    "version": 3
   },
   "file_extension": ".py",
   "mimetype": "text/x-python",
   "name": "python",
   "nbconvert_exporter": "python",
   "pygments_lexer": "ipython3",
   "version": "3.10.7"
  }
 },
 "nbformat": 4,
 "nbformat_minor": 5
}
